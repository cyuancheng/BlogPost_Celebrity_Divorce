{
 "cells": [
  {
   "cell_type": "markdown",
   "metadata": {},
   "source": [
    "# Introduction\n",
    "Integrate the data from actor and actress"
   ]
  },
  {
   "cell_type": "markdown",
   "metadata": {},
   "source": [
    "## Imports"
   ]
  },
  {
   "cell_type": "code",
   "execution_count": 3,
   "metadata": {},
   "outputs": [],
   "source": [
    "# Data manipulation\n",
    "import pandas as pd\n",
    "import numpy as np\n",
    "import matplotlib.pyplot as plt\n",
    "import seaborn  as sns\n",
    "import ast\n",
    "\n",
    "\n",
    "# Import sklearn.preprocessing.StandardScaler\n",
    "from sklearn.preprocessing import MinMaxScaler\n",
    "\n",
    "from sklearn import svm, tree, linear_model, neighbors, naive_bayes, ensemble, discriminant_analysis, gaussian_process\n",
    "from sklearn.model_selection import train_test_split\n",
    "from sklearn.metrics import r2_score, mean_squared_error\n",
    "\n",
    "#from xgboost import XGBClassifier\n",
    "\n",
    "#Common Model Helpers\n",
    "from sklearn.preprocessing import OneHotEncoder, LabelEncoder\n",
    "from sklearn import feature_selection\n",
    "from sklearn import model_selection\n",
    "from sklearn import metrics\n",
    "\n",
    "import warnings\n",
    "warnings.filterwarnings('ignore')\n",
    "\n",
    "%matplotlib inline"
   ]
  },
  {
   "cell_type": "code",
   "execution_count": 12,
   "metadata": {},
   "outputs": [],
   "source": [
    "#import pandas as pd\n",
    "\n",
    "df_X = pd.read_csv('export_df_X_forML.csv')\n",
    "df_y = pd.read_csv('export_df_y_forML.csv')"
   ]
  },
  {
   "cell_type": "markdown",
   "metadata": {},
   "source": [
    "### data"
   ]
  },
  {
   "cell_type": "code",
   "execution_count": 68,
   "metadata": {},
   "outputs": [
    {
     "data": {
      "text/html": [
       "<div>\n",
       "<style scoped>\n",
       "    .dataframe tbody tr th:only-of-type {\n",
       "        vertical-align: middle;\n",
       "    }\n",
       "\n",
       "    .dataframe tbody tr th {\n",
       "        vertical-align: top;\n",
       "    }\n",
       "\n",
       "    .dataframe thead th {\n",
       "        text-align: right;\n",
       "    }\n",
       "</style>\n",
       "<table border=\"1\" class=\"dataframe\">\n",
       "  <thead>\n",
       "    <tr style=\"text-align: right;\">\n",
       "      <th></th>\n",
       "      <th>age</th>\n",
       "      <th>age_diff</th>\n",
       "      <th>zodiac</th>\n",
       "      <th>zodiac_sp</th>\n",
       "      <th>num_of_m</th>\n",
       "      <th>num_of_m_sp</th>\n",
       "      <th>num_of_child_cl</th>\n",
       "      <th>num_of_child_sp_cl</th>\n",
       "      <th>num_of_role</th>\n",
       "      <th>num_of_role_sp</th>\n",
       "      <th>...</th>\n",
       "      <th>geohash_wvuxp6g</th>\n",
       "      <th>geohash_wy7b1hn</th>\n",
       "      <th>geohash_wyd6fyj</th>\n",
       "      <th>geohash_wydm9qy</th>\n",
       "      <th>geohash_xn6mfnb</th>\n",
       "      <th>geohash_xn76cyd</th>\n",
       "      <th>geohash_xn76u57</th>\n",
       "      <th>geohash_xpttfun</th>\n",
       "      <th>geohash_z0me0j8</th>\n",
       "      <th>geohash_nan</th>\n",
       "    </tr>\n",
       "  </thead>\n",
       "  <tbody>\n",
       "    <tr>\n",
       "      <th>0</th>\n",
       "      <td>0.262917</td>\n",
       "      <td>0.509026</td>\n",
       "      <td>0.545455</td>\n",
       "      <td>0.517139</td>\n",
       "      <td>0.50</td>\n",
       "      <td>0.170364</td>\n",
       "      <td>0.111111</td>\n",
       "      <td>0.177773</td>\n",
       "      <td>0.4</td>\n",
       "      <td>0.151194</td>\n",
       "      <td>...</td>\n",
       "      <td>0</td>\n",
       "      <td>0</td>\n",
       "      <td>0</td>\n",
       "      <td>0</td>\n",
       "      <td>0</td>\n",
       "      <td>0</td>\n",
       "      <td>0</td>\n",
       "      <td>0</td>\n",
       "      <td>0</td>\n",
       "      <td>0</td>\n",
       "    </tr>\n",
       "    <tr>\n",
       "      <th>1</th>\n",
       "      <td>0.306983</td>\n",
       "      <td>0.465491</td>\n",
       "      <td>0.636364</td>\n",
       "      <td>0.818182</td>\n",
       "      <td>0.25</td>\n",
       "      <td>0.250000</td>\n",
       "      <td>0.111111</td>\n",
       "      <td>0.142857</td>\n",
       "      <td>0.0</td>\n",
       "      <td>0.000000</td>\n",
       "      <td>...</td>\n",
       "      <td>0</td>\n",
       "      <td>0</td>\n",
       "      <td>0</td>\n",
       "      <td>0</td>\n",
       "      <td>0</td>\n",
       "      <td>0</td>\n",
       "      <td>0</td>\n",
       "      <td>0</td>\n",
       "      <td>0</td>\n",
       "      <td>0</td>\n",
       "    </tr>\n",
       "    <tr>\n",
       "      <th>2</th>\n",
       "      <td>0.348209</td>\n",
       "      <td>0.509026</td>\n",
       "      <td>0.507566</td>\n",
       "      <td>0.517139</td>\n",
       "      <td>0.00</td>\n",
       "      <td>0.170364</td>\n",
       "      <td>0.111111</td>\n",
       "      <td>0.177773</td>\n",
       "      <td>0.2</td>\n",
       "      <td>0.151194</td>\n",
       "      <td>...</td>\n",
       "      <td>0</td>\n",
       "      <td>0</td>\n",
       "      <td>0</td>\n",
       "      <td>0</td>\n",
       "      <td>0</td>\n",
       "      <td>0</td>\n",
       "      <td>0</td>\n",
       "      <td>0</td>\n",
       "      <td>0</td>\n",
       "      <td>0</td>\n",
       "    </tr>\n",
       "    <tr>\n",
       "      <th>3</th>\n",
       "      <td>0.348209</td>\n",
       "      <td>0.509026</td>\n",
       "      <td>0.507566</td>\n",
       "      <td>0.517139</td>\n",
       "      <td>0.00</td>\n",
       "      <td>0.170364</td>\n",
       "      <td>0.145562</td>\n",
       "      <td>0.177773</td>\n",
       "      <td>0.0</td>\n",
       "      <td>0.151194</td>\n",
       "      <td>...</td>\n",
       "      <td>0</td>\n",
       "      <td>0</td>\n",
       "      <td>0</td>\n",
       "      <td>0</td>\n",
       "      <td>0</td>\n",
       "      <td>0</td>\n",
       "      <td>0</td>\n",
       "      <td>0</td>\n",
       "      <td>0</td>\n",
       "      <td>0</td>\n",
       "    </tr>\n",
       "    <tr>\n",
       "      <th>4</th>\n",
       "      <td>0.060952</td>\n",
       "      <td>0.509026</td>\n",
       "      <td>0.909091</td>\n",
       "      <td>0.517139</td>\n",
       "      <td>0.00</td>\n",
       "      <td>0.170364</td>\n",
       "      <td>0.145562</td>\n",
       "      <td>0.177773</td>\n",
       "      <td>0.2</td>\n",
       "      <td>0.151194</td>\n",
       "      <td>...</td>\n",
       "      <td>0</td>\n",
       "      <td>0</td>\n",
       "      <td>0</td>\n",
       "      <td>0</td>\n",
       "      <td>0</td>\n",
       "      <td>0</td>\n",
       "      <td>0</td>\n",
       "      <td>0</td>\n",
       "      <td>0</td>\n",
       "      <td>0</td>\n",
       "    </tr>\n",
       "  </tbody>\n",
       "</table>\n",
       "<p>5 rows × 1191 columns</p>\n",
       "</div>"
      ],
      "text/plain": [
       "        age  age_diff    zodiac  zodiac_sp  num_of_m  num_of_m_sp  \\\n",
       "0  0.262917  0.509026  0.545455   0.517139      0.50     0.170364   \n",
       "1  0.306983  0.465491  0.636364   0.818182      0.25     0.250000   \n",
       "2  0.348209  0.509026  0.507566   0.517139      0.00     0.170364   \n",
       "3  0.348209  0.509026  0.507566   0.517139      0.00     0.170364   \n",
       "4  0.060952  0.509026  0.909091   0.517139      0.00     0.170364   \n",
       "\n",
       "   num_of_child_cl  num_of_child_sp_cl  num_of_role  num_of_role_sp  ...  \\\n",
       "0         0.111111            0.177773          0.4        0.151194  ...   \n",
       "1         0.111111            0.142857          0.0        0.000000  ...   \n",
       "2         0.111111            0.177773          0.2        0.151194  ...   \n",
       "3         0.145562            0.177773          0.0        0.151194  ...   \n",
       "4         0.145562            0.177773          0.2        0.151194  ...   \n",
       "\n",
       "   geohash_wvuxp6g  geohash_wy7b1hn  geohash_wyd6fyj  geohash_wydm9qy  \\\n",
       "0                0                0                0                0   \n",
       "1                0                0                0                0   \n",
       "2                0                0                0                0   \n",
       "3                0                0                0                0   \n",
       "4                0                0                0                0   \n",
       "\n",
       "   geohash_xn6mfnb  geohash_xn76cyd  geohash_xn76u57  geohash_xpttfun  \\\n",
       "0                0                0                0                0   \n",
       "1                0                0                0                0   \n",
       "2                0                0                0                0   \n",
       "3                0                0                0                0   \n",
       "4                0                0                0                0   \n",
       "\n",
       "   geohash_z0me0j8  geohash_nan  \n",
       "0                0            0  \n",
       "1                0            0  \n",
       "2                0            0  \n",
       "3                0            0  \n",
       "4                0            0  \n",
       "\n",
       "[5 rows x 1191 columns]"
      ]
     },
     "execution_count": 68,
     "metadata": {},
     "output_type": "execute_result"
    }
   ],
   "source": [
    "df_X.head()"
   ]
  },
  {
   "cell_type": "code",
   "execution_count": 65,
   "metadata": {},
   "outputs": [],
   "source": [
    "df_X['sex'].replace(['F','M'],[0,1],inplace=True)"
   ]
  },
  {
   "cell_type": "code",
   "execution_count": 15,
   "metadata": {},
   "outputs": [
    {
     "data": {
      "text/html": [
       "<div>\n",
       "<style scoped>\n",
       "    .dataframe tbody tr th:only-of-type {\n",
       "        vertical-align: middle;\n",
       "    }\n",
       "\n",
       "    .dataframe tbody tr th {\n",
       "        vertical-align: top;\n",
       "    }\n",
       "\n",
       "    .dataframe thead th {\n",
       "        text-align: right;\n",
       "    }\n",
       "</style>\n",
       "<table border=\"1\" class=\"dataframe\">\n",
       "  <thead>\n",
       "    <tr style=\"text-align: right;\">\n",
       "      <th></th>\n",
       "      <th>divorce</th>\n",
       "    </tr>\n",
       "  </thead>\n",
       "  <tbody>\n",
       "    <tr>\n",
       "      <th>0</th>\n",
       "      <td>1.0</td>\n",
       "    </tr>\n",
       "    <tr>\n",
       "      <th>1</th>\n",
       "      <td>1.0</td>\n",
       "    </tr>\n",
       "    <tr>\n",
       "      <th>2</th>\n",
       "      <td>0.0</td>\n",
       "    </tr>\n",
       "    <tr>\n",
       "      <th>3</th>\n",
       "      <td>1.0</td>\n",
       "    </tr>\n",
       "    <tr>\n",
       "      <th>4</th>\n",
       "      <td>0.0</td>\n",
       "    </tr>\n",
       "  </tbody>\n",
       "</table>\n",
       "</div>"
      ],
      "text/plain": [
       "   divorce\n",
       "0      1.0\n",
       "1      1.0\n",
       "2      0.0\n",
       "3      1.0\n",
       "4      0.0"
      ]
     },
     "execution_count": 15,
     "metadata": {},
     "output_type": "execute_result"
    }
   ],
   "source": [
    "df_y.head()"
   ]
  },
  {
   "cell_type": "code",
   "execution_count": 69,
   "metadata": {},
   "outputs": [
    {
     "data": {
      "text/html": [
       "<div>\n",
       "<style scoped>\n",
       "    .dataframe tbody tr th:only-of-type {\n",
       "        vertical-align: middle;\n",
       "    }\n",
       "\n",
       "    .dataframe tbody tr th {\n",
       "        vertical-align: top;\n",
       "    }\n",
       "\n",
       "    .dataframe thead th {\n",
       "        text-align: right;\n",
       "    }\n",
       "</style>\n",
       "<table border=\"1\" class=\"dataframe\">\n",
       "  <thead>\n",
       "    <tr style=\"text-align: right;\">\n",
       "      <th></th>\n",
       "      <th>age</th>\n",
       "      <th>age_diff</th>\n",
       "      <th>zodiac</th>\n",
       "      <th>zodiac_sp</th>\n",
       "      <th>num_of_m</th>\n",
       "      <th>num_of_m_sp</th>\n",
       "      <th>num_of_child_cl</th>\n",
       "      <th>num_of_child_sp_cl</th>\n",
       "      <th>num_of_role</th>\n",
       "      <th>num_of_role_sp</th>\n",
       "      <th>...</th>\n",
       "      <th>geohash_wvuxp6g</th>\n",
       "      <th>geohash_wy7b1hn</th>\n",
       "      <th>geohash_wyd6fyj</th>\n",
       "      <th>geohash_wydm9qy</th>\n",
       "      <th>geohash_xn6mfnb</th>\n",
       "      <th>geohash_xn76cyd</th>\n",
       "      <th>geohash_xn76u57</th>\n",
       "      <th>geohash_xpttfun</th>\n",
       "      <th>geohash_z0me0j8</th>\n",
       "      <th>geohash_nan</th>\n",
       "    </tr>\n",
       "  </thead>\n",
       "  <tbody>\n",
       "    <tr>\n",
       "      <th>0</th>\n",
       "      <td>0.262917</td>\n",
       "      <td>0.509026</td>\n",
       "      <td>0.545455</td>\n",
       "      <td>0.517139</td>\n",
       "      <td>0.50</td>\n",
       "      <td>0.170364</td>\n",
       "      <td>0.111111</td>\n",
       "      <td>0.177773</td>\n",
       "      <td>0.4</td>\n",
       "      <td>0.151194</td>\n",
       "      <td>...</td>\n",
       "      <td>0</td>\n",
       "      <td>0</td>\n",
       "      <td>0</td>\n",
       "      <td>0</td>\n",
       "      <td>0</td>\n",
       "      <td>0</td>\n",
       "      <td>0</td>\n",
       "      <td>0</td>\n",
       "      <td>0</td>\n",
       "      <td>0</td>\n",
       "    </tr>\n",
       "    <tr>\n",
       "      <th>1</th>\n",
       "      <td>0.306983</td>\n",
       "      <td>0.465491</td>\n",
       "      <td>0.636364</td>\n",
       "      <td>0.818182</td>\n",
       "      <td>0.25</td>\n",
       "      <td>0.250000</td>\n",
       "      <td>0.111111</td>\n",
       "      <td>0.142857</td>\n",
       "      <td>0.0</td>\n",
       "      <td>0.000000</td>\n",
       "      <td>...</td>\n",
       "      <td>0</td>\n",
       "      <td>0</td>\n",
       "      <td>0</td>\n",
       "      <td>0</td>\n",
       "      <td>0</td>\n",
       "      <td>0</td>\n",
       "      <td>0</td>\n",
       "      <td>0</td>\n",
       "      <td>0</td>\n",
       "      <td>0</td>\n",
       "    </tr>\n",
       "    <tr>\n",
       "      <th>2</th>\n",
       "      <td>0.348209</td>\n",
       "      <td>0.509026</td>\n",
       "      <td>0.507566</td>\n",
       "      <td>0.517139</td>\n",
       "      <td>0.00</td>\n",
       "      <td>0.170364</td>\n",
       "      <td>0.111111</td>\n",
       "      <td>0.177773</td>\n",
       "      <td>0.2</td>\n",
       "      <td>0.151194</td>\n",
       "      <td>...</td>\n",
       "      <td>0</td>\n",
       "      <td>0</td>\n",
       "      <td>0</td>\n",
       "      <td>0</td>\n",
       "      <td>0</td>\n",
       "      <td>0</td>\n",
       "      <td>0</td>\n",
       "      <td>0</td>\n",
       "      <td>0</td>\n",
       "      <td>0</td>\n",
       "    </tr>\n",
       "    <tr>\n",
       "      <th>3</th>\n",
       "      <td>0.348209</td>\n",
       "      <td>0.509026</td>\n",
       "      <td>0.507566</td>\n",
       "      <td>0.517139</td>\n",
       "      <td>0.00</td>\n",
       "      <td>0.170364</td>\n",
       "      <td>0.145562</td>\n",
       "      <td>0.177773</td>\n",
       "      <td>0.0</td>\n",
       "      <td>0.151194</td>\n",
       "      <td>...</td>\n",
       "      <td>0</td>\n",
       "      <td>0</td>\n",
       "      <td>0</td>\n",
       "      <td>0</td>\n",
       "      <td>0</td>\n",
       "      <td>0</td>\n",
       "      <td>0</td>\n",
       "      <td>0</td>\n",
       "      <td>0</td>\n",
       "      <td>0</td>\n",
       "    </tr>\n",
       "    <tr>\n",
       "      <th>4</th>\n",
       "      <td>0.060952</td>\n",
       "      <td>0.509026</td>\n",
       "      <td>0.909091</td>\n",
       "      <td>0.517139</td>\n",
       "      <td>0.00</td>\n",
       "      <td>0.170364</td>\n",
       "      <td>0.145562</td>\n",
       "      <td>0.177773</td>\n",
       "      <td>0.2</td>\n",
       "      <td>0.151194</td>\n",
       "      <td>...</td>\n",
       "      <td>0</td>\n",
       "      <td>0</td>\n",
       "      <td>0</td>\n",
       "      <td>0</td>\n",
       "      <td>0</td>\n",
       "      <td>0</td>\n",
       "      <td>0</td>\n",
       "      <td>0</td>\n",
       "      <td>0</td>\n",
       "      <td>0</td>\n",
       "    </tr>\n",
       "  </tbody>\n",
       "</table>\n",
       "<p>5 rows × 1191 columns</p>\n",
       "</div>"
      ],
      "text/plain": [
       "        age  age_diff    zodiac  zodiac_sp  num_of_m  num_of_m_sp  \\\n",
       "0  0.262917  0.509026  0.545455   0.517139      0.50     0.170364   \n",
       "1  0.306983  0.465491  0.636364   0.818182      0.25     0.250000   \n",
       "2  0.348209  0.509026  0.507566   0.517139      0.00     0.170364   \n",
       "3  0.348209  0.509026  0.507566   0.517139      0.00     0.170364   \n",
       "4  0.060952  0.509026  0.909091   0.517139      0.00     0.170364   \n",
       "\n",
       "   num_of_child_cl  num_of_child_sp_cl  num_of_role  num_of_role_sp  ...  \\\n",
       "0         0.111111            0.177773          0.4        0.151194  ...   \n",
       "1         0.111111            0.142857          0.0        0.000000  ...   \n",
       "2         0.111111            0.177773          0.2        0.151194  ...   \n",
       "3         0.145562            0.177773          0.0        0.151194  ...   \n",
       "4         0.145562            0.177773          0.2        0.151194  ...   \n",
       "\n",
       "   geohash_wvuxp6g  geohash_wy7b1hn  geohash_wyd6fyj  geohash_wydm9qy  \\\n",
       "0                0                0                0                0   \n",
       "1                0                0                0                0   \n",
       "2                0                0                0                0   \n",
       "3                0                0                0                0   \n",
       "4                0                0                0                0   \n",
       "\n",
       "   geohash_xn6mfnb  geohash_xn76cyd  geohash_xn76u57  geohash_xpttfun  \\\n",
       "0                0                0                0                0   \n",
       "1                0                0                0                0   \n",
       "2                0                0                0                0   \n",
       "3                0                0                0                0   \n",
       "4                0                0                0                0   \n",
       "\n",
       "   geohash_z0me0j8  geohash_nan  \n",
       "0                0            0  \n",
       "1                0            0  \n",
       "2                0            0  \n",
       "3                0            0  \n",
       "4                0            0  \n",
       "\n",
       "[5 rows x 1191 columns]"
      ]
     },
     "metadata": {},
     "output_type": "display_data"
    }
   ],
   "source": [
    "# Initialize a scaler, then apply it to the features\n",
    "scaler = MinMaxScaler() # default=(0, 1)\n",
    "numerical = ['age','age_diff', 'zodiac','zodiac_sp','num_of_m', 'num_of_m_sp','num_of_child_cl',\n",
    "                         'num_of_child_sp_cl','num_of_role','num_of_role_sp','geo_distance',\n",
    "                         'age_m_1','age_div_1','age_m_sp_1','age_div_sp_1']\n",
    "\n",
    "df_X_minmax_transform = df_X#pd.DataFrame(data = features_log_transformed)\n",
    "df_X_minmax_transform[numerical] = scaler.fit_transform(df_X[numerical])\n",
    "\n",
    "# Show an example of a record with scaling applied\n",
    "display(df_X_minmax_transform.head(n = 5))"
   ]
  },
  {
   "cell_type": "code",
   "execution_count": null,
   "metadata": {},
   "outputs": [],
   "source": []
  },
  {
   "cell_type": "markdown",
   "metadata": {},
   "source": [
    "split data"
   ]
  },
  {
   "cell_type": "code",
   "execution_count": 71,
   "metadata": {},
   "outputs": [
    {
     "name": "stdout",
     "output_type": "stream",
     "text": [
      "Training set has 2472 samples.\n",
      "Testing set has 618 samples.\n"
     ]
    }
   ],
   "source": [
    "# Import train_test_split\n",
    "from sklearn.model_selection import train_test_split\n",
    "\n",
    "# Split the 'features' and 'income' data into training and testing sets\n",
    "X_train, X_test, y_train, y_test = train_test_split(df_X_minmax_transform, \n",
    "                                                    df_y, \n",
    "                                                    test_size = 0.2, \n",
    "                                                    random_state = 12)\n",
    "\n",
    "# Show the results of the split\n",
    "print(\"Training set has {} samples.\".format(X_train.shape[0]))\n",
    "print(\"Testing set has {} samples.\".format(X_test.shape[0]))"
   ]
  },
  {
   "cell_type": "code",
   "execution_count": 77,
   "metadata": {},
   "outputs": [
    {
     "name": "stdout",
     "output_type": "stream",
     "text": [
      "Accuracy of logistic regression classifier on test set: 0.85\n"
     ]
    }
   ],
   "source": [
    "from sklearn.linear_model import LogisticRegression\n",
    "\n",
    "#Split into train and test\n",
    "#X_train, X_test, y_train, y_test = train_test_split(X, y, test_size = .30, random_state=42) \n",
    "\n",
    "lm_model = LogisticRegression(random_state=0) # Instantiate\n",
    "\n",
    "\n",
    "lm_model.fit(X_train, y_train) #Fit\n",
    "\n",
    "#Predict and score the model\n",
    "y_test_preds = lm_model.predict(X_test) \n",
    "\n",
    "print('Accuracy of logistic regression classifier on test set: {:.2f}'.format(lm_model.score(X_test, y_test)))\n",
    "\n",
    "#\"The r-squared score for your model was {} on {} values.\".format(r2_score(y_test, y_test_preds), len(y_test))"
   ]
  },
  {
   "cell_type": "code",
   "execution_count": 79,
   "metadata": {},
   "outputs": [
    {
     "name": "stdout",
     "output_type": "stream",
     "text": [
      "[[266   9]\n",
      " [ 81 262]]\n"
     ]
    }
   ],
   "source": [
    "from sklearn.metrics import confusion_matrix\n",
    "confusion_matrix = confusion_matrix(y_test, y_test_preds)\n",
    "print(confusion_matrix)"
   ]
  },
  {
   "cell_type": "code",
   "execution_count": 82,
   "metadata": {},
   "outputs": [
    {
     "name": "stdout",
     "output_type": "stream",
     "text": [
      "              precision    recall  f1-score   support\n",
      "\n",
      "         0.0       0.77      0.97      0.86       275\n",
      "         1.0       0.97      0.76      0.85       343\n",
      "\n",
      "   micro avg       0.85      0.85      0.85       618\n",
      "   macro avg       0.87      0.87      0.85       618\n",
      "weighted avg       0.88      0.85      0.85       618\n",
      "\n"
     ]
    }
   ],
   "source": [
    "from sklearn.metrics import classification_report\n",
    "print(classification_report(y_test, y_test_preds))"
   ]
  },
  {
   "cell_type": "code",
   "execution_count": 87,
   "metadata": {},
   "outputs": [
    {
     "data": {
      "image/png": "[encoded data removed]",
      "text/plain": [
       "<Figure size 432x288 with 1 Axes>"
      ]
     },
     "metadata": {
      "needs_background": "light"
     },
     "output_type": "display_data"
    }
   ],
   "source": [
    "from sklearn.metrics import roc_auc_score\n",
    "from sklearn.metrics import roc_curve\n",
    "logit_roc_auc = roc_auc_score(y_test, lm_model.predict(X_test) )\n",
    "fpr, tpr, thresholds = roc_curve(y_test, lm_model.predict(X_test))\n",
    "\n",
    "plt.figure()\n",
    "plt.plot(fpr, tpr, label='Logistic Regression (area = %0.2f)' % logit_roc_auc)\n",
    "plt.plot([0, 1], [0, 1],'r--')\n",
    "plt.xlim([0.0, 1.0])\n",
    "plt.ylim([0.0, 1.05])\n",
    "plt.xlabel('False Positive Rate')\n",
    "plt.ylabel('True Positive Rate')\n",
    "plt.title('Receiver operating characteristic')\n",
    "plt.legend(loc=\"lower right\")\n",
    "plt.savefig('Log_ROC')\n",
    "plt.show()"
   ]
  },
  {
   "cell_type": "code",
   "execution_count": 107,
   "metadata": {},
   "outputs": [
    {
     "data": {
      "text/html": [
       "<div>\n",
       "<style scoped>\n",
       "    .dataframe tbody tr th:only-of-type {\n",
       "        vertical-align: middle;\n",
       "    }\n",
       "\n",
       "    .dataframe tbody tr th {\n",
       "        vertical-align: top;\n",
       "    }\n",
       "\n",
       "    .dataframe thead th {\n",
       "        text-align: right;\n",
       "    }\n",
       "</style>\n",
       "<table border=\"1\" class=\"dataframe\">\n",
       "  <thead>\n",
       "    <tr style=\"text-align: right;\">\n",
       "      <th></th>\n",
       "      <th>est_int</th>\n",
       "      <th>coefs</th>\n",
       "      <th>abs_coefs</th>\n",
       "    </tr>\n",
       "  </thead>\n",
       "  <tbody>\n",
       "    <tr>\n",
       "      <th>4</th>\n",
       "      <td>num_of_m</td>\n",
       "      <td>12.362595</td>\n",
       "      <td>12.362595</td>\n",
       "    </tr>\n",
       "    <tr>\n",
       "      <th>12</th>\n",
       "      <td>age_div_1</td>\n",
       "      <td>4.346720</td>\n",
       "      <td>4.346720</td>\n",
       "    </tr>\n",
       "    <tr>\n",
       "      <th>11</th>\n",
       "      <td>age_m_1</td>\n",
       "      <td>-3.354726</td>\n",
       "      <td>3.354726</td>\n",
       "    </tr>\n",
       "    <tr>\n",
       "      <th>5</th>\n",
       "      <td>num_of_m_sp</td>\n",
       "      <td>2.655644</td>\n",
       "      <td>2.655644</td>\n",
       "    </tr>\n",
       "    <tr>\n",
       "      <th>0</th>\n",
       "      <td>age</td>\n",
       "      <td>2.120879</td>\n",
       "      <td>2.120879</td>\n",
       "    </tr>\n",
       "    <tr>\n",
       "      <th>399</th>\n",
       "      <td>geohash_c8xfrh9</td>\n",
       "      <td>1.285766</td>\n",
       "      <td>1.285766</td>\n",
       "    </tr>\n",
       "    <tr>\n",
       "      <th>795</th>\n",
       "      <td>geohash_dr4e394</td>\n",
       "      <td>-1.216431</td>\n",
       "      <td>1.216431</td>\n",
       "    </tr>\n",
       "    <tr>\n",
       "      <th>53</th>\n",
       "      <td>geohash_9q5c9c6</td>\n",
       "      <td>1.045222</td>\n",
       "      <td>1.045222</td>\n",
       "    </tr>\n",
       "    <tr>\n",
       "      <th>670</th>\n",
       "      <td>geohash_dpmuhfx</td>\n",
       "      <td>1.032433</td>\n",
       "      <td>1.032433</td>\n",
       "    </tr>\n",
       "    <tr>\n",
       "      <th>164</th>\n",
       "      <td>geohash_9ufwpsy</td>\n",
       "      <td>0.932379</td>\n",
       "      <td>0.932379</td>\n",
       "    </tr>\n",
       "    <tr>\n",
       "      <th>518</th>\n",
       "      <td>geohash_dng18e8</td>\n",
       "      <td>-0.925331</td>\n",
       "      <td>0.925331</td>\n",
       "    </tr>\n",
       "    <tr>\n",
       "      <th>72</th>\n",
       "      <td>geohash_9q5fjp3</td>\n",
       "      <td>0.906402</td>\n",
       "      <td>0.906402</td>\n",
       "    </tr>\n",
       "    <tr>\n",
       "      <th>786</th>\n",
       "      <td>geohash_dr460g7</td>\n",
       "      <td>0.861869</td>\n",
       "      <td>0.861869</td>\n",
       "    </tr>\n",
       "    <tr>\n",
       "      <th>465</th>\n",
       "      <td>geohash_djgzzxy</td>\n",
       "      <td>-0.824725</td>\n",
       "      <td>0.824725</td>\n",
       "    </tr>\n",
       "    <tr>\n",
       "      <th>996</th>\n",
       "      <td>geohash_drkmd70</td>\n",
       "      <td>0.815748</td>\n",
       "      <td>0.815748</td>\n",
       "    </tr>\n",
       "    <tr>\n",
       "      <th>847</th>\n",
       "      <td>geohash_dr5rmqv</td>\n",
       "      <td>0.792726</td>\n",
       "      <td>0.792726</td>\n",
       "    </tr>\n",
       "    <tr>\n",
       "      <th>13</th>\n",
       "      <td>age_m_sp_1</td>\n",
       "      <td>-0.783950</td>\n",
       "      <td>0.783950</td>\n",
       "    </tr>\n",
       "    <tr>\n",
       "      <th>14</th>\n",
       "      <td>age_div_sp_1</td>\n",
       "      <td>-0.783950</td>\n",
       "      <td>0.783950</td>\n",
       "    </tr>\n",
       "    <tr>\n",
       "      <th>945</th>\n",
       "      <td>geohash_dr7c8jv</td>\n",
       "      <td>0.772535</td>\n",
       "      <td>0.772535</td>\n",
       "    </tr>\n",
       "    <tr>\n",
       "      <th>23</th>\n",
       "      <td>geohash_9mudg3j</td>\n",
       "      <td>0.768319</td>\n",
       "      <td>0.768319</td>\n",
       "    </tr>\n",
       "  </tbody>\n",
       "</table>\n",
       "</div>"
      ],
      "text/plain": [
       "             est_int      coefs  abs_coefs\n",
       "4           num_of_m  12.362595  12.362595\n",
       "12         age_div_1   4.346720   4.346720\n",
       "11           age_m_1  -3.354726   3.354726\n",
       "5        num_of_m_sp   2.655644   2.655644\n",
       "0                age   2.120879   2.120879\n",
       "399  geohash_c8xfrh9   1.285766   1.285766\n",
       "795  geohash_dr4e394  -1.216431   1.216431\n",
       "53   geohash_9q5c9c6   1.045222   1.045222\n",
       "670  geohash_dpmuhfx   1.032433   1.032433\n",
       "164  geohash_9ufwpsy   0.932379   0.932379\n",
       "518  geohash_dng18e8  -0.925331   0.925331\n",
       "72   geohash_9q5fjp3   0.906402   0.906402\n",
       "786  geohash_dr460g7   0.861869   0.861869\n",
       "465  geohash_djgzzxy  -0.824725   0.824725\n",
       "996  geohash_drkmd70   0.815748   0.815748\n",
       "847  geohash_dr5rmqv   0.792726   0.792726\n",
       "13        age_m_sp_1  -0.783950   0.783950\n",
       "14      age_div_sp_1  -0.783950   0.783950\n",
       "945  geohash_dr7c8jv   0.772535   0.772535\n",
       "23   geohash_9mudg3j   0.768319   0.768319"
      ]
     },
     "execution_count": 107,
     "metadata": {},
     "output_type": "execute_result"
    }
   ],
   "source": [
    "def coef_weights(coefficients, X_train):\n",
    "    '''\n",
    "    INPUT:\n",
    "    coefficients - the coefficients of the linear model \n",
    "    X_train - the training data, so the column names can be used\n",
    "    OUTPUT:\n",
    "    coefs_df - a dataframe holding the coefficient, estimate, and abs(estimate)\n",
    "    \n",
    "    Provides a dataframe that can be used to understand the most influential coefficients\n",
    "    in a linear model by providing the coefficient estimates along with the name of the \n",
    "    variable attached to the coefficient.\n",
    "    '''\n",
    "    coefs_df = pd.DataFrame()\n",
    "    coefs_df['est_int'] = X_train.columns\n",
    "    coefs_df['coefs'] = lm_model.coef_[0]\n",
    "    coefs_df['abs_coefs'] = np.abs(lm_model.coef_[0])\n",
    "    coefs_df = coefs_df.sort_values('abs_coefs', ascending=False)\n",
    "    return coefs_df\n",
    "\n",
    "#Use the function\n",
    "coef_df = coef_weights(lm_model.coef_, X_train)\n",
    "##\n",
    "#A quick look at the top results\n",
    "coef_df.head(20)"
   ]
  },
  {
   "cell_type": "code",
   "execution_count": 105,
   "metadata": {},
   "outputs": [
    {
     "name": "stdout",
     "output_type": "stream",
     "text": [
      "(1, 1191)\n",
      "(2472, 1191)\n",
      "(1191,)\n",
      "(1191,)\n",
      "(1, 1191)\n"
     ]
    }
   ],
   "source": [
    "print(lm_model.coef_.shape)\n",
    "print(X_train.shape)\n",
    "print(lm_model.coef_[0].shape)\n",
    "print(X_train.columns.shape)\n",
    "print(np.abs(lm_model.coef_).shape)"
   ]
  },
  {
   "cell_type": "code",
   "execution_count": 113,
   "metadata": {},
   "outputs": [
    {
     "data": {
      "text/plain": [
       "45"
      ]
     },
     "execution_count": 113,
     "metadata": {},
     "output_type": "execute_result"
    }
   ],
   "source": [
    "df_X['geohash_dr4e394'].sum()"
   ]
  },
  {
   "cell_type": "code",
   "execution_count": 74,
   "metadata": {},
   "outputs": [
    {
     "data": {
      "text/plain": [
       "'The r-squared score for your model was 0.6720054480411619 on 618 values.'"
      ]
     },
     "execution_count": 74,
     "metadata": {},
     "output_type": "execute_result"
    }
   ],
   "source": [
    "from sklearn.linear_model import LinearRegression\n",
    "from sklearn.model_selection import train_test_split\n",
    "from sklearn.metrics import r2_score, mean_squared_error\n",
    "\n",
    "#X_train, X_test, y_train, y_test = train_test_split(X, y, test_size = .30, random_state=42) \n",
    "\n",
    "lm_model = LinearRegression(normalize=True) # Instantiate\n",
    "lm_model.fit(df_X, df_y) #Fit\n",
    "        \n",
    "#Predict and score the model\n",
    "y_test_preds = lm_model.predict(X_test) \n",
    "\"The r-squared score for your model was {} on {} values.\".format(r2_score(y_test, y_test_preds), len(y_test))"
   ]
  },
  {
   "cell_type": "code",
   "execution_count": null,
   "metadata": {},
   "outputs": [],
   "source": []
  },
  {
   "cell_type": "code",
   "execution_count": null,
   "metadata": {},
   "outputs": [],
   "source": []
  },
  {
   "cell_type": "code",
   "execution_count": null,
   "metadata": {},
   "outputs": [],
   "source": []
  },
  {
   "cell_type": "markdown",
   "metadata": {},
   "source": [
    "**2.** Divorce rate"
   ]
  },
  {
   "cell_type": "code",
   "execution_count": 67,
   "metadata": {},
   "outputs": [
    {
     "data": {
      "text/plain": [
       "'overall divorce rate =    53.95 %'"
      ]
     },
     "execution_count": 67,
     "metadata": {},
     "output_type": "execute_result"
    }
   ],
   "source": [
    "# calculate the divorce rate\n",
    "a = (df[df['divorce']==1]['divorce'].sum())/(df['divorce'].notnull().sum())*100\n",
    "\n",
    "\"overall divorce rate = {0:8.2f} %\".format(a)# "
   ]
  },
  {
   "cell_type": "code",
   "execution_count": 68,
   "metadata": {},
   "outputs": [
    {
     "data": {
      "text/plain": [
       "'overall divorce rate for male =    49.55 %'"
      ]
     },
     "execution_count": 68,
     "metadata": {},
     "output_type": "execute_result"
    }
   ],
   "source": [
    "a = df[(df['sex']=='M') & (df['divorce']==1)]['divorce'].sum()/(df[df['sex']=='M']['divorce'].notnull().sum())*100\n",
    "\"overall divorce rate for male = {0:8.2f} %\".format(a)# "
   ]
  },
  {
   "cell_type": "code",
   "execution_count": 69,
   "metadata": {},
   "outputs": [
    {
     "data": {
      "text/plain": [
       "'overall divorce rate for female =    62.11 %'"
      ]
     },
     "execution_count": 69,
     "metadata": {},
     "output_type": "execute_result"
    }
   ],
   "source": [
    "a = df[(df['sex']=='F') & (df['divorce']==1)]['divorce'].sum()/(df[df['sex']=='F']['divorce'].notnull().sum())*100\n",
    "\"overall divorce rate for female = {0:8.2f} %\".format(a)# "
   ]
  },
  {
   "cell_type": "code",
   "execution_count": 70,
   "metadata": {},
   "outputs": [
    {
     "data": {
      "image/png": "[encoded data removed]",
      "text/plain": [
       "<Figure size 360x360 with 1 Axes>"
      ]
     },
     "metadata": {
      "needs_background": "light"
     },
     "output_type": "display_data"
    }
   ],
   "source": [
    "# Set up a factorplot\n",
    "g = sns.factorplot(\"sex\", \"divorce\", data=df, kind=\"bar\", palette=\"muted\", legend=False)\n",
    "                   \n",
    "# Show plot\n",
    "plt.show()"
   ]
  },
  {
   "cell_type": "code",
   "execution_count": 71,
   "metadata": {},
   "outputs": [
    {
     "data": {
      "image/png": "[encoded data removed]",
      "text/plain": [
       "<Figure size 432x288 with 1 Axes>"
      ]
     },
     "metadata": {
      "needs_background": "light"
     },
     "output_type": "display_data"
    }
   ],
   "source": [
    "# calculate the divorce rate\n",
    "(df['divorce'].value_counts()/df['divorce'].notnull().sum()).plot(kind=\"bar\")\n",
    "plt.title(\"divoice rate (include male and female)\");"
   ]
  },
  {
   "cell_type": "code",
   "execution_count": 101,
   "metadata": {},
   "outputs": [
    {
     "data": {
      "image/png": "[encoded data removed]",
      "text/plain": [
       "<Figure size 432x288 with 1 Axes>"
      ]
     },
     "metadata": {
      "needs_background": "light"
     },
     "output_type": "display_data"
    }
   ],
   "source": [
    "ax = sns.countplot(x=\"num_of_m\", data=df)"
   ]
  },
  {
   "cell_type": "code",
   "execution_count": 73,
   "metadata": {},
   "outputs": [
    {
     "data": {
      "text/plain": [
       "Index(['name', 'bday', 'name_sp', 'num_of_child', 'education', 'role',\n",
       "       'birthplace', 'bday_sp', 'birthplace_sp', 'role_sp', 'name_sp_sp',\n",
       "       'num_of_child_sp', 'age_diff', 'age', 'age_spouse', 'name_sp_cl',\n",
       "       'year_m', 'year_div', 'name_sp_sp_cl', 'year_m_sp', 'year_div_sp',\n",
       "       'num_of_child_cl', 'num_of_child_sp_cl', 'name_sp_cl.1', 'num_of_m',\n",
       "       'name_sp_sp_cl.1', 'num_of_m_sp', 'num_of_role', 'num_of_role_sp',\n",
       "       'geohash', 'geohash_sp', 'geo_distance', 'zodiac', 'zodiac_sp', 'sex',\n",
       "       'divorce', 'year_m_1', 'year_div_1', 'year_m_sp_1', 'year_div_sp_1',\n",
       "       'age_m_1', 'age_div_1', 'age_m_sp_1', 'age_div_sp_1'],\n",
       "      dtype='object')"
      ]
     },
     "execution_count": 73,
     "metadata": {},
     "output_type": "execute_result"
    }
   ],
   "source": [
    "df.columns"
   ]
  },
  {
   "cell_type": "code",
   "execution_count": 80,
   "metadata": {},
   "outputs": [
    {
     "data": {
      "image/png": "[encoded data removed]",
      "text/plain": [
       "<Figure size 432x432 with 3 Axes>"
      ]
     },
     "metadata": {
      "needs_background": "light"
     },
     "output_type": "display_data"
    }
   ],
   "source": [
    "#sns.distplot('age', data = df)\n",
    "sns.jointplot(x='divorce', y='age_diff', data=df);"
   ]
  },
  {
   "cell_type": "code",
   "execution_count": 109,
   "metadata": {},
   "outputs": [],
   "source": [
    "df_year = df[['name','year_m', 'year_div']]"
   ]
  },
  {
   "cell_type": "code",
   "execution_count": 121,
   "metadata": {},
   "outputs": [],
   "source": [
    "df_year = df_year.dropna()\n",
    "df_year = df_year.reset_index()"
   ]
  },
  {
   "cell_type": "code",
   "execution_count": 126,
   "metadata": {},
   "outputs": [
    {
     "name": "stdout",
     "output_type": "stream",
     "text": [
      "(1364, 4)\n"
     ]
    },
    {
     "data": {
      "text/html": [
       "<div>\n",
       "<style scoped>\n",
       "    .dataframe tbody tr th:only-of-type {\n",
       "        vertical-align: middle;\n",
       "    }\n",
       "\n",
       "    .dataframe tbody tr th {\n",
       "        vertical-align: top;\n",
       "    }\n",
       "\n",
       "    .dataframe thead th {\n",
       "        text-align: right;\n",
       "    }\n",
       "</style>\n",
       "<table border=\"1\" class=\"dataframe\">\n",
       "  <thead>\n",
       "    <tr style=\"text-align: right;\">\n",
       "      <th></th>\n",
       "      <th>index</th>\n",
       "      <th>name</th>\n",
       "      <th>year_m</th>\n",
       "      <th>year_div</th>\n",
       "    </tr>\n",
       "  </thead>\n",
       "  <tbody>\n",
       "    <tr>\n",
       "      <th>0</th>\n",
       "      <td>1</td>\n",
       "      <td>Bruce Abbott</td>\n",
       "      <td>[1982, 1994]</td>\n",
       "      <td>[1989]</td>\n",
       "    </tr>\n",
       "    <tr>\n",
       "      <th>1</th>\n",
       "      <td>9</td>\n",
       "      <td>Don Adams</td>\n",
       "      <td>[1947, 1960, 1977]</td>\n",
       "      <td>[1960, 1976, 1990]</td>\n",
       "    </tr>\n",
       "    <tr>\n",
       "      <th>2</th>\n",
       "      <td>11</td>\n",
       "      <td>Nick Adams</td>\n",
       "      <td>[1959]</td>\n",
       "      <td>[1965]</td>\n",
       "    </tr>\n",
       "    <tr>\n",
       "      <th>3</th>\n",
       "      <td>16</td>\n",
       "      <td>Paul Adelstein</td>\n",
       "      <td>[2006]</td>\n",
       "      <td>[2017]</td>\n",
       "    </tr>\n",
       "    <tr>\n",
       "      <th>4</th>\n",
       "      <td>17</td>\n",
       "      <td>Luther Adler</td>\n",
       "      <td>[1938, 1959]</td>\n",
       "      <td>[1946]</td>\n",
       "    </tr>\n",
       "    <tr>\n",
       "      <th>5</th>\n",
       "      <td>18</td>\n",
       "      <td>Matt Adler</td>\n",
       "      <td>[1993, 2000]</td>\n",
       "      <td>[1995]</td>\n",
       "    </tr>\n",
       "    <tr>\n",
       "      <th>6</th>\n",
       "      <td>20</td>\n",
       "      <td>Ben Affleck</td>\n",
       "      <td>[2005]</td>\n",
       "      <td>[2018]</td>\n",
       "    </tr>\n",
       "    <tr>\n",
       "      <th>7</th>\n",
       "      <td>21</td>\n",
       "      <td>Casey Affleck</td>\n",
       "      <td>[2006]</td>\n",
       "      <td>[2017]</td>\n",
       "    </tr>\n",
       "    <tr>\n",
       "      <th>8</th>\n",
       "      <td>22</td>\n",
       "      <td>John Agar</td>\n",
       "      <td>[1945, 1951]</td>\n",
       "      <td>[1950]</td>\n",
       "    </tr>\n",
       "    <tr>\n",
       "      <th>9</th>\n",
       "      <td>23</td>\n",
       "      <td>Charles Aidman</td>\n",
       "      <td>[1957, 1969]</td>\n",
       "      <td>[1967]</td>\n",
       "    </tr>\n",
       "  </tbody>\n",
       "</table>\n",
       "</div>"
      ],
      "text/plain": [
       "   index            name              year_m            year_div\n",
       "0      1    Bruce Abbott        [1982, 1994]              [1989]\n",
       "1      9       Don Adams  [1947, 1960, 1977]  [1960, 1976, 1990]\n",
       "2     11      Nick Adams              [1959]              [1965]\n",
       "3     16  Paul Adelstein              [2006]              [2017]\n",
       "4     17    Luther Adler        [1938, 1959]              [1946]\n",
       "5     18      Matt Adler        [1993, 2000]              [1995]\n",
       "6     20     Ben Affleck              [2005]              [2018]\n",
       "7     21   Casey Affleck              [2006]              [2017]\n",
       "8     22       John Agar        [1945, 1951]              [1950]\n",
       "9     23  Charles Aidman        [1957, 1969]              [1967]"
      ]
     },
     "execution_count": 126,
     "metadata": {},
     "output_type": "execute_result"
    }
   ],
   "source": [
    "print(df_year.shape)\n",
    "df_year.head(10)"
   ]
  },
  {
   "cell_type": "code",
   "execution_count": 156,
   "metadata": {},
   "outputs": [],
   "source": [
    "num_year_m = []\n",
    "num_year_div = []\n",
    "for i in range(len(df_year)):\n",
    "    try:\n",
    "        num_year_m.append(len(ast.literal_eval(df_year['year_m'][i])))\n",
    "        num_year_div.append(len(ast.literal_eval(df_year['year_div'][i])))\n",
    "    except:\n",
    "        num_year_m.append(np.nan)\n",
    "        num_year_div.append(np.nan)"
   ]
  },
  {
   "cell_type": "code",
   "execution_count": 158,
   "metadata": {},
   "outputs": [],
   "source": [
    "df_num_year_m = pd.DataFrame({'num_year_m':num_year_m, 'num_year_div':num_year_div})"
   ]
  },
  {
   "cell_type": "code",
   "execution_count": 160,
   "metadata": {},
   "outputs": [],
   "source": [
    "df_year = pd.concat([df_year, df_num_year_m], axis =1)"
   ]
  },
  {
   "cell_type": "code",
   "execution_count": 163,
   "metadata": {},
   "outputs": [],
   "source": [
    "df_year['mar_stage'] = df_year['num_year_m']  - df_year['num_year_div']"
   ]
  },
  {
   "cell_type": "code",
   "execution_count": 170,
   "metadata": {},
   "outputs": [
    {
     "data": {
      "text/html": [
       "<div>\n",
       "<style scoped>\n",
       "    .dataframe tbody tr th:only-of-type {\n",
       "        vertical-align: middle;\n",
       "    }\n",
       "\n",
       "    .dataframe tbody tr th {\n",
       "        vertical-align: top;\n",
       "    }\n",
       "\n",
       "    .dataframe thead th {\n",
       "        text-align: right;\n",
       "    }\n",
       "</style>\n",
       "<table border=\"1\" class=\"dataframe\">\n",
       "  <thead>\n",
       "    <tr style=\"text-align: right;\">\n",
       "      <th></th>\n",
       "      <th>index</th>\n",
       "      <th>name</th>\n",
       "      <th>year_m</th>\n",
       "      <th>year_div</th>\n",
       "      <th>num_year_m</th>\n",
       "      <th>num_year_div</th>\n",
       "      <th>mar_stage</th>\n",
       "    </tr>\n",
       "  </thead>\n",
       "  <tbody>\n",
       "    <tr>\n",
       "      <th>955</th>\n",
       "      <td>2343</td>\n",
       "      <td>Sharon Farrell</td>\n",
       "      <td>[1962, 1965, 1969, 1973, 1974]</td>\n",
       "      <td>[1962]</td>\n",
       "      <td>5</td>\n",
       "      <td>1</td>\n",
       "      <td>4</td>\n",
       "    </tr>\n",
       "    <tr>\n",
       "      <th>638</th>\n",
       "      <td>1681</td>\n",
       "      <td>George Segal</td>\n",
       "      <td>[1956, 1983, 1996]</td>\n",
       "      <td>[1983]</td>\n",
       "      <td>3</td>\n",
       "      <td>1</td>\n",
       "      <td>2</td>\n",
       "    </tr>\n",
       "    <tr>\n",
       "      <th>723</th>\n",
       "      <td>1904</td>\n",
       "      <td>Clint Walker</td>\n",
       "      <td>[1948, 1974, 1997]</td>\n",
       "      <td>[1968]</td>\n",
       "      <td>3</td>\n",
       "      <td>1</td>\n",
       "      <td>2</td>\n",
       "    </tr>\n",
       "    <tr>\n",
       "      <th>71</th>\n",
       "      <td>173</td>\n",
       "      <td>Milton Berle</td>\n",
       "      <td>[1941, 1949, 1953, 1991]</td>\n",
       "      <td>[1947, 1950]</td>\n",
       "      <td>4</td>\n",
       "      <td>2</td>\n",
       "      <td>2</td>\n",
       "    </tr>\n",
       "    <tr>\n",
       "      <th>1208</th>\n",
       "      <td>2807</td>\n",
       "      <td>Suzanne Pleshette</td>\n",
       "      <td>[1964, 1968, 2001]</td>\n",
       "      <td>[1964]</td>\n",
       "      <td>3</td>\n",
       "      <td>1</td>\n",
       "      <td>2</td>\n",
       "    </tr>\n",
       "  </tbody>\n",
       "</table>\n",
       "</div>"
      ],
      "text/plain": [
       "      index               name                          year_m      year_div  \\\n",
       "955    2343     Sharon Farrell  [1962, 1965, 1969, 1973, 1974]        [1962]   \n",
       "638    1681       George Segal              [1956, 1983, 1996]        [1983]   \n",
       "723    1904       Clint Walker              [1948, 1974, 1997]        [1968]   \n",
       "71      173       Milton Berle        [1941, 1949, 1953, 1991]  [1947, 1950]   \n",
       "1208   2807  Suzanne Pleshette              [1964, 1968, 2001]        [1964]   \n",
       "\n",
       "      num_year_m  num_year_div  mar_stage  \n",
       "955            5             1          4  \n",
       "638            3             1          2  \n",
       "723            3             1          2  \n",
       "71             4             2          2  \n",
       "1208           3             1          2  "
      ]
     },
     "execution_count": 170,
     "metadata": {},
     "output_type": "execute_result"
    }
   ],
   "source": [
    "df_year.sort_values(by=['mar_stage'], ascending=False).head()\n",
    "#print(df_year['mar_stage'].max())"
   ]
  },
  {
   "cell_type": "code",
   "execution_count": 172,
   "metadata": {},
   "outputs": [
    {
     "data": {
      "image/png": "[encoded data removed]",
      "text/plain": [
       "<Figure size 432x288 with 1 Axes>"
      ]
     },
     "metadata": {
      "needs_background": "light"
     },
     "output_type": "display_data"
    }
   ],
   "source": [
    "ax = sns.countplot(x=\"mar_stage\", data=df_year)"
   ]
  },
  {
   "cell_type": "code",
   "execution_count": 185,
   "metadata": {},
   "outputs": [
    {
     "data": {
      "text/plain": [
       "[1989]"
      ]
     },
     "execution_count": 185,
     "metadata": {},
     "output_type": "execute_result"
    }
   ],
   "source": [
    "ast.literal_eval(df_year['year_div'][0])#[0]"
   ]
  },
  {
   "cell_type": "code",
   "execution_count": 196,
   "metadata": {},
   "outputs": [],
   "source": [
    "year_m_1 = []\n",
    "year_div_1 = []\n",
    "year_diff_1 = []\n",
    "for i in range(len(df_year)):\n",
    "    try:\n",
    "        a = ast.literal_eval(df_year['year_m'][i])[0]\n",
    "        year_m_1.append(a)\n",
    "        b = ast.literal_eval(df_year['year_div'][i])[0]\n",
    "        year_div_1.append(b)\n",
    "        year_diff_1.append(b-a)\n",
    "    except:\n",
    "        year_m_1.append(np.nan)\n",
    "        year_div_1.append(np.nan)\n",
    "        year_diff_1.append(np.nan)\n",
    "        "
   ]
  },
  {
   "cell_type": "code",
   "execution_count": 202,
   "metadata": {},
   "outputs": [],
   "source": [
    "df_year_m_div_1 = pd.DataFrame({'year_m_1':year_m_1, 'year_div_1':year_div_1,'year_diff_1':year_diff_1 })\n",
    "df_year = pd.concat([df_year, df_year_m_div_1], axis =1)"
   ]
  },
  {
   "cell_type": "code",
   "execution_count": 203,
   "metadata": {},
   "outputs": [
    {
     "data": {
      "text/html": [
       "<div>\n",
       "<style scoped>\n",
       "    .dataframe tbody tr th:only-of-type {\n",
       "        vertical-align: middle;\n",
       "    }\n",
       "\n",
       "    .dataframe tbody tr th {\n",
       "        vertical-align: top;\n",
       "    }\n",
       "\n",
       "    .dataframe thead th {\n",
       "        text-align: right;\n",
       "    }\n",
       "</style>\n",
       "<table border=\"1\" class=\"dataframe\">\n",
       "  <thead>\n",
       "    <tr style=\"text-align: right;\">\n",
       "      <th></th>\n",
       "      <th>index</th>\n",
       "      <th>name</th>\n",
       "      <th>year_m</th>\n",
       "      <th>year_div</th>\n",
       "      <th>num_year_m</th>\n",
       "      <th>num_year_div</th>\n",
       "      <th>mar_stage</th>\n",
       "      <th>year_m_1</th>\n",
       "      <th>year_div_1</th>\n",
       "      <th>year_diff_1</th>\n",
       "    </tr>\n",
       "  </thead>\n",
       "  <tbody>\n",
       "    <tr>\n",
       "      <th>0</th>\n",
       "      <td>1</td>\n",
       "      <td>Bruce Abbott</td>\n",
       "      <td>[1982, 1994]</td>\n",
       "      <td>[1989]</td>\n",
       "      <td>2</td>\n",
       "      <td>1</td>\n",
       "      <td>1</td>\n",
       "      <td>1982</td>\n",
       "      <td>1989</td>\n",
       "      <td>7</td>\n",
       "    </tr>\n",
       "    <tr>\n",
       "      <th>1</th>\n",
       "      <td>9</td>\n",
       "      <td>Don Adams</td>\n",
       "      <td>[1947, 1960, 1977]</td>\n",
       "      <td>[1960, 1976, 1990]</td>\n",
       "      <td>3</td>\n",
       "      <td>3</td>\n",
       "      <td>0</td>\n",
       "      <td>1947</td>\n",
       "      <td>1960</td>\n",
       "      <td>13</td>\n",
       "    </tr>\n",
       "    <tr>\n",
       "      <th>2</th>\n",
       "      <td>11</td>\n",
       "      <td>Nick Adams</td>\n",
       "      <td>[1959]</td>\n",
       "      <td>[1965]</td>\n",
       "      <td>1</td>\n",
       "      <td>1</td>\n",
       "      <td>0</td>\n",
       "      <td>1959</td>\n",
       "      <td>1965</td>\n",
       "      <td>6</td>\n",
       "    </tr>\n",
       "    <tr>\n",
       "      <th>3</th>\n",
       "      <td>16</td>\n",
       "      <td>Paul Adelstein</td>\n",
       "      <td>[2006]</td>\n",
       "      <td>[2017]</td>\n",
       "      <td>1</td>\n",
       "      <td>1</td>\n",
       "      <td>0</td>\n",
       "      <td>2006</td>\n",
       "      <td>2017</td>\n",
       "      <td>11</td>\n",
       "    </tr>\n",
       "    <tr>\n",
       "      <th>4</th>\n",
       "      <td>17</td>\n",
       "      <td>Luther Adler</td>\n",
       "      <td>[1938, 1959]</td>\n",
       "      <td>[1946]</td>\n",
       "      <td>2</td>\n",
       "      <td>1</td>\n",
       "      <td>1</td>\n",
       "      <td>1938</td>\n",
       "      <td>1946</td>\n",
       "      <td>8</td>\n",
       "    </tr>\n",
       "  </tbody>\n",
       "</table>\n",
       "</div>"
      ],
      "text/plain": [
       "   index            name              year_m            year_div  num_year_m  \\\n",
       "0      1    Bruce Abbott        [1982, 1994]              [1989]           2   \n",
       "1      9       Don Adams  [1947, 1960, 1977]  [1960, 1976, 1990]           3   \n",
       "2     11      Nick Adams              [1959]              [1965]           1   \n",
       "3     16  Paul Adelstein              [2006]              [2017]           1   \n",
       "4     17    Luther Adler        [1938, 1959]              [1946]           2   \n",
       "\n",
       "   num_year_div  mar_stage  year_m_1  year_div_1  year_diff_1  \n",
       "0             1          1      1982        1989            7  \n",
       "1             3          0      1947        1960           13  \n",
       "2             1          0      1959        1965            6  \n",
       "3             1          0      2006        2017           11  \n",
       "4             1          1      1938        1946            8  "
      ]
     },
     "execution_count": 203,
     "metadata": {},
     "output_type": "execute_result"
    }
   ],
   "source": [
    "df_year.head()"
   ]
  },
  {
   "cell_type": "markdown",
   "metadata": {},
   "source": [
    "remove the row with year_diff_1<0"
   ]
  },
  {
   "cell_type": "code",
   "execution_count": 211,
   "metadata": {},
   "outputs": [],
   "source": [
    "df_year = df_year[df_year['year_diff_1']>=0].sort_values(by=['year_diff_1'], ascending=True);"
   ]
  },
  {
   "cell_type": "code",
   "execution_count": 263,
   "metadata": {},
   "outputs": [
    {
     "data": {
      "text/plain": [
       "<matplotlib.axes._subplots.AxesSubplot at 0x1a277f7320>"
      ]
     },
     "execution_count": 263,
     "metadata": {},
     "output_type": "execute_result"
    },
    {
     "data": {
      "image/png": "[encoded data removed]",
      "text/plain": [
       "<Figure size 432x288 with 1 Axes>"
      ]
     },
     "metadata": {
      "needs_background": "light"
     },
     "output_type": "display_data"
    }
   ],
   "source": [
    "sns.boxplot(x =\"mar_stage\", y=\"year_diff_1\",\n",
    "           # hue=\"mar_stage\", palette=[\"m\", \"g\"],\n",
    "            data=df_year[df_year['mar_stage']<=1], showfliers=False)"
   ]
  },
  {
   "cell_type": "code",
   "execution_count": 244,
   "metadata": {},
   "outputs": [],
   "source": [
    "year_m_2 = []\n",
    "year_div_1 = []\n",
    "year_diff_2 = []\n",
    "for i in range(len(df_year)):\n",
    "    try:\n",
    "        a = ast.literal_eval(df_year['year_m'][i])[1]\n",
    "        year_m_2.append(a)        \n",
    "        b = ast.literal_eval(df_year['year_div'][i])[0]\n",
    "        year_div_1.append(b)\n",
    "        year_diff_2.append(a-b)\n",
    "    except:\n",
    "        year_m_2.append(np.nan)\n",
    "        year_div_1.append(np.nan)\n",
    "        year_diff_2.append(np.nan)"
   ]
  },
  {
   "cell_type": "code",
   "execution_count": 237,
   "metadata": {},
   "outputs": [],
   "source": [
    "df_year  = df_year.drop(['year_m_2','year_diff_2'], axis =1)"
   ]
  },
  {
   "cell_type": "code",
   "execution_count": 245,
   "metadata": {},
   "outputs": [],
   "source": [
    "df_year_m_div_2 = pd.DataFrame({'year_m_2':year_m_2, 'year_diff_2':year_diff_2 })\n",
    "df_year = pd.concat([df_year, df_year_m_div_2], axis =1)"
   ]
  },
  {
   "cell_type": "code",
   "execution_count": 254,
   "metadata": {},
   "outputs": [],
   "source": [
    "#df_year.sort_values(by=['year_diff_2'], ascending=True).head(20)\n",
    "df_year_2 = df_year[df_year['year_diff_2']>=0]"
   ]
  },
  {
   "cell_type": "code",
   "execution_count": 262,
   "metadata": {},
   "outputs": [
    {
     "data": {
      "text/plain": [
       "<matplotlib.axes._subplots.AxesSubplot at 0x1a278a54e0>"
      ]
     },
     "execution_count": 262,
     "metadata": {},
     "output_type": "execute_result"
    },
    {
     "data": {
      "image/png": "[encoded data removed]",
      "text/plain": [
       "<Figure size 432x288 with 1 Axes>"
      ]
     },
     "metadata": {
      "needs_background": "light"
     },
     "output_type": "display_data"
    }
   ],
   "source": [
    "sns.boxplot(x =\"mar_stage\", y=\"year_diff_2\",\n",
    "           # hue=\"mar_stage\", palette=[\"m\", \"g\"],\n",
    "            data=df_year_2[df_year_2['mar_stage']<=1], showfliers=False)"
   ]
  },
  {
   "cell_type": "code",
   "execution_count": 261,
   "metadata": {},
   "outputs": [
    {
     "data": {
      "text/plain": [
       "<matplotlib.axes._subplots.AxesSubplot at 0x1a2832ac18>"
      ]
     },
     "execution_count": 261,
     "metadata": {},
     "output_type": "execute_result"
    },
    {
     "data": {
      "image/png": "[encoded data removed]",
      "text/plain": [
       "<Figure size 432x288 with 1 Axes>"
      ]
     },
     "metadata": {
      "needs_background": "light"
     },
     "output_type": "display_data"
    }
   ],
   "source": [
    "sns.boxplot(x =\"mar_stage\", y=\"year_diff_1\",\n",
    "           # hue=\"mar_stage\", palette=[\"m\", \"g\"],\n",
    "            data=df_year_2[df_year_2['mar_stage']<=1], showfliers=False)"
   ]
  },
  {
   "cell_type": "markdown",
   "metadata": {},
   "source": [
    "# Conclusions and Next Steps\n",
    "Summarize findings here"
   ]
  },
  {
   "cell_type": "code",
   "execution_count": null,
   "metadata": {},
   "outputs": [],
   "source": []
  },
  {
   "cell_type": "code",
   "execution_count": null,
   "metadata": {},
   "outputs": [],
   "source": [
    "import pandas as pd\n",
    "df = pd.read_csv('export_df_actress.csv')"
   ]
  },
  {
   "cell_type": "code",
   "execution_count": null,
   "metadata": {},
   "outputs": [],
   "source": [
    "import numpy as np\n",
    "import pandas as pd\n",
    "import matplotlib.pyplot as plt\n",
    "from sklearn.linear_model import LinearRegression\n",
    "from sklearn.model_selection import train_test_split\n",
    "from sklearn.metrics import r2_score, mean_squared_error\n",
    "import test3 as t\n",
    "import seaborn as sns\n",
    "%matplotlib inline\n"
   ]
  },
  {
   "cell_type": "code",
   "execution_count": null,
   "metadata": {},
   "outputs": [],
   "source": [
    "fill_mean = lambda col: col.fillna(col.mean())\n",
    "fill_df = drop_sal_df.apply(fill_mean, axis = 0) #Fill all missing values with the mean of the column.\n"
   ]
  },
  {
   "cell_type": "code",
   "execution_count": null,
   "metadata": {},
   "outputs": [],
   "source": [
    "#Split into explanatory and response variables\n",
    "X = fill_df[['CareerSatisfaction', 'HoursPerWeek', 'JobSatisfaction', 'StackOverflowSatisfaction']]\n",
    "y = fill_df['Salary']\n",
    "\n",
    "#Split into train and test\n",
    "X_train, X_test, y_train, y_test = train_test_split(X, y, test_size = .30, random_state=42) \n",
    "\n",
    "lm_model = LinearRegression(normalize=True) # Instantiate\n",
    "lm_model.fit(X_train, y_train) #Fit\n",
    "        \n",
    "#Predict and score the model\n",
    "y_test_preds = lm_model.predict(X_test) \n",
    "\n",
    "#Rsquared and y_test\n",
    "rsquared_score = r2_score(y_test, y_test_preds)\n",
    "length_y_test = len(y_test)\n",
    "\"The r-squared score for your model was {} on {} values.\".format(rsquared_score, length_y_test)"
   ]
  },
  {
   "cell_type": "code",
   "execution_count": null,
   "metadata": {},
   "outputs": [],
   "source": [
    "pd.get_dummies(dummy_var_df['col1'])"
   ]
  }
 ],
 "metadata": {
  "kernelspec": {
   "display_name": "Python 3",
   "language": "python",
   "name": "python3"
  },
  "language_info": {
   "codemirror_mode": {
    "name": "ipython",
    "version": 3
   },
   "file_extension": ".py",
   "mimetype": "text/x-python",
   "name": "python",
   "nbconvert_exporter": "python",
   "pygments_lexer": "ipython3",
   "version": "3.6.8"
  }
 },
 "nbformat": 4,
 "nbformat_minor": 2
}
