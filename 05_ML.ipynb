{
 "cells": [
  {
   "cell_type": "markdown",
   "metadata": {},
   "source": [
    "# Introduction\n",
    "Integrate the data from actor and actress"
   ]
  },
  {
   "cell_type": "markdown",
   "metadata": {},
   "source": [
    "## Imports"
   ]
  },
  {
   "cell_type": "code",
   "execution_count": 66,
   "metadata": {},
   "outputs": [],
   "source": [
    "# Data manipulation\n",
    "import pandas as pd\n",
    "import numpy as np\n",
    "import matplotlib.pyplot as plt\n",
    "import seaborn  as sns\n",
    "import ast\n",
    "\n",
    "\n",
    "# Import sklearn.preprocessing.StandardScaler\n",
    "from sklearn.preprocessing import MinMaxScaler\n",
    "\n",
    "from sklearn import svm, tree, linear_model, neighbors, naive_bayes, ensemble, discriminant_analysis, gaussian_process\n",
    "from sklearn.model_selection import train_test_split\n",
    "from sklearn.metrics import r2_score, mean_squared_error\n",
    "\n",
    "#from xgboost import XGBClassifier\n",
    "\n",
    "#Common Model Helpers\n",
    "from sklearn.preprocessing import OneHotEncoder, LabelEncoder\n",
    "from sklearn import feature_selection\n",
    "from sklearn import model_selection\n",
    "from sklearn import metrics\n",
    "\n",
    "import warnings\n",
    "warnings.filterwarnings('ignore')\n",
    "\n",
    "%matplotlib inline"
   ]
  },
  {
   "cell_type": "code",
   "execution_count": 68,
   "metadata": {},
   "outputs": [],
   "source": [
    "#import pandas as pd\n",
    "df_X = pd.read_csv('export_df_X_forML.csv')\n",
    "df_y = pd.read_csv('export_df_y_forML.csv')\n",
    "df_X_M = pd.read_csv('export_df_X_M_forML.csv')\n",
    "df_y_M = pd.read_csv('export_df_y_M_forML.csv')\n",
    "df_X_F = pd.read_csv('export_df_X_F_forML.csv')\n",
    "df_y_F = pd.read_csv('export_df_y_F_forML.csv')\n",
    "df_X_num = pd.read_csv('export_df_X_num_forML.csv')\n",
    "\n",
    "\n",
    "df_X = df_X.drop([\"Unnamed: 0\"], axis = 1)\n",
    "df_y = df_y.drop([\"Unnamed: 0\"], axis = 1)\n",
    "df_X_M = df_X_M.drop([\"Unnamed: 0\"], axis = 1)\n",
    "df_y_M = df_y_M.drop([\"Unnamed: 0\"], axis = 1)\n",
    "df_X_F = df_X_F.drop([\"Unnamed: 0\"], axis = 1)\n",
    "df_y_F = df_y_F.drop([\"Unnamed: 0\"], axis = 1)\n",
    "df_X_num = df_X_num.drop([\"Unnamed: 0\"], axis = 1)"
   ]
  },
  {
   "cell_type": "code",
   "execution_count": 70,
   "metadata": {},
   "outputs": [
    {
     "data": {
      "text/plain": [
       "Index(['age', 'age_diff', 'zodiac', 'zodiac_sp', 'num_of_child_cl',\n",
       "       'num_of_child_sp_cl', 'num_of_role', 'num_of_role_sp', 'geo_distance',\n",
       "       'age_m_1', 'age_m_sp_1', 'sex'],\n",
       "      dtype='object')"
      ]
     },
     "execution_count": 70,
     "metadata": {},
     "output_type": "execute_result"
    }
   ],
   "source": [
    "df_X_num.columns"
   ]
  },
  {
   "cell_type": "code",
   "execution_count": 72,
   "metadata": {},
   "outputs": [
    {
     "data": {
      "text/html": [
       "<div>\n",
       "<style scoped>\n",
       "    .dataframe tbody tr th:only-of-type {\n",
       "        vertical-align: middle;\n",
       "    }\n",
       "\n",
       "    .dataframe tbody tr th {\n",
       "        vertical-align: top;\n",
       "    }\n",
       "\n",
       "    .dataframe thead th {\n",
       "        text-align: right;\n",
       "    }\n",
       "</style>\n",
       "<table border=\"1\" class=\"dataframe\">\n",
       "  <thead>\n",
       "    <tr style=\"text-align: right;\">\n",
       "      <th></th>\n",
       "      <th>age</th>\n",
       "      <th>age_diff</th>\n",
       "      <th>zodiac</th>\n",
       "      <th>zodiac_sp</th>\n",
       "      <th>num_of_child_cl</th>\n",
       "      <th>num_of_child_sp_cl</th>\n",
       "      <th>num_of_role</th>\n",
       "      <th>num_of_role_sp</th>\n",
       "      <th>geo_distance</th>\n",
       "      <th>age_m_1</th>\n",
       "      <th>age_m_sp_1</th>\n",
       "      <th>sex</th>\n",
       "    </tr>\n",
       "  </thead>\n",
       "  <tbody>\n",
       "    <tr>\n",
       "      <th>0</th>\n",
       "      <td>0.262917</td>\n",
       "      <td>0.509026</td>\n",
       "      <td>0.545455</td>\n",
       "      <td>0.517139</td>\n",
       "      <td>0.111111</td>\n",
       "      <td>0.177773</td>\n",
       "      <td>0.4</td>\n",
       "      <td>0.151194</td>\n",
       "      <td>0.603319</td>\n",
       "      <td>0.088608</td>\n",
       "      <td>0.283338</td>\n",
       "      <td>1.0</td>\n",
       "    </tr>\n",
       "    <tr>\n",
       "      <th>1</th>\n",
       "      <td>0.306983</td>\n",
       "      <td>0.465491</td>\n",
       "      <td>0.636364</td>\n",
       "      <td>0.818182</td>\n",
       "      <td>0.111111</td>\n",
       "      <td>0.142857</td>\n",
       "      <td>0.0</td>\n",
       "      <td>0.000000</td>\n",
       "      <td>1.000000</td>\n",
       "      <td>0.202532</td>\n",
       "      <td>0.229167</td>\n",
       "      <td>1.0</td>\n",
       "    </tr>\n",
       "    <tr>\n",
       "      <th>2</th>\n",
       "      <td>0.348209</td>\n",
       "      <td>0.509026</td>\n",
       "      <td>0.507566</td>\n",
       "      <td>0.517139</td>\n",
       "      <td>0.111111</td>\n",
       "      <td>0.177773</td>\n",
       "      <td>0.2</td>\n",
       "      <td>0.151194</td>\n",
       "      <td>0.603319</td>\n",
       "      <td>0.228556</td>\n",
       "      <td>0.283338</td>\n",
       "      <td>1.0</td>\n",
       "    </tr>\n",
       "    <tr>\n",
       "      <th>3</th>\n",
       "      <td>0.348209</td>\n",
       "      <td>0.509026</td>\n",
       "      <td>0.507566</td>\n",
       "      <td>0.517139</td>\n",
       "      <td>0.145562</td>\n",
       "      <td>0.177773</td>\n",
       "      <td>0.0</td>\n",
       "      <td>0.151194</td>\n",
       "      <td>0.603319</td>\n",
       "      <td>0.228556</td>\n",
       "      <td>0.283338</td>\n",
       "      <td>1.0</td>\n",
       "    </tr>\n",
       "    <tr>\n",
       "      <th>4</th>\n",
       "      <td>0.060952</td>\n",
       "      <td>0.509026</td>\n",
       "      <td>0.909091</td>\n",
       "      <td>0.517139</td>\n",
       "      <td>0.145562</td>\n",
       "      <td>0.177773</td>\n",
       "      <td>0.2</td>\n",
       "      <td>0.151194</td>\n",
       "      <td>0.603319</td>\n",
       "      <td>0.177215</td>\n",
       "      <td>0.283338</td>\n",
       "      <td>1.0</td>\n",
       "    </tr>\n",
       "  </tbody>\n",
       "</table>\n",
       "</div>"
      ],
      "text/plain": [
       "        age  age_diff    zodiac  zodiac_sp  num_of_child_cl  \\\n",
       "0  0.262917  0.509026  0.545455   0.517139         0.111111   \n",
       "1  0.306983  0.465491  0.636364   0.818182         0.111111   \n",
       "2  0.348209  0.509026  0.507566   0.517139         0.111111   \n",
       "3  0.348209  0.509026  0.507566   0.517139         0.145562   \n",
       "4  0.060952  0.509026  0.909091   0.517139         0.145562   \n",
       "\n",
       "   num_of_child_sp_cl  num_of_role  num_of_role_sp  geo_distance   age_m_1  \\\n",
       "0            0.177773          0.4        0.151194      0.603319  0.088608   \n",
       "1            0.142857          0.0        0.000000      1.000000  0.202532   \n",
       "2            0.177773          0.2        0.151194      0.603319  0.228556   \n",
       "3            0.177773          0.0        0.151194      0.603319  0.228556   \n",
       "4            0.177773          0.2        0.151194      0.603319  0.177215   \n",
       "\n",
       "   age_m_sp_1  sex  \n",
       "0    0.283338  1.0  \n",
       "1    0.229167  1.0  \n",
       "2    0.283338  1.0  \n",
       "3    0.283338  1.0  \n",
       "4    0.283338  1.0  "
      ]
     },
     "metadata": {},
     "output_type": "display_data"
    }
   ],
   "source": [
    "# Initialize a scaler, then apply it to the features\n",
    "scaler = MinMaxScaler() # default=(0, 1)\n",
    "numerical = ['age','age_diff', 'zodiac','zodiac_sp','num_of_child_cl',\n",
    "                         'num_of_child_sp_cl','num_of_role','num_of_role_sp','geo_distance',\n",
    "                         'age_m_1','age_m_sp_1', 'sex']\n",
    "\n",
    "df_X_minmax_transform = df_X_num#pd.DataFrame(data = features_log_transformed)\n",
    "df_X_minmax_transform[numerical] = scaler.fit_transform(df_X_num[numerical])\n",
    "\n",
    "# Show an example of a record with scaling applied\n",
    "display(df_X_minmax_transform.head(n = 5))"
   ]
  },
  {
   "cell_type": "markdown",
   "metadata": {},
   "source": [
    "split data"
   ]
  },
  {
   "cell_type": "code",
   "execution_count": 73,
   "metadata": {},
   "outputs": [
    {
     "name": "stdout",
     "output_type": "stream",
     "text": [
      "Training set has 2472 samples.\n",
      "Testing set has 618 samples.\n"
     ]
    }
   ],
   "source": [
    "# Import train_test_split\n",
    "from sklearn.model_selection import train_test_split\n",
    "\n",
    "# Split the 'features' and 'income' data into training and testing sets\n",
    "X_train, X_test, y_train, y_test = train_test_split(df_X_minmax_transform, \n",
    "                                                    df_y, \n",
    "                                                    test_size = 0.2, \n",
    "                                                    random_state = 12)\n",
    "\n",
    "# Show the results of the split\n",
    "print(\"Training set has {} samples.\".format(X_train.shape[0]))\n",
    "print(\"Testing set has {} samples.\".format(X_test.shape[0]))"
   ]
  },
  {
   "cell_type": "markdown",
   "metadata": {},
   "source": [
    "### Logistic regression"
   ]
  },
  {
   "cell_type": "code",
   "execution_count": 75,
   "metadata": {},
   "outputs": [
    {
     "name": "stdout",
     "output_type": "stream",
     "text": [
      "Accuracy of logistic regression classifier on test set: 0.70\n",
      "Best Penalty: l2\n",
      "Best C: 12.91549665014884\n",
      "Best Model: LogisticRegression(C=12.91549665014884, class_weight=None, dual=False,\n",
      "          fit_intercept=True, intercept_scaling=1, max_iter=100,\n",
      "          multi_class='warn', n_jobs=None, penalty='l2', random_state=0,\n",
      "          solver='warn', tol=0.0001, verbose=0, warm_start=False)\n"
     ]
    }
   ],
   "source": [
    "from sklearn.linear_model import LogisticRegression\n",
    "from sklearn.model_selection import GridSearchCV\n",
    "\n",
    "\n",
    "# Create regularization penalty space\n",
    "penalty = ['l1', 'l2']\n",
    "# Create regularization hyperparameter space\n",
    "C = np.logspace(0, 10, 10)\n",
    "# Create hyperparameter options\n",
    "hyperparameters = dict(C=C, penalty=penalty)\n",
    "\n",
    "# Create logistic regression\n",
    "lr_model = LogisticRegression(random_state=0) # Instantiate\n",
    "\n",
    "# Create grid search using 5-fold cross validation\n",
    "clf = GridSearchCV(lr_model, hyperparameters, cv=5, verbose=0)\n",
    "\n",
    "# Fit grid search\n",
    "best_rl_model = clf.fit(X_train, y_train) #Fit\n",
    "\n",
    "#Predict and score the model\n",
    "y_test_preds_rl = best_rl_model.predict(X_test) \n",
    "\n",
    "print('Accuracy of logistic regression classifier on test set: {:.2f}'.format(best_rl_model.score(X_test, y_test)))\n",
    "# View best hyperparameters\n",
    "print('Best Penalty:', best_rl_model.best_estimator_.get_params()['penalty'])\n",
    "print('Best C:', best_rl_model.best_estimator_.get_params()['C'])\n",
    "print('Best Model:', best_rl_model.best_estimator_)"
   ]
  },
  {
   "cell_type": "code",
   "execution_count": 78,
   "metadata": {},
   "outputs": [
    {
     "name": "stdout",
     "output_type": "stream",
     "text": [
      "[[183  92]\n",
      " [ 91 252]]\n"
     ]
    }
   ],
   "source": [
    "from sklearn.metrics import confusion_matrix, classification_report\n",
    "confusion_matrix = confusion_matrix(y_test, y_test_preds_rl)\n",
    "print(confusion_matrix)"
   ]
  },
  {
   "cell_type": "code",
   "execution_count": 79,
   "metadata": {},
   "outputs": [
    {
     "name": "stdout",
     "output_type": "stream",
     "text": [
      "              precision    recall  f1-score   support\n",
      "\n",
      "         0.0       0.67      0.67      0.67       275\n",
      "         1.0       0.73      0.73      0.73       343\n",
      "\n",
      "   micro avg       0.70      0.70      0.70       618\n",
      "   macro avg       0.70      0.70      0.70       618\n",
      "weighted avg       0.70      0.70      0.70       618\n",
      "\n"
     ]
    }
   ],
   "source": [
    "from sklearn.metrics import classification_report\n",
    "print(classification_report(y_test, y_test_preds_rl))"
   ]
  },
  {
   "cell_type": "code",
   "execution_count": 80,
   "metadata": {},
   "outputs": [
    {
     "data": {
      "image/png": "[encoded data removed]",
      "text/plain": [
       "<Figure size 432x288 with 1 Axes>"
      ]
     },
     "metadata": {
      "needs_background": "light"
     },
     "output_type": "display_data"
    }
   ],
   "source": [
    "from sklearn.metrics import roc_auc_score\n",
    "from sklearn.metrics import roc_curve\n",
    "logit_roc_auc = roc_auc_score(y_test, best_rl_model.predict(X_test) )\n",
    "fpr, tpr, thresholds = roc_curve(y_test, best_rl_model.predict(X_test))\n",
    "\n",
    "plt.figure()\n",
    "plt.plot(fpr, tpr, label='Logistic Regression (area = %0.2f)' % logit_roc_auc)\n",
    "plt.plot([0, 1], [0, 1],'r--')\n",
    "plt.xlim([0.0, 1.0])\n",
    "plt.ylim([0.0, 1.05])\n",
    "plt.xlabel('False Positive Rate')\n",
    "plt.ylabel('True Positive Rate')\n",
    "plt.title('Receiver operating characteristic')\n",
    "plt.legend(loc=\"lower right\")\n",
    "plt.savefig('Log_ROC')\n",
    "plt.show()"
   ]
  },
  {
   "cell_type": "markdown",
   "metadata": {},
   "source": [
    "### Random forest"
   ]
  },
  {
   "cell_type": "code",
   "execution_count": 81,
   "metadata": {},
   "outputs": [
    {
     "name": "stdout",
     "output_type": "stream",
     "text": [
      "{'n_estimators': [100, 200, 300], 'max_features': ['auto'], 'max_depth': [10, 32, 55, 77, 100, None], 'min_samples_split': [2, 5], 'min_samples_leaf': [1, 4], 'bootstrap': [True]}\n"
     ]
    }
   ],
   "source": [
    "from sklearn.ensemble import RandomForestRegressor\n",
    "from sklearn.model_selection import RandomizedSearchCV\n",
    "\n",
    "# Create regularization penalty space\n",
    "penalty = ['l1', 'l2']\n",
    "\n",
    "# Number of trees in random forest\n",
    "n_estimators = [int(x) for x in np.linspace(start = 100, stop = 300, num = 3)]\n",
    "# Number of features to consider at every split\n",
    "max_features = ['auto']#, 'sqrt']\n",
    "# Maximum number of levels in tree\n",
    "max_depth = [int(x) for x in np.linspace(10, 100, num = 5)]\n",
    "max_depth.append(None)\n",
    "# Minimum number of samples required to split a node\n",
    "min_samples_split = [2, 5]\n",
    "# Minimum number of samples required at each leaf node\n",
    "min_samples_leaf = [1, 4]\n",
    "# Method of selecting samples for training each tree\n",
    "bootstrap = [True]#, False]\n",
    "# Create the random grid\n",
    "random_grid = {'n_estimators': n_estimators,\n",
    "               'max_features': max_features,\n",
    "               'max_depth': max_depth,\n",
    "               'min_samples_split': min_samples_split,\n",
    "               'min_samples_leaf': min_samples_leaf,\n",
    "               'bootstrap': bootstrap}\n",
    "\n",
    "print(random_grid)\n",
    "#{'n_estimators': 200, 'min_samples_split': 5, \n",
    "# 'min_samples_leaf': 4, 'max_features': 'auto', 'max_depth': 10, 'bootstrap': True}\n",
    "\n",
    "# Create regularization hyperparameter space\n",
    "#max_depth= np.linspace(0, 0.1, 1, 2, 5)\n",
    "#n_estimators = np.linspace(20,50,100,200)\n",
    "# Create hyperparameter options\n",
    "#hyperparameters = dict(max_depth=max_depth, n_estimators = n_estimators )\n",
    "\n",
    "#rf_model = RandomForestRegressor(n_estimators=200, random_state=0)  \n",
    "#best_rf_model = rf_model.fit(X_train, y_train)  \n",
    "#y_test_pred_rf = best_rf_model.predict(X_test)  "
   ]
  },
  {
   "cell_type": "markdown",
   "metadata": {},
   "source": [
    "#### Random search training\n",
    "we instantiate the random search and fit it like any Scikit-Learn model:"
   ]
  },
  {
   "cell_type": "code",
   "execution_count": 82,
   "metadata": {},
   "outputs": [],
   "source": [
    "# Use the random grid to search for best hyperparameters\n",
    "# First create the base model to tune\n",
    "rf_model = RandomForestRegressor()\n",
    "# Random search of parameters, using 3 fold cross validation, \n",
    "# search across 100 different combinations, and use all available cores\n",
    "rf_random = RandomizedSearchCV(estimator = rf_model, param_distributions = random_grid, \n",
    "                               n_iter = 100, cv = 3, verbose=2, random_state=42, n_jobs = -1)\n",
    "# Fit the random search model\n",
    "#rf_random.fit(X_train, y_train)"
   ]
  },
  {
   "cell_type": "code",
   "execution_count": 264,
   "metadata": {},
   "outputs": [
    {
     "name": "stdout",
     "output_type": "stream",
     "text": [
      "Best Parameters: {'n_estimators': 200, 'min_samples_split': 5, 'min_samples_leaf': 4, 'max_features': 'auto', 'max_depth': 10, 'bootstrap': True}\n",
      "Best Model: RandomForestRegressor(bootstrap=True, criterion='mse', max_depth=10,\n",
      "           max_features='auto', max_leaf_nodes=None,\n",
      "           min_impurity_decrease=0.0, min_impurity_split=None,\n",
      "           min_samples_leaf=4, min_samples_split=5,\n",
      "           min_weight_fraction_leaf=0.0, n_estimators=200, n_jobs=None,\n",
      "           oob_score=False, random_state=None, verbose=0, warm_start=False)\n"
     ]
    }
   ],
   "source": [
    "print('Best Parameters:', rf_random.best_params_)\n",
    "print('Best Model:', rf_random.best_estimator_)"
   ]
  },
  {
   "cell_type": "code",
   "execution_count": 83,
   "metadata": {},
   "outputs": [
    {
     "data": {
      "text/plain": [
       "RandomForestClassifier(bootstrap=True, class_weight=None, criterion='gini',\n",
       "            max_depth=10, max_features='auto', max_leaf_nodes=None,\n",
       "            min_impurity_decrease=0.0, min_impurity_split=None,\n",
       "            min_samples_leaf=4, min_samples_split=5,\n",
       "            min_weight_fraction_leaf=0.0, n_estimators=200, n_jobs=None,\n",
       "            oob_score=False, random_state=None, verbose=0,\n",
       "            warm_start=False)"
      ]
     },
     "execution_count": 83,
     "metadata": {},
     "output_type": "execute_result"
    }
   ],
   "source": [
    "from sklearn.ensemble import RandomForestClassifier\n",
    "rf = RandomForestClassifier(n_estimators= 200, min_samples_split= 5, min_samples_leaf= 4, \n",
    "                           max_features= 'auto', max_depth= 10, bootstrap= True)\n",
    "\n",
    "\n",
    "rf.fit(X_train, y_train)"
   ]
  },
  {
   "cell_type": "code",
   "execution_count": 84,
   "metadata": {},
   "outputs": [
    {
     "name": "stdout",
     "output_type": "stream",
     "text": [
      "Accuracy of random forest classifier on test set: 0.70\n"
     ]
    }
   ],
   "source": [
    "from sklearn.metrics import accuracy_score\n",
    "y_test_pred_rf = rf.predict(X_test)\n",
    "accuracy = accuracy_score(y_test, y_test_pred_rf)\n",
    "\n",
    "print('Accuracy of random forest classifier on test set: {:.2f}'.format(accuracy))"
   ]
  },
  {
   "cell_type": "code",
   "execution_count": 85,
   "metadata": {},
   "outputs": [
    {
     "name": "stdout",
     "output_type": "stream",
     "text": [
      "[[106 169]\n",
      " [ 40 303]]\n"
     ]
    }
   ],
   "source": [
    "from sklearn.metrics import confusion_matrix, classification_report\n",
    "confusion_matrix = confusion_matrix(y_test, predicted)\n",
    "print(confusion_matrix)"
   ]
  },
  {
   "cell_type": "code",
   "execution_count": 96,
   "metadata": {},
   "outputs": [],
   "source": [
    "# feature importance\n",
    "\n",
    "importance = rf.feature_importances_\n",
    "importance = pd.DataFrame(importance, index=df_X_num.columns, columns=[\"Importance\"])\n",
    "\n",
    "#importance[\"Std\"] = np.std([tree.feature_importances_\n",
    "#                            for tree in rf.estimators_], axis=0)\n",
    "\n",
    "#x = range(importance.shape[0])\n",
    "#y = importance.ix[:, 0]\n",
    "#yerr = importance.ix[:, 1]\n",
    "\n",
    "#plt.bar(x, y, yerr=yerr, align=\"center\")\n",
    "#plt.bar(x, y, align=\"center\")\n",
    "#plt.show()"
   ]
  },
  {
   "cell_type": "code",
   "execution_count": 97,
   "metadata": {},
   "outputs": [],
   "source": [
    "importance1 = importance.sort_values(by = 'Importance', ascending=False).head(12) #.sort_values(by='col1', ascending=False)\n",
    "#importance.head()"
   ]
  },
  {
   "cell_type": "code",
   "execution_count": 98,
   "metadata": {},
   "outputs": [
    {
     "data": {
      "text/plain": [
       "<matplotlib.axes._subplots.AxesSubplot at 0x1a23a83a90>"
      ]
     },
     "execution_count": 98,
     "metadata": {},
     "output_type": "execute_result"
    },
    {
     "data": {
      "image/png": "[encoded data removed]",
      "text/plain": [
       "<Figure size 432x288 with 1 Axes>"
      ]
     },
     "metadata": {
      "needs_background": "light"
     },
     "output_type": "display_data"
    }
   ],
   "source": [
    "importance1.plot(kind='barh')"
   ]
  },
  {
   "cell_type": "code",
   "execution_count": 47,
   "metadata": {},
   "outputs": [
    {
     "ename": "KeyError",
     "evalue": "'importance'",
     "output_type": "error",
     "traceback": [
      "\u001b[0;31m---------------------------------------------------------------------------\u001b[0m",
      "\u001b[0;31mKeyError\u001b[0m                                  Traceback (most recent call last)",
      "\u001b[0;32m/anaconda3/lib/python3.6/site-packages/pandas/core/indexes/base.py\u001b[0m in \u001b[0;36mget_loc\u001b[0;34m(self, key, method, tolerance)\u001b[0m\n\u001b[1;32m   2656\u001b[0m             \u001b[0;32mtry\u001b[0m\u001b[0;34m:\u001b[0m\u001b[0;34m\u001b[0m\u001b[0;34m\u001b[0m\u001b[0m\n\u001b[0;32m-> 2657\u001b[0;31m                 \u001b[0;32mreturn\u001b[0m \u001b[0mself\u001b[0m\u001b[0;34m.\u001b[0m\u001b[0m_engine\u001b[0m\u001b[0;34m.\u001b[0m\u001b[0mget_loc\u001b[0m\u001b[0;34m(\u001b[0m\u001b[0mkey\u001b[0m\u001b[0;34m)\u001b[0m\u001b[0;34m\u001b[0m\u001b[0;34m\u001b[0m\u001b[0m\n\u001b[0m\u001b[1;32m   2658\u001b[0m             \u001b[0;32mexcept\u001b[0m \u001b[0mKeyError\u001b[0m\u001b[0;34m:\u001b[0m\u001b[0;34m\u001b[0m\u001b[0;34m\u001b[0m\u001b[0m\n",
      "\u001b[0;32mpandas/_libs/index.pyx\u001b[0m in \u001b[0;36mpandas._libs.index.IndexEngine.get_loc\u001b[0;34m()\u001b[0m\n",
      "\u001b[0;32mpandas/_libs/index.pyx\u001b[0m in \u001b[0;36mpandas._libs.index.IndexEngine.get_loc\u001b[0;34m()\u001b[0m\n",
      "\u001b[0;32mpandas/_libs/hashtable_class_helper.pxi\u001b[0m in \u001b[0;36mpandas._libs.hashtable.PyObjectHashTable.get_item\u001b[0;34m()\u001b[0m\n",
      "\u001b[0;32mpandas/_libs/hashtable_class_helper.pxi\u001b[0m in \u001b[0;36mpandas._libs.hashtable.PyObjectHashTable.get_item\u001b[0;34m()\u001b[0m\n",
      "\u001b[0;31mKeyError\u001b[0m: 'importance'",
      "\nDuring handling of the above exception, another exception occurred:\n",
      "\u001b[0;31mKeyError\u001b[0m                                  Traceback (most recent call last)",
      "\u001b[0;32m<ipython-input-47-e430fcd76fd5>\u001b[0m in \u001b[0;36m<module>\u001b[0;34m\u001b[0m\n\u001b[1;32m      2\u001b[0m \u001b[0mindices\u001b[0m \u001b[0;34m=\u001b[0m \u001b[0mnp\u001b[0m\u001b[0;34m.\u001b[0m\u001b[0margsort\u001b[0m\u001b[0;34m(\u001b[0m\u001b[0mimportance\u001b[0m\u001b[0;34m)\u001b[0m\u001b[0;34m\u001b[0m\u001b[0;34m\u001b[0m\u001b[0m\n\u001b[1;32m      3\u001b[0m \u001b[0mplt\u001b[0m\u001b[0;34m.\u001b[0m\u001b[0mtitle\u001b[0m\u001b[0;34m(\u001b[0m\u001b[0;34m\"Feature importances\"\u001b[0m\u001b[0;34m)\u001b[0m\u001b[0;34m\u001b[0m\u001b[0;34m\u001b[0m\u001b[0m\n\u001b[0;32m----> 4\u001b[0;31m plt.barh(range(df_X.shape[1]), importance['importance'][indices],\n\u001b[0m\u001b[1;32m      5\u001b[0m        color=\"r\", xerr=importance[\"Std\"][indices], align=\"center\")\n\u001b[1;32m      6\u001b[0m \u001b[0;31m# If you want to define your own labels,\u001b[0m\u001b[0;34m\u001b[0m\u001b[0;34m\u001b[0m\u001b[0;34m\u001b[0m\u001b[0m\n",
      "\u001b[0;32m/anaconda3/lib/python3.6/site-packages/pandas/core/frame.py\u001b[0m in \u001b[0;36m__getitem__\u001b[0;34m(self, key)\u001b[0m\n\u001b[1;32m   2925\u001b[0m             \u001b[0;32mif\u001b[0m \u001b[0mself\u001b[0m\u001b[0;34m.\u001b[0m\u001b[0mcolumns\u001b[0m\u001b[0;34m.\u001b[0m\u001b[0mnlevels\u001b[0m \u001b[0;34m>\u001b[0m \u001b[0;36m1\u001b[0m\u001b[0;34m:\u001b[0m\u001b[0;34m\u001b[0m\u001b[0;34m\u001b[0m\u001b[0m\n\u001b[1;32m   2926\u001b[0m                 \u001b[0;32mreturn\u001b[0m \u001b[0mself\u001b[0m\u001b[0;34m.\u001b[0m\u001b[0m_getitem_multilevel\u001b[0m\u001b[0;34m(\u001b[0m\u001b[0mkey\u001b[0m\u001b[0;34m)\u001b[0m\u001b[0;34m\u001b[0m\u001b[0;34m\u001b[0m\u001b[0m\n\u001b[0;32m-> 2927\u001b[0;31m             \u001b[0mindexer\u001b[0m \u001b[0;34m=\u001b[0m \u001b[0mself\u001b[0m\u001b[0;34m.\u001b[0m\u001b[0mcolumns\u001b[0m\u001b[0;34m.\u001b[0m\u001b[0mget_loc\u001b[0m\u001b[0;34m(\u001b[0m\u001b[0mkey\u001b[0m\u001b[0;34m)\u001b[0m\u001b[0;34m\u001b[0m\u001b[0;34m\u001b[0m\u001b[0m\n\u001b[0m\u001b[1;32m   2928\u001b[0m             \u001b[0;32mif\u001b[0m \u001b[0mis_integer\u001b[0m\u001b[0;34m(\u001b[0m\u001b[0mindexer\u001b[0m\u001b[0;34m)\u001b[0m\u001b[0;34m:\u001b[0m\u001b[0;34m\u001b[0m\u001b[0;34m\u001b[0m\u001b[0m\n\u001b[1;32m   2929\u001b[0m                 \u001b[0mindexer\u001b[0m \u001b[0;34m=\u001b[0m \u001b[0;34m[\u001b[0m\u001b[0mindexer\u001b[0m\u001b[0;34m]\u001b[0m\u001b[0;34m\u001b[0m\u001b[0;34m\u001b[0m\u001b[0m\n",
      "\u001b[0;32m/anaconda3/lib/python3.6/site-packages/pandas/core/indexes/base.py\u001b[0m in \u001b[0;36mget_loc\u001b[0;34m(self, key, method, tolerance)\u001b[0m\n\u001b[1;32m   2657\u001b[0m                 \u001b[0;32mreturn\u001b[0m \u001b[0mself\u001b[0m\u001b[0;34m.\u001b[0m\u001b[0m_engine\u001b[0m\u001b[0;34m.\u001b[0m\u001b[0mget_loc\u001b[0m\u001b[0;34m(\u001b[0m\u001b[0mkey\u001b[0m\u001b[0;34m)\u001b[0m\u001b[0;34m\u001b[0m\u001b[0;34m\u001b[0m\u001b[0m\n\u001b[1;32m   2658\u001b[0m             \u001b[0;32mexcept\u001b[0m \u001b[0mKeyError\u001b[0m\u001b[0;34m:\u001b[0m\u001b[0;34m\u001b[0m\u001b[0;34m\u001b[0m\u001b[0m\n\u001b[0;32m-> 2659\u001b[0;31m                 \u001b[0;32mreturn\u001b[0m \u001b[0mself\u001b[0m\u001b[0;34m.\u001b[0m\u001b[0m_engine\u001b[0m\u001b[0;34m.\u001b[0m\u001b[0mget_loc\u001b[0m\u001b[0;34m(\u001b[0m\u001b[0mself\u001b[0m\u001b[0;34m.\u001b[0m\u001b[0m_maybe_cast_indexer\u001b[0m\u001b[0;34m(\u001b[0m\u001b[0mkey\u001b[0m\u001b[0;34m)\u001b[0m\u001b[0;34m)\u001b[0m\u001b[0;34m\u001b[0m\u001b[0;34m\u001b[0m\u001b[0m\n\u001b[0m\u001b[1;32m   2660\u001b[0m         \u001b[0mindexer\u001b[0m \u001b[0;34m=\u001b[0m \u001b[0mself\u001b[0m\u001b[0;34m.\u001b[0m\u001b[0mget_indexer\u001b[0m\u001b[0;34m(\u001b[0m\u001b[0;34m[\u001b[0m\u001b[0mkey\u001b[0m\u001b[0;34m]\u001b[0m\u001b[0;34m,\u001b[0m \u001b[0mmethod\u001b[0m\u001b[0;34m=\u001b[0m\u001b[0mmethod\u001b[0m\u001b[0;34m,\u001b[0m \u001b[0mtolerance\u001b[0m\u001b[0;34m=\u001b[0m\u001b[0mtolerance\u001b[0m\u001b[0;34m)\u001b[0m\u001b[0;34m\u001b[0m\u001b[0;34m\u001b[0m\u001b[0m\n\u001b[1;32m   2661\u001b[0m         \u001b[0;32mif\u001b[0m \u001b[0mindexer\u001b[0m\u001b[0;34m.\u001b[0m\u001b[0mndim\u001b[0m \u001b[0;34m>\u001b[0m \u001b[0;36m1\u001b[0m \u001b[0;32mor\u001b[0m \u001b[0mindexer\u001b[0m\u001b[0;34m.\u001b[0m\u001b[0msize\u001b[0m \u001b[0;34m>\u001b[0m \u001b[0;36m1\u001b[0m\u001b[0;34m:\u001b[0m\u001b[0;34m\u001b[0m\u001b[0;34m\u001b[0m\u001b[0m\n",
      "\u001b[0;32mpandas/_libs/index.pyx\u001b[0m in \u001b[0;36mpandas._libs.index.IndexEngine.get_loc\u001b[0;34m()\u001b[0m\n",
      "\u001b[0;32mpandas/_libs/index.pyx\u001b[0m in \u001b[0;36mpandas._libs.index.IndexEngine.get_loc\u001b[0;34m()\u001b[0m\n",
      "\u001b[0;32mpandas/_libs/hashtable_class_helper.pxi\u001b[0m in \u001b[0;36mpandas._libs.hashtable.PyObjectHashTable.get_item\u001b[0;34m()\u001b[0m\n",
      "\u001b[0;32mpandas/_libs/hashtable_class_helper.pxi\u001b[0m in \u001b[0;36mpandas._libs.hashtable.PyObjectHashTable.get_item\u001b[0;34m()\u001b[0m\n",
      "\u001b[0;31mKeyError\u001b[0m: 'importance'"
     ]
    },
    {
     "data": {
      "image/png": "[encoded data removed]",
      "text/plain": [
       "<Figure size 432x288 with 1 Axes>"
      ]
     },
     "metadata": {
      "needs_background": "light"
     },
     "output_type": "display_data"
    }
   ],
   "source": [
    "plt.figure()\n",
    "indices = np.argsort(importance)\n",
    "plt.title(\"Feature importances\")\n",
    "plt.barh(range(df_X.shape[1]), importance['importance'][indices],\n",
    "       color=\"r\", xerr=importance[\"Std\"][indices], align=\"center\")\n",
    "# If you want to define your own labels,\n",
    "# change indices to a list of labels on the following line.\n",
    "plt.yticks(range(df_X.shape[1]), indices)\n",
    "plt.ylim([-1, X.shape[1]])\n",
    "plt.show()\n",
    "\n",
    "feat_importances = pd.Series(model.feature_importances_, index=X.columns)\n",
    "feat_importances.nlargest(20).plot(kind='barh')\n"
   ]
  },
  {
   "cell_type": "markdown",
   "metadata": {},
   "source": [
    "Evaluation of random search"
   ]
  },
  {
   "cell_type": "code",
   "execution_count": null,
   "metadata": {},
   "outputs": [],
   "source": []
  },
  {
   "cell_type": "code",
   "execution_count": 227,
   "metadata": {},
   "outputs": [
    {
     "name": "stdout",
     "output_type": "stream",
     "text": [
      "[[181  94]\n",
      " [ 95 248]]\n",
      "              precision    recall  f1-score   support\n",
      "\n",
      "         0.0       0.66      0.66      0.66       275\n",
      "         1.0       0.73      0.72      0.72       343\n",
      "\n",
      "   micro avg       0.69      0.69      0.69       618\n",
      "   macro avg       0.69      0.69      0.69       618\n",
      "weighted avg       0.69      0.69      0.69       618\n",
      "\n",
      "0.6941747572815534\n"
     ]
    }
   ],
   "source": [
    "from sklearn.metrics import classification_report, confusion_matrix, accuracy_score\n",
    "\n",
    "print(confusion_matrix(y_test,y_test_pred_rf.round()))  \n",
    "print(classification_report(y_test,y_test_pred_rf.round()))  \n",
    "print(accuracy_score(y_test, y_test_pred_rf.round()))  "
   ]
  },
  {
   "cell_type": "code",
   "execution_count": 228,
   "metadata": {},
   "outputs": [
    {
     "name": "stdout",
     "output_type": "stream",
     "text": [
      "Mean Absolute Error: 0.3473516720604099\n",
      "Mean Squared Error: 0.21816452714850773\n",
      "Root Mean Squared Error: 0.4670808571848216\n"
     ]
    }
   ],
   "source": [
    "from sklearn import metrics\n",
    "\n",
    "print('Mean Absolute Error:', metrics.mean_absolute_error(y_test, y_test_pred))  \n",
    "print('Mean Squared Error:', metrics.mean_squared_error(y_test, y_test_pred))  \n",
    "print('Root Mean Squared Error:', np.sqrt(metrics.mean_squared_error(y_test, y_test_pred))) "
   ]
  },
  {
   "cell_type": "code",
   "execution_count": 138,
   "metadata": {},
   "outputs": [
    {
     "data": {
      "text/plain": [
       "'The r-squared score for your model was 0.49928322392663327 on 618 values.'"
      ]
     },
     "execution_count": 138,
     "metadata": {},
     "output_type": "execute_result"
    }
   ],
   "source": [
    "from sklearn.linear_model import LinearRegression\n",
    "from sklearn.model_selection import train_test_split\n",
    "from sklearn.metrics import r2_score, mean_squared_error\n",
    "\n",
    "#X_train, X_test, y_train, y_test = train_test_split(X, y, test_size = .30, random_state=42) \n",
    "\n",
    "lm_model = LinearRegression(normalize=True) # Instantiate\n",
    "lm_model.fit(df_X, df_y) #Fit\n",
    "        \n",
    "#Predict and score the model\n",
    "y_test_preds = lm_model.predict(X_test) \n",
    "\"The r-squared score for your model was {} on {} values.\".format(r2_score(y_test, y_test_preds), len(y_test))"
   ]
  },
  {
   "cell_type": "code",
   "execution_count": null,
   "metadata": {},
   "outputs": [],
   "source": []
  },
  {
   "cell_type": "code",
   "execution_count": null,
   "metadata": {},
   "outputs": [],
   "source": []
  },
  {
   "cell_type": "code",
   "execution_count": null,
   "metadata": {},
   "outputs": [],
   "source": []
  },
  {
   "cell_type": "markdown",
   "metadata": {},
   "source": [
    "**2.** Divorce rate"
   ]
  },
  {
   "cell_type": "code",
   "execution_count": 67,
   "metadata": {},
   "outputs": [
    {
     "data": {
      "text/plain": [
       "'overall divorce rate =    53.95 %'"
      ]
     },
     "execution_count": 67,
     "metadata": {},
     "output_type": "execute_result"
    }
   ],
   "source": [
    "# calculate the divorce rate\n",
    "a = (df[df['divorce']==1]['divorce'].sum())/(df['divorce'].notnull().sum())*100\n",
    "\n",
    "\"overall divorce rate = {0:8.2f} %\".format(a)# "
   ]
  },
  {
   "cell_type": "code",
   "execution_count": 68,
   "metadata": {},
   "outputs": [
    {
     "data": {
      "text/plain": [
       "'overall divorce rate for male =    49.55 %'"
      ]
     },
     "execution_count": 68,
     "metadata": {},
     "output_type": "execute_result"
    }
   ],
   "source": [
    "a = df[(df['sex']=='M') & (df['divorce']==1)]['divorce'].sum()/(df[df['sex']=='M']['divorce'].notnull().sum())*100\n",
    "\"overall divorce rate for male = {0:8.2f} %\".format(a)# "
   ]
  },
  {
   "cell_type": "code",
   "execution_count": 69,
   "metadata": {},
   "outputs": [
    {
     "data": {
      "text/plain": [
       "'overall divorce rate for female =    62.11 %'"
      ]
     },
     "execution_count": 69,
     "metadata": {},
     "output_type": "execute_result"
    }
   ],
   "source": [
    "a = df[(df['sex']=='F') & (df['divorce']==1)]['divorce'].sum()/(df[df['sex']=='F']['divorce'].notnull().sum())*100\n",
    "\"overall divorce rate for female = {0:8.2f} %\".format(a)# "
   ]
  },
  {
   "cell_type": "code",
   "execution_count": 70,
   "metadata": {},
   "outputs": [
    {
     "data": {
      "image/png": "[encoded data removed]",
      "text/plain": [
       "<Figure size 360x360 with 1 Axes>"
      ]
     },
     "metadata": {
      "needs_background": "light"
     },
     "output_type": "display_data"
    }
   ],
   "source": [
    "# Set up a factorplot\n",
    "g = sns.factorplot(\"sex\", \"divorce\", data=df, kind=\"bar\", palette=\"muted\", legend=False)\n",
    "                   \n",
    "# Show plot\n",
    "plt.show()"
   ]
  },
  {
   "cell_type": "code",
   "execution_count": 71,
   "metadata": {},
   "outputs": [
    {
     "data": {
      "image/png": "[encoded data removed]",
      "text/plain": [
       "<Figure size 432x288 with 1 Axes>"
      ]
     },
     "metadata": {
      "needs_background": "light"
     },
     "output_type": "display_data"
    }
   ],
   "source": [
    "# calculate the divorce rate\n",
    "(df['divorce'].value_counts()/df['divorce'].notnull().sum()).plot(kind=\"bar\")\n",
    "plt.title(\"divoice rate (include male and female)\");"
   ]
  },
  {
   "cell_type": "code",
   "execution_count": 101,
   "metadata": {},
   "outputs": [
    {
     "data": {
      "image/png": "[encoded data removed]",
      "text/plain": [
       "<Figure size 432x288 with 1 Axes>"
      ]
     },
     "metadata": {
      "needs_background": "light"
     },
     "output_type": "display_data"
    }
   ],
   "source": [
    "ax = sns.countplot(x=\"num_of_m\", data=df)"
   ]
  },
  {
   "cell_type": "code",
   "execution_count": 73,
   "metadata": {},
   "outputs": [
    {
     "data": {
      "text/plain": [
       "Index(['name', 'bday', 'name_sp', 'num_of_child', 'education', 'role',\n",
       "       'birthplace', 'bday_sp', 'birthplace_sp', 'role_sp', 'name_sp_sp',\n",
       "       'num_of_child_sp', 'age_diff', 'age', 'age_spouse', 'name_sp_cl',\n",
       "       'year_m', 'year_div', 'name_sp_sp_cl', 'year_m_sp', 'year_div_sp',\n",
       "       'num_of_child_cl', 'num_of_child_sp_cl', 'name_sp_cl.1', 'num_of_m',\n",
       "       'name_sp_sp_cl.1', 'num_of_m_sp', 'num_of_role', 'num_of_role_sp',\n",
       "       'geohash', 'geohash_sp', 'geo_distance', 'zodiac', 'zodiac_sp', 'sex',\n",
       "       'divorce', 'year_m_1', 'year_div_1', 'year_m_sp_1', 'year_div_sp_1',\n",
       "       'age_m_1', 'age_div_1', 'age_m_sp_1', 'age_div_sp_1'],\n",
       "      dtype='object')"
      ]
     },
     "execution_count": 73,
     "metadata": {},
     "output_type": "execute_result"
    }
   ],
   "source": [
    "df.columns"
   ]
  },
  {
   "cell_type": "code",
   "execution_count": 80,
   "metadata": {},
   "outputs": [
    {
     "data": {
      "image/png": "[encoded data removed]",
      "text/plain": [
       "<Figure size 432x432 with 3 Axes>"
      ]
     },
     "metadata": {
      "needs_background": "light"
     },
     "output_type": "display_data"
    }
   ],
   "source": [
    "#sns.distplot('age', data = df)\n",
    "sns.jointplot(x='divorce', y='age_diff', data=df);"
   ]
  },
  {
   "cell_type": "code",
   "execution_count": 109,
   "metadata": {},
   "outputs": [],
   "source": [
    "df_year = df[['name','year_m', 'year_div']]"
   ]
  },
  {
   "cell_type": "code",
   "execution_count": 121,
   "metadata": {},
   "outputs": [],
   "source": [
    "df_year = df_year.dropna()\n",
    "df_year = df_year.reset_index()"
   ]
  },
  {
   "cell_type": "code",
   "execution_count": 126,
   "metadata": {},
   "outputs": [
    {
     "name": "stdout",
     "output_type": "stream",
     "text": [
      "(1364, 4)\n"
     ]
    },
    {
     "data": {
      "text/html": [
       "<div>\n",
       "<style scoped>\n",
       "    .dataframe tbody tr th:only-of-type {\n",
       "        vertical-align: middle;\n",
       "    }\n",
       "\n",
       "    .dataframe tbody tr th {\n",
       "        vertical-align: top;\n",
       "    }\n",
       "\n",
       "    .dataframe thead th {\n",
       "        text-align: right;\n",
       "    }\n",
       "</style>\n",
       "<table border=\"1\" class=\"dataframe\">\n",
       "  <thead>\n",
       "    <tr style=\"text-align: right;\">\n",
       "      <th></th>\n",
       "      <th>index</th>\n",
       "      <th>name</th>\n",
       "      <th>year_m</th>\n",
       "      <th>year_div</th>\n",
       "    </tr>\n",
       "  </thead>\n",
       "  <tbody>\n",
       "    <tr>\n",
       "      <th>0</th>\n",
       "      <td>1</td>\n",
       "      <td>Bruce Abbott</td>\n",
       "      <td>[1982, 1994]</td>\n",
       "      <td>[1989]</td>\n",
       "    </tr>\n",
       "    <tr>\n",
       "      <th>1</th>\n",
       "      <td>9</td>\n",
       "      <td>Don Adams</td>\n",
       "      <td>[1947, 1960, 1977]</td>\n",
       "      <td>[1960, 1976, 1990]</td>\n",
       "    </tr>\n",
       "    <tr>\n",
       "      <th>2</th>\n",
       "      <td>11</td>\n",
       "      <td>Nick Adams</td>\n",
       "      <td>[1959]</td>\n",
       "      <td>[1965]</td>\n",
       "    </tr>\n",
       "    <tr>\n",
       "      <th>3</th>\n",
       "      <td>16</td>\n",
       "      <td>Paul Adelstein</td>\n",
       "      <td>[2006]</td>\n",
       "      <td>[2017]</td>\n",
       "    </tr>\n",
       "    <tr>\n",
       "      <th>4</th>\n",
       "      <td>17</td>\n",
       "      <td>Luther Adler</td>\n",
       "      <td>[1938, 1959]</td>\n",
       "      <td>[1946]</td>\n",
       "    </tr>\n",
       "    <tr>\n",
       "      <th>5</th>\n",
       "      <td>18</td>\n",
       "      <td>Matt Adler</td>\n",
       "      <td>[1993, 2000]</td>\n",
       "      <td>[1995]</td>\n",
       "    </tr>\n",
       "    <tr>\n",
       "      <th>6</th>\n",
       "      <td>20</td>\n",
       "      <td>Ben Affleck</td>\n",
       "      <td>[2005]</td>\n",
       "      <td>[2018]</td>\n",
       "    </tr>\n",
       "    <tr>\n",
       "      <th>7</th>\n",
       "      <td>21</td>\n",
       "      <td>Casey Affleck</td>\n",
       "      <td>[2006]</td>\n",
       "      <td>[2017]</td>\n",
       "    </tr>\n",
       "    <tr>\n",
       "      <th>8</th>\n",
       "      <td>22</td>\n",
       "      <td>John Agar</td>\n",
       "      <td>[1945, 1951]</td>\n",
       "      <td>[1950]</td>\n",
       "    </tr>\n",
       "    <tr>\n",
       "      <th>9</th>\n",
       "      <td>23</td>\n",
       "      <td>Charles Aidman</td>\n",
       "      <td>[1957, 1969]</td>\n",
       "      <td>[1967]</td>\n",
       "    </tr>\n",
       "  </tbody>\n",
       "</table>\n",
       "</div>"
      ],
      "text/plain": [
       "   index            name              year_m            year_div\n",
       "0      1    Bruce Abbott        [1982, 1994]              [1989]\n",
       "1      9       Don Adams  [1947, 1960, 1977]  [1960, 1976, 1990]\n",
       "2     11      Nick Adams              [1959]              [1965]\n",
       "3     16  Paul Adelstein              [2006]              [2017]\n",
       "4     17    Luther Adler        [1938, 1959]              [1946]\n",
       "5     18      Matt Adler        [1993, 2000]              [1995]\n",
       "6     20     Ben Affleck              [2005]              [2018]\n",
       "7     21   Casey Affleck              [2006]              [2017]\n",
       "8     22       John Agar        [1945, 1951]              [1950]\n",
       "9     23  Charles Aidman        [1957, 1969]              [1967]"
      ]
     },
     "execution_count": 126,
     "metadata": {},
     "output_type": "execute_result"
    }
   ],
   "source": [
    "print(df_year.shape)\n",
    "df_year.head(10)"
   ]
  },
  {
   "cell_type": "code",
   "execution_count": 156,
   "metadata": {},
   "outputs": [],
   "source": [
    "num_year_m = []\n",
    "num_year_div = []\n",
    "for i in range(len(df_year)):\n",
    "    try:\n",
    "        num_year_m.append(len(ast.literal_eval(df_year['year_m'][i])))\n",
    "        num_year_div.append(len(ast.literal_eval(df_year['year_div'][i])))\n",
    "    except:\n",
    "        num_year_m.append(np.nan)\n",
    "        num_year_div.append(np.nan)"
   ]
  },
  {
   "cell_type": "code",
   "execution_count": 158,
   "metadata": {},
   "outputs": [],
   "source": [
    "df_num_year_m = pd.DataFrame({'num_year_m':num_year_m, 'num_year_div':num_year_div})"
   ]
  },
  {
   "cell_type": "code",
   "execution_count": 160,
   "metadata": {},
   "outputs": [],
   "source": [
    "df_year = pd.concat([df_year, df_num_year_m], axis =1)"
   ]
  },
  {
   "cell_type": "code",
   "execution_count": 163,
   "metadata": {},
   "outputs": [],
   "source": [
    "df_year['mar_stage'] = df_year['num_year_m']  - df_year['num_year_div']"
   ]
  },
  {
   "cell_type": "code",
   "execution_count": 170,
   "metadata": {},
   "outputs": [
    {
     "data": {
      "text/html": [
       "<div>\n",
       "<style scoped>\n",
       "    .dataframe tbody tr th:only-of-type {\n",
       "        vertical-align: middle;\n",
       "    }\n",
       "\n",
       "    .dataframe tbody tr th {\n",
       "        vertical-align: top;\n",
       "    }\n",
       "\n",
       "    .dataframe thead th {\n",
       "        text-align: right;\n",
       "    }\n",
       "</style>\n",
       "<table border=\"1\" class=\"dataframe\">\n",
       "  <thead>\n",
       "    <tr style=\"text-align: right;\">\n",
       "      <th></th>\n",
       "      <th>index</th>\n",
       "      <th>name</th>\n",
       "      <th>year_m</th>\n",
       "      <th>year_div</th>\n",
       "      <th>num_year_m</th>\n",
       "      <th>num_year_div</th>\n",
       "      <th>mar_stage</th>\n",
       "    </tr>\n",
       "  </thead>\n",
       "  <tbody>\n",
       "    <tr>\n",
       "      <th>955</th>\n",
       "      <td>2343</td>\n",
       "      <td>Sharon Farrell</td>\n",
       "      <td>[1962, 1965, 1969, 1973, 1974]</td>\n",
       "      <td>[1962]</td>\n",
       "      <td>5</td>\n",
       "      <td>1</td>\n",
       "      <td>4</td>\n",
       "    </tr>\n",
       "    <tr>\n",
       "      <th>638</th>\n",
       "      <td>1681</td>\n",
       "      <td>George Segal</td>\n",
       "      <td>[1956, 1983, 1996]</td>\n",
       "      <td>[1983]</td>\n",
       "      <td>3</td>\n",
       "      <td>1</td>\n",
       "      <td>2</td>\n",
       "    </tr>\n",
       "    <tr>\n",
       "      <th>723</th>\n",
       "      <td>1904</td>\n",
       "      <td>Clint Walker</td>\n",
       "      <td>[1948, 1974, 1997]</td>\n",
       "      <td>[1968]</td>\n",
       "      <td>3</td>\n",
       "      <td>1</td>\n",
       "      <td>2</td>\n",
       "    </tr>\n",
       "    <tr>\n",
       "      <th>71</th>\n",
       "      <td>173</td>\n",
       "      <td>Milton Berle</td>\n",
       "      <td>[1941, 1949, 1953, 1991]</td>\n",
       "      <td>[1947, 1950]</td>\n",
       "      <td>4</td>\n",
       "      <td>2</td>\n",
       "      <td>2</td>\n",
       "    </tr>\n",
       "    <tr>\n",
       "      <th>1208</th>\n",
       "      <td>2807</td>\n",
       "      <td>Suzanne Pleshette</td>\n",
       "      <td>[1964, 1968, 2001]</td>\n",
       "      <td>[1964]</td>\n",
       "      <td>3</td>\n",
       "      <td>1</td>\n",
       "      <td>2</td>\n",
       "    </tr>\n",
       "  </tbody>\n",
       "</table>\n",
       "</div>"
      ],
      "text/plain": [
       "      index               name                          year_m      year_div  \\\n",
       "955    2343     Sharon Farrell  [1962, 1965, 1969, 1973, 1974]        [1962]   \n",
       "638    1681       George Segal              [1956, 1983, 1996]        [1983]   \n",
       "723    1904       Clint Walker              [1948, 1974, 1997]        [1968]   \n",
       "71      173       Milton Berle        [1941, 1949, 1953, 1991]  [1947, 1950]   \n",
       "1208   2807  Suzanne Pleshette              [1964, 1968, 2001]        [1964]   \n",
       "\n",
       "      num_year_m  num_year_div  mar_stage  \n",
       "955            5             1          4  \n",
       "638            3             1          2  \n",
       "723            3             1          2  \n",
       "71             4             2          2  \n",
       "1208           3             1          2  "
      ]
     },
     "execution_count": 170,
     "metadata": {},
     "output_type": "execute_result"
    }
   ],
   "source": [
    "df_year.sort_values(by=['mar_stage'], ascending=False).head()\n",
    "#print(df_year['mar_stage'].max())"
   ]
  },
  {
   "cell_type": "code",
   "execution_count": 172,
   "metadata": {},
   "outputs": [
    {
     "data": {
      "image/png": "[encoded data removed]",
      "text/plain": [
       "<Figure size 432x288 with 1 Axes>"
      ]
     },
     "metadata": {
      "needs_background": "light"
     },
     "output_type": "display_data"
    }
   ],
   "source": [
    "ax = sns.countplot(x=\"mar_stage\", data=df_year)"
   ]
  },
  {
   "cell_type": "code",
   "execution_count": 185,
   "metadata": {},
   "outputs": [
    {
     "data": {
      "text/plain": [
       "[1989]"
      ]
     },
     "execution_count": 185,
     "metadata": {},
     "output_type": "execute_result"
    }
   ],
   "source": [
    "ast.literal_eval(df_year['year_div'][0])#[0]"
   ]
  },
  {
   "cell_type": "code",
   "execution_count": 196,
   "metadata": {},
   "outputs": [],
   "source": [
    "year_m_1 = []\n",
    "year_div_1 = []\n",
    "year_diff_1 = []\n",
    "for i in range(len(df_year)):\n",
    "    try:\n",
    "        a = ast.literal_eval(df_year['year_m'][i])[0]\n",
    "        year_m_1.append(a)\n",
    "        b = ast.literal_eval(df_year['year_div'][i])[0]\n",
    "        year_div_1.append(b)\n",
    "        year_diff_1.append(b-a)\n",
    "    except:\n",
    "        year_m_1.append(np.nan)\n",
    "        year_div_1.append(np.nan)\n",
    "        year_diff_1.append(np.nan)\n",
    "        "
   ]
  },
  {
   "cell_type": "code",
   "execution_count": 202,
   "metadata": {},
   "outputs": [],
   "source": [
    "df_year_m_div_1 = pd.DataFrame({'year_m_1':year_m_1, 'year_div_1':year_div_1,'year_diff_1':year_diff_1 })\n",
    "df_year = pd.concat([df_year, df_year_m_div_1], axis =1)"
   ]
  },
  {
   "cell_type": "code",
   "execution_count": 203,
   "metadata": {},
   "outputs": [
    {
     "data": {
      "text/html": [
       "<div>\n",
       "<style scoped>\n",
       "    .dataframe tbody tr th:only-of-type {\n",
       "        vertical-align: middle;\n",
       "    }\n",
       "\n",
       "    .dataframe tbody tr th {\n",
       "        vertical-align: top;\n",
       "    }\n",
       "\n",
       "    .dataframe thead th {\n",
       "        text-align: right;\n",
       "    }\n",
       "</style>\n",
       "<table border=\"1\" class=\"dataframe\">\n",
       "  <thead>\n",
       "    <tr style=\"text-align: right;\">\n",
       "      <th></th>\n",
       "      <th>index</th>\n",
       "      <th>name</th>\n",
       "      <th>year_m</th>\n",
       "      <th>year_div</th>\n",
       "      <th>num_year_m</th>\n",
       "      <th>num_year_div</th>\n",
       "      <th>mar_stage</th>\n",
       "      <th>year_m_1</th>\n",
       "      <th>year_div_1</th>\n",
       "      <th>year_diff_1</th>\n",
       "    </tr>\n",
       "  </thead>\n",
       "  <tbody>\n",
       "    <tr>\n",
       "      <th>0</th>\n",
       "      <td>1</td>\n",
       "      <td>Bruce Abbott</td>\n",
       "      <td>[1982, 1994]</td>\n",
       "      <td>[1989]</td>\n",
       "      <td>2</td>\n",
       "      <td>1</td>\n",
       "      <td>1</td>\n",
       "      <td>1982</td>\n",
       "      <td>1989</td>\n",
       "      <td>7</td>\n",
       "    </tr>\n",
       "    <tr>\n",
       "      <th>1</th>\n",
       "      <td>9</td>\n",
       "      <td>Don Adams</td>\n",
       "      <td>[1947, 1960, 1977]</td>\n",
       "      <td>[1960, 1976, 1990]</td>\n",
       "      <td>3</td>\n",
       "      <td>3</td>\n",
       "      <td>0</td>\n",
       "      <td>1947</td>\n",
       "      <td>1960</td>\n",
       "      <td>13</td>\n",
       "    </tr>\n",
       "    <tr>\n",
       "      <th>2</th>\n",
       "      <td>11</td>\n",
       "      <td>Nick Adams</td>\n",
       "      <td>[1959]</td>\n",
       "      <td>[1965]</td>\n",
       "      <td>1</td>\n",
       "      <td>1</td>\n",
       "      <td>0</td>\n",
       "      <td>1959</td>\n",
       "      <td>1965</td>\n",
       "      <td>6</td>\n",
       "    </tr>\n",
       "    <tr>\n",
       "      <th>3</th>\n",
       "      <td>16</td>\n",
       "      <td>Paul Adelstein</td>\n",
       "      <td>[2006]</td>\n",
       "      <td>[2017]</td>\n",
       "      <td>1</td>\n",
       "      <td>1</td>\n",
       "      <td>0</td>\n",
       "      <td>2006</td>\n",
       "      <td>2017</td>\n",
       "      <td>11</td>\n",
       "    </tr>\n",
       "    <tr>\n",
       "      <th>4</th>\n",
       "      <td>17</td>\n",
       "      <td>Luther Adler</td>\n",
       "      <td>[1938, 1959]</td>\n",
       "      <td>[1946]</td>\n",
       "      <td>2</td>\n",
       "      <td>1</td>\n",
       "      <td>1</td>\n",
       "      <td>1938</td>\n",
       "      <td>1946</td>\n",
       "      <td>8</td>\n",
       "    </tr>\n",
       "  </tbody>\n",
       "</table>\n",
       "</div>"
      ],
      "text/plain": [
       "   index            name              year_m            year_div  num_year_m  \\\n",
       "0      1    Bruce Abbott        [1982, 1994]              [1989]           2   \n",
       "1      9       Don Adams  [1947, 1960, 1977]  [1960, 1976, 1990]           3   \n",
       "2     11      Nick Adams              [1959]              [1965]           1   \n",
       "3     16  Paul Adelstein              [2006]              [2017]           1   \n",
       "4     17    Luther Adler        [1938, 1959]              [1946]           2   \n",
       "\n",
       "   num_year_div  mar_stage  year_m_1  year_div_1  year_diff_1  \n",
       "0             1          1      1982        1989            7  \n",
       "1             3          0      1947        1960           13  \n",
       "2             1          0      1959        1965            6  \n",
       "3             1          0      2006        2017           11  \n",
       "4             1          1      1938        1946            8  "
      ]
     },
     "execution_count": 203,
     "metadata": {},
     "output_type": "execute_result"
    }
   ],
   "source": [
    "df_year.head()"
   ]
  },
  {
   "cell_type": "markdown",
   "metadata": {},
   "source": [
    "remove the row with year_diff_1<0"
   ]
  },
  {
   "cell_type": "code",
   "execution_count": 211,
   "metadata": {},
   "outputs": [],
   "source": [
    "df_year = df_year[df_year['year_diff_1']>=0].sort_values(by=['year_diff_1'], ascending=True);"
   ]
  },
  {
   "cell_type": "code",
   "execution_count": 263,
   "metadata": {},
   "outputs": [
    {
     "data": {
      "text/plain": [
       "<matplotlib.axes._subplots.AxesSubplot at 0x1a277f7320>"
      ]
     },
     "execution_count": 263,
     "metadata": {},
     "output_type": "execute_result"
    },
    {
     "data": {
      "image/png": "[encoded data removed]",
      "text/plain": [
       "<Figure size 432x288 with 1 Axes>"
      ]
     },
     "metadata": {
      "needs_background": "light"
     },
     "output_type": "display_data"
    }
   ],
   "source": [
    "sns.boxplot(x =\"mar_stage\", y=\"year_diff_1\",\n",
    "           # hue=\"mar_stage\", palette=[\"m\", \"g\"],\n",
    "            data=df_year[df_year['mar_stage']<=1], showfliers=False)"
   ]
  },
  {
   "cell_type": "code",
   "execution_count": 244,
   "metadata": {},
   "outputs": [],
   "source": [
    "year_m_2 = []\n",
    "year_div_1 = []\n",
    "year_diff_2 = []\n",
    "for i in range(len(df_year)):\n",
    "    try:\n",
    "        a = ast.literal_eval(df_year['year_m'][i])[1]\n",
    "        year_m_2.append(a)        \n",
    "        b = ast.literal_eval(df_year['year_div'][i])[0]\n",
    "        year_div_1.append(b)\n",
    "        year_diff_2.append(a-b)\n",
    "    except:\n",
    "        year_m_2.append(np.nan)\n",
    "        year_div_1.append(np.nan)\n",
    "        year_diff_2.append(np.nan)"
   ]
  },
  {
   "cell_type": "code",
   "execution_count": 237,
   "metadata": {},
   "outputs": [],
   "source": [
    "df_year  = df_year.drop(['year_m_2','year_diff_2'], axis =1)"
   ]
  },
  {
   "cell_type": "code",
   "execution_count": 245,
   "metadata": {},
   "outputs": [],
   "source": [
    "df_year_m_div_2 = pd.DataFrame({'year_m_2':year_m_2, 'year_diff_2':year_diff_2 })\n",
    "df_year = pd.concat([df_year, df_year_m_div_2], axis =1)"
   ]
  },
  {
   "cell_type": "code",
   "execution_count": 254,
   "metadata": {},
   "outputs": [],
   "source": [
    "#df_year.sort_values(by=['year_diff_2'], ascending=True).head(20)\n",
    "df_year_2 = df_year[df_year['year_diff_2']>=0]"
   ]
  },
  {
   "cell_type": "code",
   "execution_count": 262,
   "metadata": {},
   "outputs": [
    {
     "data": {
      "text/plain": [
       "<matplotlib.axes._subplots.AxesSubplot at 0x1a278a54e0>"
      ]
     },
     "execution_count": 262,
     "metadata": {},
     "output_type": "execute_result"
    },
    {
     "data": {
      "image/png": "[encoded data removed]",
      "text/plain": [
       "<Figure size 432x288 with 1 Axes>"
      ]
     },
     "metadata": {
      "needs_background": "light"
     },
     "output_type": "display_data"
    }
   ],
   "source": [
    "sns.boxplot(x =\"mar_stage\", y=\"year_diff_2\",\n",
    "           # hue=\"mar_stage\", palette=[\"m\", \"g\"],\n",
    "            data=df_year_2[df_year_2['mar_stage']<=1], showfliers=False)"
   ]
  },
  {
   "cell_type": "code",
   "execution_count": 261,
   "metadata": {},
   "outputs": [
    {
     "data": {
      "text/plain": [
       "<matplotlib.axes._subplots.AxesSubplot at 0x1a2832ac18>"
      ]
     },
     "execution_count": 261,
     "metadata": {},
     "output_type": "execute_result"
    },
    {
     "data": {
      "image/png": "[encoded data removed]",
      "text/plain": [
       "<Figure size 432x288 with 1 Axes>"
      ]
     },
     "metadata": {
      "needs_background": "light"
     },
     "output_type": "display_data"
    }
   ],
   "source": [
    "sns.boxplot(x =\"mar_stage\", y=\"year_diff_1\",\n",
    "           # hue=\"mar_stage\", palette=[\"m\", \"g\"],\n",
    "            data=df_year_2[df_year_2['mar_stage']<=1], showfliers=False)"
   ]
  },
  {
   "cell_type": "markdown",
   "metadata": {},
   "source": [
    "# Conclusions and Next Steps\n",
    "Summarize findings here"
   ]
  },
  {
   "cell_type": "code",
   "execution_count": null,
   "metadata": {},
   "outputs": [],
   "source": []
  },
  {
   "cell_type": "code",
   "execution_count": null,
   "metadata": {},
   "outputs": [],
   "source": [
    "import pandas as pd\n",
    "df = pd.read_csv('export_df_actress.csv')"
   ]
  },
  {
   "cell_type": "code",
   "execution_count": null,
   "metadata": {},
   "outputs": [],
   "source": [
    "import numpy as np\n",
    "import pandas as pd\n",
    "import matplotlib.pyplot as plt\n",
    "from sklearn.linear_model import LinearRegression\n",
    "from sklearn.model_selection import train_test_split\n",
    "from sklearn.metrics import r2_score, mean_squared_error\n",
    "import test3 as t\n",
    "import seaborn as sns\n",
    "%matplotlib inline\n"
   ]
  },
  {
   "cell_type": "code",
   "execution_count": null,
   "metadata": {},
   "outputs": [],
   "source": [
    "fill_mean = lambda col: col.fillna(col.mean())\n",
    "fill_df = drop_sal_df.apply(fill_mean, axis = 0) #Fill all missing values with the mean of the column.\n"
   ]
  },
  {
   "cell_type": "code",
   "execution_count": null,
   "metadata": {},
   "outputs": [],
   "source": [
    "#Split into explanatory and response variables\n",
    "X = fill_df[['CareerSatisfaction', 'HoursPerWeek', 'JobSatisfaction', 'StackOverflowSatisfaction']]\n",
    "y = fill_df['Salary']\n",
    "\n",
    "#Split into train and test\n",
    "X_train, X_test, y_train, y_test = train_test_split(X, y, test_size = .30, random_state=42) \n",
    "\n",
    "lm_model = LinearRegression(normalize=True) # Instantiate\n",
    "lm_model.fit(X_train, y_train) #Fit\n",
    "        \n",
    "#Predict and score the model\n",
    "y_test_preds = lm_model.predict(X_test) \n",
    "\n",
    "#Rsquared and y_test\n",
    "rsquared_score = r2_score(y_test, y_test_preds)\n",
    "length_y_test = len(y_test)\n",
    "\"The r-squared score for your model was {} on {} values.\".format(rsquared_score, length_y_test)"
   ]
  },
  {
   "cell_type": "code",
   "execution_count": null,
   "metadata": {},
   "outputs": [],
   "source": [
    "pd.get_dummies(dummy_var_df['col1'])"
   ]
  }
 ],
 "metadata": {
  "kernelspec": {
   "display_name": "Python 3",
   "language": "python",
   "name": "python3"
  },
  "language_info": {
   "codemirror_mode": {
    "name": "ipython",
    "version": 3
   },
   "file_extension": ".py",
   "mimetype": "text/x-python",
   "name": "python",
   "nbconvert_exporter": "python",
   "pygments_lexer": "ipython3",
   "version": "3.6.8"
  }
 },
 "nbformat": 4,
 "nbformat_minor": 2
}
