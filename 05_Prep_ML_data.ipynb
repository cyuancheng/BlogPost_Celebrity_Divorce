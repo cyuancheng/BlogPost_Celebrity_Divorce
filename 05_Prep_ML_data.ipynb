{
 "cells": [
  {
   "cell_type": "markdown",
   "metadata": {},
   "source": [
    "# 05 Prepare data for machine learning\n",
    "Clean and process data for machine learning"
   ]
  },
  {
   "cell_type": "code",
   "execution_count": 289,
   "metadata": {},
   "outputs": [],
   "source": [
    "# Data manipulation\n",
    "import pandas as pd\n",
    "import numpy as np\n",
    "import seaborn  as sns\n",
    "import matplotlib.pyplot as plt\n",
    "from time import gmtime, strftime\n",
    "import ast\n",
    "%matplotlib inline"
   ]
  },
  {
   "cell_type": "code",
   "execution_count": 307,
   "metadata": {},
   "outputs": [],
   "source": [
    "#import pandas as pd\n",
    "df = pd.read_csv('export_df_div_dropna.csv')"
   ]
  },
  {
   "cell_type": "code",
   "execution_count": 308,
   "metadata": {},
   "outputs": [
    {
     "data": {
      "text/plain": [
       "Index(['name', 'bday', 'sex', 'age', 'age_diff', 'zodiac', 'zodiac_sp',\n",
       "       'num_of_m', 'num_of_m_sp', 'num_of_child_cl', 'num_of_child_sp_cl',\n",
       "       'num_of_role', 'num_of_role_sp', 'geohash', 'geo_distance', 'age_m_1',\n",
       "       'age_div_1', 'age_m_sp_1', 'age_div_sp_1', 'divorce'],\n",
       "      dtype='object')"
      ]
     },
     "execution_count": 308,
     "metadata": {},
     "output_type": "execute_result"
    }
   ],
   "source": [
    "df = df.drop(['Unnamed: 0'], axis=1)\n",
    "df.columns"
   ]
  },
  {
   "cell_type": "markdown",
   "metadata": {},
   "source": [
    "## Preprocessing work"
   ]
  },
  {
   "cell_type": "markdown",
   "metadata": {},
   "source": [
    "Convert sex column into numerical value"
   ]
  },
  {
   "cell_type": "code",
   "execution_count": 309,
   "metadata": {},
   "outputs": [
    {
     "data": {
      "text/plain": [
       "0    1\n",
       "1    1\n",
       "2    1\n",
       "3    1\n",
       "4    1\n",
       "Name: sex, dtype: int64"
      ]
     },
     "execution_count": 309,
     "metadata": {},
     "output_type": "execute_result"
    }
   ],
   "source": [
    "df['sex'] = df['sex'].map({'M':1 , 'F':0})\n",
    "df['sex'].head()"
   ]
  },
  {
   "cell_type": "markdown",
   "metadata": {},
   "source": [
    "## Deal with missing data and prepare data for ML\n"
   ]
  },
  {
   "cell_type": "code",
   "execution_count": 311,
   "metadata": {},
   "outputs": [
    {
     "data": {
      "text/plain": [
       "num_of_child_sp_cl    78.284790\n",
       "age_div_sp_1          73.203883\n",
       "age_m_sp_1            73.203883\n",
       "num_of_m_sp           71.553398\n",
       "age_diff              68.964401\n",
       "num_of_role_sp        68.834951\n",
       "zodiac_sp             68.414239\n",
       "geo_distance          67.443366\n",
       "age_div_1             56.601942\n",
       "num_of_child_cl       34.660194\n",
       "num_of_role            4.142395\n",
       "age_m_1                2.750809\n",
       "bday                   2.394822\n",
       "zodiac                 2.394822\n",
       "age                    2.394822\n",
       "geohash                0.906149\n",
       "num_of_m               0.355987\n",
       "divorce                0.000000\n",
       "sex                    0.000000\n",
       "name                   0.000000\n",
       "dtype: float64"
      ]
     },
     "execution_count": 311,
     "metadata": {},
     "output_type": "execute_result"
    }
   ],
   "source": [
    "# Check the missing value (%)\n",
    "(df.isnull().sum()*100 / len(df)).sort_values(ascending=False)"
   ]
  },
  {
   "cell_type": "markdown",
   "metadata": {},
   "source": [
    "**1.** Deal with missing values in numerical columns"
   ]
  },
  {
   "cell_type": "code",
   "execution_count": 312,
   "metadata": {},
   "outputs": [],
   "source": [
    "# numerical columns\n",
    "df_num_vars = df[['age','age_diff', 'zodiac','zodiac_sp','num_of_child_cl',\n",
    "                         'num_of_child_sp_cl','num_of_role','num_of_role_sp','geo_distance',\n",
    "                         'age_m_1','age_m_sp_1','sex']];\n"
   ]
  },
  {
   "cell_type": "code",
   "execution_count": 313,
   "metadata": {},
   "outputs": [
    {
     "data": {
      "text/plain": [
       "(3090, 12)"
      ]
     },
     "execution_count": 313,
     "metadata": {},
     "output_type": "execute_result"
    }
   ],
   "source": [
    "# fill missing data with mean value\n",
    "fill_mean = lambda col: col.fillna(col.mean())\n",
    "df_num_vars = df_num_vars.apply(fill_mean, axis=0);\n",
    "df_num_vars.shape"
   ]
  },
  {
   "cell_type": "markdown",
   "metadata": {},
   "source": [
    "**2.** Deal with missing values in catagories column "
   ]
  },
  {
   "cell_type": "code",
   "execution_count": 264,
   "metadata": {},
   "outputs": [
    {
     "data": {
      "text/plain": [
       "3"
      ]
     },
     "execution_count": 264,
     "metadata": {},
     "output_type": "execute_result"
    }
   ],
   "source": [
    "cat_df = df.select_dtypes(include=['object'])# Subset to a dataframe only holding the categorical columns\n",
    "\n",
    "# Print how many categorical columns are in the dataframe - should be 147\n",
    "cat_df.shape[1]"
   ]
  },
  {
   "cell_type": "markdown",
   "metadata": {},
   "source": [
    "The categorical columns are 'name', 'geohash', and 'bday'. ''name ' is unnessesary for ML analysis. 'bday' is redundant to 'age' and 'zodiac' , so I removed these two columns. Next, do the get_dummies on the 'geohash' column,"
   ]
  },
  {
   "cell_type": "code",
   "execution_count": 314,
   "metadata": {},
   "outputs": [],
   "source": [
    "#Create a copy of the dataframe\n",
    "df_cat_vars =  df[['geohash']]\n",
    "\n",
    "#Pull a list of the column names of the categorical variables\n",
    "var = df_cat_vars.columns\n",
    "\n",
    "\n",
    "# for each cat add dummy var, drop original column\n",
    "df_cat_copy = pd.concat([df_cat_vars.drop(var, axis=1), \\\n",
    "                    pd.get_dummies(df_cat_vars[var], prefix=var, prefix_sep='_', drop_first=True,  dummy_na=True)], axis=1)\n",
    " "
   ]
  },
  {
   "cell_type": "markdown",
   "metadata": {},
   "source": [
    "However, after running the feature importance of the randon forrest model, the geohash is not a very important features. So 'geohash' is not included into the dataset"
   ]
  },
  {
   "cell_type": "markdown",
   "metadata": {},
   "source": [
    "Combind feature and label column together"
   ]
  },
  {
   "cell_type": "code",
   "execution_count": 330,
   "metadata": {},
   "outputs": [],
   "source": [
    "df_Xy = pd.concat([df_num_vars, df['divorce']], axis=1)"
   ]
  },
  {
   "cell_type": "code",
   "execution_count": 331,
   "metadata": {},
   "outputs": [
    {
     "data": {
      "text/plain": [
       "(3090, 13)"
      ]
     },
     "execution_count": 331,
     "metadata": {},
     "output_type": "execute_result"
    }
   ],
   "source": [
    "df_Xy.shape"
   ]
  },
  {
   "cell_type": "markdown",
   "metadata": {},
   "source": [
    "Seperate data to features and labels"
   ]
  },
  {
   "cell_type": "code",
   "execution_count": 332,
   "metadata": {},
   "outputs": [],
   "source": [
    "df_X = df_Xy.drop(['divorce'], axis =1)\n",
    "df_y = df_Xy[['divorce']]"
   ]
  },
  {
   "cell_type": "markdown",
   "metadata": {},
   "source": [
    "Seperate data for male and female"
   ]
  },
  {
   "cell_type": "code",
   "execution_count": 337,
   "metadata": {},
   "outputs": [],
   "source": [
    "#Male\n",
    "df_Xy_M = df_Xy[df_Xy['sex'] ==1]\n",
    "df_X_M = df_Xy_M.drop(['divorce', 'sex'], axis =1)\n",
    "df_y_M = df_Xy_M[['divorce']]\n",
    "\n",
    "#Female\n",
    "df_Xy_F = df_Xy[df_Xy['sex'] ==0]\n",
    "df_X_F = df_Xy_F.drop(['divorce', 'sex'], axis =1)\n",
    "df_y_F = df_Xy_F[['divorce']]"
   ]
  },
  {
   "cell_type": "code",
   "execution_count": 338,
   "metadata": {},
   "outputs": [
    {
     "name": "stdout",
     "output_type": "stream",
     "text": [
      "(3090, 12)\n",
      "(3090, 1)\n"
     ]
    }
   ],
   "source": [
    "print(df_X.shape)\n",
    "print(df_y.shape)"
   ]
  },
  {
   "cell_type": "code",
   "execution_count": 339,
   "metadata": {},
   "outputs": [],
   "source": [
    "# save data for ML\n",
    "df_X.to_csv('export_df_X_forML.csv', header=True)\n",
    "df_y.to_csv('export_df_y_forML.csv', header=True)\n",
    "df_X_M.to_csv('export_df_X_M_forML.csv', header=True)\n",
    "df_y_M.to_csv('export_df_y_M_forML.csv', header=True)\n",
    "df_X_F.to_csv('export_df_X_F_forML.csv', header=True)\n",
    "df_y_F.to_csv('export_df_y_F_forML.csv', header=True)"
   ]
  },
  {
   "cell_type": "code",
   "execution_count": null,
   "metadata": {},
   "outputs": [],
   "source": []
  }
 ],
 "metadata": {
  "kernelspec": {
   "display_name": "Python 3",
   "language": "python",
   "name": "python3"
  },
  "language_info": {
   "codemirror_mode": {
    "name": "ipython",
    "version": 3
   },
   "file_extension": ".py",
   "mimetype": "text/x-python",
   "name": "python",
   "nbconvert_exporter": "python",
   "pygments_lexer": "ipython3",
   "version": "3.6.8"
  }
 },
 "nbformat": 4,
 "nbformat_minor": 2
}
