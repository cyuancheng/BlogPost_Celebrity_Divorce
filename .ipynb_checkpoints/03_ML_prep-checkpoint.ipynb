{
 "cells": [
  {
   "cell_type": "markdown",
   "metadata": {},
   "source": [
    "# Introduction\n",
    "Integrate the data from actor and actress"
   ]
  },
  {
   "cell_type": "markdown",
   "metadata": {},
   "source": [
    "## Imports\n",
    "Import libraries and write settings here."
   ]
  },
  {
   "cell_type": "code",
   "execution_count": 174,
   "metadata": {},
   "outputs": [],
   "source": [
    "# Data manipulation\n",
    "import pandas as pd\n",
    "import numpy as np\n",
    "import seaborn  as sns\n",
    "import matplotlib.pyplot as plt\n",
    "from time import gmtime, strftime\n",
    "import ast\n",
    "%matplotlib inline\n",
    "#import nltk "
   ]
  },
  {
   "cell_type": "code",
   "execution_count": 252,
   "metadata": {},
   "outputs": [],
   "source": [
    "#import pandas as pd\n",
    "#df = pd.read_csv('export_df_div_dropna.csv')\n",
    "\n",
    "df = pd.read_csv('export_df_div_dropna.csv')"
   ]
  },
  {
   "cell_type": "code",
   "execution_count": 253,
   "metadata": {},
   "outputs": [
    {
     "data": {
      "text/plain": [
       "Index(['Unnamed: 0', 'name', 'bday', 'sex', 'age', 'age_diff', 'zodiac',\n",
       "       'zodiac_sp', 'num_of_m', 'num_of_m_sp', 'num_of_child_cl',\n",
       "       'num_of_child_sp_cl', 'num_of_role', 'num_of_role_sp', 'geohash',\n",
       "       'geo_distance', 'age_m_1', 'age_div_1', 'age_m_sp_1', 'age_div_sp_1',\n",
       "       'divorce'],\n",
       "      dtype='object')"
      ]
     },
     "execution_count": 253,
     "metadata": {},
     "output_type": "execute_result"
    }
   ],
   "source": [
    "df.columns"
   ]
  },
  {
   "cell_type": "code",
   "execution_count": 255,
   "metadata": {},
   "outputs": [
    {
     "data": {
      "text/plain": [
       "0    1\n",
       "1    1\n",
       "2    1\n",
       "3    1\n",
       "4    1\n",
       "Name: sex, dtype: int64"
      ]
     },
     "execution_count": 255,
     "metadata": {},
     "output_type": "execute_result"
    }
   ],
   "source": [
    "df['sex'].replace(['F','M'],[0,1],inplace=True)\n",
    "df['sex'].head()"
   ]
  },
  {
   "cell_type": "markdown",
   "metadata": {},
   "source": [
    "## Clean the dataset\n",
    "Remove the following column:\n",
    "'Unnamed: 0'"
   ]
  },
  {
   "cell_type": "code",
   "execution_count": 256,
   "metadata": {},
   "outputs": [],
   "source": [
    "df = df.drop(['Unnamed: 0'], axis =1)"
   ]
  },
  {
   "cell_type": "code",
   "execution_count": 257,
   "metadata": {},
   "outputs": [
    {
     "name": "stdout",
     "output_type": "stream",
     "text": [
      "(3090, 20)\n"
     ]
    },
    {
     "data": {
      "text/plain": [
       "num_of_child_sp_cl    78.284790\n",
       "age_div_sp_1          73.203883\n",
       "age_m_sp_1            73.203883\n",
       "num_of_m_sp           71.553398\n",
       "age_diff              68.964401\n",
       "num_of_role_sp        68.834951\n",
       "zodiac_sp             68.414239\n",
       "geo_distance          67.443366\n",
       "age_div_1             56.601942\n",
       "num_of_child_cl       34.660194\n",
       "num_of_role            4.142395\n",
       "age_m_1                2.750809\n",
       "bday                   2.394822\n",
       "zodiac                 2.394822\n",
       "age                    2.394822\n",
       "geohash                0.906149\n",
       "num_of_m               0.355987\n",
       "divorce                0.000000\n",
       "sex                    0.000000\n",
       "name                   0.000000\n",
       "dtype: float64"
      ]
     },
     "execution_count": 257,
     "metadata": {},
     "output_type": "execute_result"
    }
   ],
   "source": [
    "# Check the missing value (%)\n",
    "print(df.shape)\n",
    "(df.isnull().sum()*100 / len(df)).sort_values(ascending=False)"
   ]
  },
  {
   "cell_type": "markdown",
   "metadata": {},
   "source": [
    "### More preprocessing work\n",
    "Calcualte the year of first marrage and first divoice"
   ]
  },
  {
   "cell_type": "markdown",
   "metadata": {},
   "source": [
    "### Deal with missing data and prepare data for ML\n",
    "Remove the rows associated with nan values in divorce column. Store the dataframe with these rows removed in df_div_rm."
   ]
  },
  {
   "cell_type": "code",
   "execution_count": 258,
   "metadata": {},
   "outputs": [
    {
     "data": {
      "text/plain": [
       "num_of_child_sp_cl    78.284790\n",
       "age_div_sp_1          73.203883\n",
       "age_m_sp_1            73.203883\n",
       "num_of_m_sp           71.553398\n",
       "age_diff              68.964401\n",
       "num_of_role_sp        68.834951\n",
       "zodiac_sp             68.414239\n",
       "geo_distance          67.443366\n",
       "age_div_1             56.601942\n",
       "num_of_child_cl       34.660194\n",
       "num_of_role            4.142395\n",
       "age_m_1                2.750809\n",
       "bday                   2.394822\n",
       "zodiac                 2.394822\n",
       "age                    2.394822\n",
       "geohash                0.906149\n",
       "num_of_m               0.355987\n",
       "divorce                0.000000\n",
       "sex                    0.000000\n",
       "name                   0.000000\n",
       "dtype: float64"
      ]
     },
     "execution_count": 258,
     "metadata": {},
     "output_type": "execute_result"
    }
   ],
   "source": [
    "# Check the missing value (%)\n",
    "(df.isnull().sum()*100 / len(df)).sort_values(ascending=False)"
   ]
  },
  {
   "cell_type": "code",
   "execution_count": 262,
   "metadata": {},
   "outputs": [],
   "source": [
    "df_num_vars = df[['age','age_diff', 'zodiac','zodiac_sp','num_of_child_cl',\n",
    "                         'num_of_child_sp_cl','num_of_role','num_of_role_sp','geo_distance',\n",
    "                         'age_m_1','age_m_sp_1','sex']];\n"
   ]
  },
  {
   "cell_type": "code",
   "execution_count": 263,
   "metadata": {},
   "outputs": [
    {
     "data": {
      "text/plain": [
       "(3090, 12)"
      ]
     },
     "execution_count": 263,
     "metadata": {},
     "output_type": "execute_result"
    }
   ],
   "source": [
    "fill_mean = lambda col: col.fillna(col.mean())\n",
    "df_num_vars = df_num_vars.apply(fill_mean, axis=0);\n",
    "df_num_vars.shape"
   ]
  },
  {
   "cell_type": "markdown",
   "metadata": {},
   "source": [
    "**2.** deal with missing values in catagories column "
   ]
  },
  {
   "cell_type": "code",
   "execution_count": 264,
   "metadata": {},
   "outputs": [
    {
     "data": {
      "text/plain": [
       "3"
      ]
     },
     "execution_count": 264,
     "metadata": {},
     "output_type": "execute_result"
    }
   ],
   "source": [
    "cat_df = df.select_dtypes(include=['object'])# Subset to a dataframe only holding the categorical columns\n",
    "\n",
    "# Print how many categorical columns are in the dataframe - should be 147\n",
    "cat_df.shape[1]"
   ]
  },
  {
   "cell_type": "markdown",
   "metadata": {},
   "source": [
    "The categorical columns are 'name', 'sex', 'geohash', and 'bday'. ''name ' is unnessesary for ML analysis. 'bday' is redundant to 'age' and 'zodiac' , so I removed these two columns. Next, do the get_dummies on the 'geohash' column,"
   ]
  },
  {
   "cell_type": "code",
   "execution_count": 265,
   "metadata": {},
   "outputs": [],
   "source": [
    "#Create a copy of the dataframe\n",
    "df_cat_vars =  df[['geohash']]\n",
    "\n",
    "#Pull a list of the column names of the categorical variables\n",
    "var = df_cat_vars.columns\n",
    "\n",
    "\n",
    "    # for each cat add dummy var, drop original column\n",
    "df_cat_copy = pd.concat([df_cat_vars.drop(var, axis=1), \\\n",
    "                    pd.get_dummies(df_cat_vars[var], prefix=var, prefix_sep='_', drop_first=True,  dummy_na=True)], axis=1)\n",
    " "
   ]
  },
  {
   "cell_type": "code",
   "execution_count": 266,
   "metadata": {},
   "outputs": [],
   "source": [
    "#df_X = pd.concat([df_cat_copy, df_sex], axis=1)\n",
    "df_X = pd.concat([df_num_vars, df_cat_copy], axis=1)"
   ]
  },
  {
   "cell_type": "code",
   "execution_count": 273,
   "metadata": {},
   "outputs": [
    {
     "name": "stdout",
     "output_type": "stream",
     "text": [
      "Index(['age', 'age_diff', 'zodiac', 'zodiac_sp', 'num_of_child_cl',\n",
      "       'num_of_child_sp_cl', 'num_of_role', 'num_of_role_sp', 'geo_distance',\n",
      "       'age_m_1',\n",
      "       ...\n",
      "       'geohash_wvuxp6g', 'geohash_wy7b1hn', 'geohash_wyd6fyj',\n",
      "       'geohash_wydm9qy', 'geohash_xn6mfnb', 'geohash_xn76cyd',\n",
      "       'geohash_xn76u57', 'geohash_xpttfun', 'geohash_z0me0j8', 'geohash_nan'],\n",
      "      dtype='object', length=1187)\n"
     ]
    }
   ],
   "source": [
    "#df_X = pd.DataFrame()\n",
    "#df_X = df_X.drop_duplicates(keep='first') \n",
    "print(df_X.columns)"
   ]
  },
  {
   "cell_type": "code",
   "execution_count": 277,
   "metadata": {},
   "outputs": [],
   "source": [
    "df_y = df[['divorce']]"
   ]
  },
  {
   "cell_type": "code",
   "execution_count": 278,
   "metadata": {},
   "outputs": [],
   "source": [
    "# save data for ML\n",
    "df_X.to_csv('export_df_X_forML.csv', header=True)\n",
    "df_y.to_csv('export_df_y_forML.csv', header=True)"
   ]
  },
  {
   "cell_type": "code",
   "execution_count": 279,
   "metadata": {},
   "outputs": [
    {
     "name": "stdout",
     "output_type": "stream",
     "text": [
      "(3090, 1187)\n"
     ]
    }
   ],
   "source": [
    "print(df_X.shape)"
   ]
  },
  {
   "cell_type": "code",
   "execution_count": 280,
   "metadata": {},
   "outputs": [
    {
     "name": "stdout",
     "output_type": "stream",
     "text": [
      "(3090, 1)\n"
     ]
    }
   ],
   "source": [
    "print(df_y.shape)"
   ]
  },
  {
   "cell_type": "code",
   "execution_count": 281,
   "metadata": {},
   "outputs": [
    {
     "data": {
      "text/html": [
       "<div>\n",
       "<style scoped>\n",
       "    .dataframe tbody tr th:only-of-type {\n",
       "        vertical-align: middle;\n",
       "    }\n",
       "\n",
       "    .dataframe tbody tr th {\n",
       "        vertical-align: top;\n",
       "    }\n",
       "\n",
       "    .dataframe thead th {\n",
       "        text-align: right;\n",
       "    }\n",
       "</style>\n",
       "<table border=\"1\" class=\"dataframe\">\n",
       "  <thead>\n",
       "    <tr style=\"text-align: right;\">\n",
       "      <th></th>\n",
       "      <th>age</th>\n",
       "      <th>age_diff</th>\n",
       "      <th>zodiac</th>\n",
       "      <th>zodiac_sp</th>\n",
       "      <th>num_of_child_cl</th>\n",
       "      <th>num_of_child_sp_cl</th>\n",
       "      <th>num_of_role</th>\n",
       "      <th>num_of_role_sp</th>\n",
       "      <th>geo_distance</th>\n",
       "      <th>age_m_1</th>\n",
       "      <th>...</th>\n",
       "      <th>geohash_wvuxp6g</th>\n",
       "      <th>geohash_wy7b1hn</th>\n",
       "      <th>geohash_wyd6fyj</th>\n",
       "      <th>geohash_wydm9qy</th>\n",
       "      <th>geohash_xn6mfnb</th>\n",
       "      <th>geohash_xn76cyd</th>\n",
       "      <th>geohash_xn76u57</th>\n",
       "      <th>geohash_xpttfun</th>\n",
       "      <th>geohash_z0me0j8</th>\n",
       "      <th>geohash_nan</th>\n",
       "    </tr>\n",
       "  </thead>\n",
       "  <tbody>\n",
       "    <tr>\n",
       "      <th>0</th>\n",
       "      <td>58.810243</td>\n",
       "      <td>0.476636</td>\n",
       "      <td>6.000000</td>\n",
       "      <td>5.688525</td>\n",
       "      <td>2.000000</td>\n",
       "      <td>2.244411</td>\n",
       "      <td>5.0</td>\n",
       "      <td>2.511942</td>\n",
       "      <td>1.206643e+07</td>\n",
       "      <td>19.000000</td>\n",
       "      <td>...</td>\n",
       "      <td>0</td>\n",
       "      <td>0</td>\n",
       "      <td>0</td>\n",
       "      <td>0</td>\n",
       "      <td>0</td>\n",
       "      <td>0</td>\n",
       "      <td>0</td>\n",
       "      <td>0</td>\n",
       "      <td>0</td>\n",
       "      <td>0</td>\n",
       "    </tr>\n",
       "    <tr>\n",
       "      <th>1</th>\n",
       "      <td>64.776142</td>\n",
       "      <td>-2.165684</td>\n",
       "      <td>7.000000</td>\n",
       "      <td>9.000000</td>\n",
       "      <td>2.000000</td>\n",
       "      <td>2.000000</td>\n",
       "      <td>1.0</td>\n",
       "      <td>1.000000</td>\n",
       "      <td>2.000000e+07</td>\n",
       "      <td>28.000000</td>\n",
       "      <td>...</td>\n",
       "      <td>0</td>\n",
       "      <td>0</td>\n",
       "      <td>0</td>\n",
       "      <td>0</td>\n",
       "      <td>0</td>\n",
       "      <td>0</td>\n",
       "      <td>0</td>\n",
       "      <td>0</td>\n",
       "      <td>0</td>\n",
       "      <td>0</td>\n",
       "    </tr>\n",
       "    <tr>\n",
       "      <th>2</th>\n",
       "      <td>70.357546</td>\n",
       "      <td>0.476636</td>\n",
       "      <td>5.583223</td>\n",
       "      <td>5.688525</td>\n",
       "      <td>2.000000</td>\n",
       "      <td>2.244411</td>\n",
       "      <td>3.0</td>\n",
       "      <td>2.511942</td>\n",
       "      <td>1.206643e+07</td>\n",
       "      <td>30.055907</td>\n",
       "      <td>...</td>\n",
       "      <td>0</td>\n",
       "      <td>0</td>\n",
       "      <td>0</td>\n",
       "      <td>0</td>\n",
       "      <td>0</td>\n",
       "      <td>0</td>\n",
       "      <td>0</td>\n",
       "      <td>0</td>\n",
       "      <td>0</td>\n",
       "      <td>0</td>\n",
       "    </tr>\n",
       "    <tr>\n",
       "      <th>3</th>\n",
       "      <td>70.357546</td>\n",
       "      <td>0.476636</td>\n",
       "      <td>5.583223</td>\n",
       "      <td>5.688525</td>\n",
       "      <td>2.310054</td>\n",
       "      <td>2.244411</td>\n",
       "      <td>1.0</td>\n",
       "      <td>2.511942</td>\n",
       "      <td>1.206643e+07</td>\n",
       "      <td>30.055907</td>\n",
       "      <td>...</td>\n",
       "      <td>0</td>\n",
       "      <td>0</td>\n",
       "      <td>0</td>\n",
       "      <td>0</td>\n",
       "      <td>0</td>\n",
       "      <td>0</td>\n",
       "      <td>0</td>\n",
       "      <td>0</td>\n",
       "      <td>0</td>\n",
       "      <td>0</td>\n",
       "    </tr>\n",
       "    <tr>\n",
       "      <th>4</th>\n",
       "      <td>31.466765</td>\n",
       "      <td>0.476636</td>\n",
       "      <td>10.000000</td>\n",
       "      <td>5.688525</td>\n",
       "      <td>2.310054</td>\n",
       "      <td>2.244411</td>\n",
       "      <td>3.0</td>\n",
       "      <td>2.511942</td>\n",
       "      <td>1.206643e+07</td>\n",
       "      <td>26.000000</td>\n",
       "      <td>...</td>\n",
       "      <td>0</td>\n",
       "      <td>0</td>\n",
       "      <td>0</td>\n",
       "      <td>0</td>\n",
       "      <td>0</td>\n",
       "      <td>0</td>\n",
       "      <td>0</td>\n",
       "      <td>0</td>\n",
       "      <td>0</td>\n",
       "      <td>0</td>\n",
       "    </tr>\n",
       "  </tbody>\n",
       "</table>\n",
       "<p>5 rows × 1187 columns</p>\n",
       "</div>"
      ],
      "text/plain": [
       "         age  age_diff     zodiac  zodiac_sp  num_of_child_cl  \\\n",
       "0  58.810243  0.476636   6.000000   5.688525         2.000000   \n",
       "1  64.776142 -2.165684   7.000000   9.000000         2.000000   \n",
       "2  70.357546  0.476636   5.583223   5.688525         2.000000   \n",
       "3  70.357546  0.476636   5.583223   5.688525         2.310054   \n",
       "4  31.466765  0.476636  10.000000   5.688525         2.310054   \n",
       "\n",
       "   num_of_child_sp_cl  num_of_role  num_of_role_sp  geo_distance    age_m_1  \\\n",
       "0            2.244411          5.0        2.511942  1.206643e+07  19.000000   \n",
       "1            2.000000          1.0        1.000000  2.000000e+07  28.000000   \n",
       "2            2.244411          3.0        2.511942  1.206643e+07  30.055907   \n",
       "3            2.244411          1.0        2.511942  1.206643e+07  30.055907   \n",
       "4            2.244411          3.0        2.511942  1.206643e+07  26.000000   \n",
       "\n",
       "   ...  geohash_wvuxp6g  geohash_wy7b1hn  geohash_wyd6fyj  geohash_wydm9qy  \\\n",
       "0  ...                0                0                0                0   \n",
       "1  ...                0                0                0                0   \n",
       "2  ...                0                0                0                0   \n",
       "3  ...                0                0                0                0   \n",
       "4  ...                0                0                0                0   \n",
       "\n",
       "   geohash_xn6mfnb  geohash_xn76cyd  geohash_xn76u57  geohash_xpttfun  \\\n",
       "0                0                0                0                0   \n",
       "1                0                0                0                0   \n",
       "2                0                0                0                0   \n",
       "3                0                0                0                0   \n",
       "4                0                0                0                0   \n",
       "\n",
       "   geohash_z0me0j8  geohash_nan  \n",
       "0                0            0  \n",
       "1                0            0  \n",
       "2                0            0  \n",
       "3                0            0  \n",
       "4                0            0  \n",
       "\n",
       "[5 rows x 1187 columns]"
      ]
     },
     "execution_count": 281,
     "metadata": {},
     "output_type": "execute_result"
    }
   ],
   "source": [
    "df_X.head()"
   ]
  },
  {
   "cell_type": "code",
   "execution_count": 282,
   "metadata": {},
   "outputs": [
    {
     "data": {
      "text/html": [
       "<div>\n",
       "<style scoped>\n",
       "    .dataframe tbody tr th:only-of-type {\n",
       "        vertical-align: middle;\n",
       "    }\n",
       "\n",
       "    .dataframe tbody tr th {\n",
       "        vertical-align: top;\n",
       "    }\n",
       "\n",
       "    .dataframe thead th {\n",
       "        text-align: right;\n",
       "    }\n",
       "</style>\n",
       "<table border=\"1\" class=\"dataframe\">\n",
       "  <thead>\n",
       "    <tr style=\"text-align: right;\">\n",
       "      <th></th>\n",
       "      <th>divorce</th>\n",
       "    </tr>\n",
       "  </thead>\n",
       "  <tbody>\n",
       "    <tr>\n",
       "      <th>0</th>\n",
       "      <td>1.0</td>\n",
       "    </tr>\n",
       "    <tr>\n",
       "      <th>1</th>\n",
       "      <td>1.0</td>\n",
       "    </tr>\n",
       "    <tr>\n",
       "      <th>2</th>\n",
       "      <td>0.0</td>\n",
       "    </tr>\n",
       "    <tr>\n",
       "      <th>3</th>\n",
       "      <td>1.0</td>\n",
       "    </tr>\n",
       "    <tr>\n",
       "      <th>4</th>\n",
       "      <td>0.0</td>\n",
       "    </tr>\n",
       "  </tbody>\n",
       "</table>\n",
       "</div>"
      ],
      "text/plain": [
       "   divorce\n",
       "0      1.0\n",
       "1      1.0\n",
       "2      0.0\n",
       "3      1.0\n",
       "4      0.0"
      ]
     },
     "execution_count": 282,
     "metadata": {},
     "output_type": "execute_result"
    }
   ],
   "source": [
    "df_y.head()"
   ]
  },
  {
   "cell_type": "code",
   "execution_count": null,
   "metadata": {},
   "outputs": [],
   "source": []
  }
 ],
 "metadata": {
  "kernelspec": {
   "display_name": "Python 3",
   "language": "python",
   "name": "python3"
  },
  "language_info": {
   "codemirror_mode": {
    "name": "ipython",
    "version": 3
   },
   "file_extension": ".py",
   "mimetype": "text/x-python",
   "name": "python",
   "nbconvert_exporter": "python",
   "pygments_lexer": "ipython3",
   "version": "3.6.8"
  }
 },
 "nbformat": 4,
 "nbformat_minor": 2
}
