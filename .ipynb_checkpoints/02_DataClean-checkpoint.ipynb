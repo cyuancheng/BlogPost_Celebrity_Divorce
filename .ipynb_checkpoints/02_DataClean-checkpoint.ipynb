{
 "cells": [
  {
   "cell_type": "markdown",
   "metadata": {},
   "source": [
    "# Introduction\n",
    "Integrate the data from actor and actress"
   ]
  },
  {
   "cell_type": "markdown",
   "metadata": {},
   "source": [
    "## Imports\n",
    "Import libraries and write settings here."
   ]
  },
  {
   "cell_type": "code",
   "execution_count": 1,
   "metadata": {},
   "outputs": [],
   "source": [
    "# Data manipulation\n",
    "import pandas as pd\n",
    "import numpy as np\n",
    "import seaborn  as sns\n",
    "import matplotlib.pyplot as plt\n",
    "from time import gmtime, strftime\n",
    "import ast\n",
    "%matplotlib inline\n",
    "#import nltk "
   ]
  },
  {
   "cell_type": "code",
   "execution_count": 2,
   "metadata": {},
   "outputs": [],
   "source": [
    "#import pandas as pd\n",
    "df_actress = pd.read_csv('export_df_actress_div.csv')\n",
    "df_actor = pd.read_csv('export_df_actor_div.csv')"
   ]
  },
  {
   "cell_type": "markdown",
   "metadata": {},
   "source": [
    "Merge two datasets"
   ]
  },
  {
   "cell_type": "code",
   "execution_count": 3,
   "metadata": {},
   "outputs": [
    {
     "data": {
      "text/html": [
       "<div>\n",
       "<style scoped>\n",
       "    .dataframe tbody tr th:only-of-type {\n",
       "        vertical-align: middle;\n",
       "    }\n",
       "\n",
       "    .dataframe tbody tr th {\n",
       "        vertical-align: top;\n",
       "    }\n",
       "\n",
       "    .dataframe thead th {\n",
       "        text-align: right;\n",
       "    }\n",
       "</style>\n",
       "<table border=\"1\" class=\"dataframe\">\n",
       "  <thead>\n",
       "    <tr style=\"text-align: right;\">\n",
       "      <th></th>\n",
       "      <th>Unnamed: 0</th>\n",
       "      <th>name</th>\n",
       "      <th>bday</th>\n",
       "      <th>name_sp</th>\n",
       "      <th>num_of_child</th>\n",
       "      <th>education</th>\n",
       "      <th>role</th>\n",
       "      <th>birthplace</th>\n",
       "      <th>bday_sp</th>\n",
       "      <th>birthplace_sp</th>\n",
       "      <th>...</th>\n",
       "      <th>num_of_m_sp</th>\n",
       "      <th>num_of_role</th>\n",
       "      <th>num_of_role_sp</th>\n",
       "      <th>geohash</th>\n",
       "      <th>geohash_sp</th>\n",
       "      <th>geo_distance</th>\n",
       "      <th>zodiac</th>\n",
       "      <th>zodiac_sp</th>\n",
       "      <th>sex</th>\n",
       "      <th>divorce</th>\n",
       "    </tr>\n",
       "  </thead>\n",
       "  <tbody>\n",
       "    <tr>\n",
       "      <th>0</th>\n",
       "      <td>0</td>\n",
       "      <td>50 Cent</td>\n",
       "      <td>1975-07-06</td>\n",
       "      <td>\\n G-Unit \\n Dr. Dre \\n Eminem \\n The Game \\n ...</td>\n",
       "      <td>2</td>\n",
       "      <td>NaN</td>\n",
       "      <td>\\nRapper\\nsinger\\nsongwriter\\nactor\\nentrepren...</td>\n",
       "      <td>New York City, New York, U.S.</td>\n",
       "      <td>NaN</td>\n",
       "      <td>NaN</td>\n",
       "      <td>...</td>\n",
       "      <td>NaN</td>\n",
       "      <td>8.0</td>\n",
       "      <td>NaN</td>\n",
       "      <td>dr5regw</td>\n",
       "      <td>NaN</td>\n",
       "      <td>NaN</td>\n",
       "      <td>6.0</td>\n",
       "      <td>NaN</td>\n",
       "      <td>M</td>\n",
       "      <td>NaN</td>\n",
       "    </tr>\n",
       "    <tr>\n",
       "      <th>1</th>\n",
       "      <td>1</td>\n",
       "      <td>Lee Aaker</td>\n",
       "      <td>1943-09-25</td>\n",
       "      <td>Sharon Ann Hamilton (1969-71) (divorced)</td>\n",
       "      <td>NaN</td>\n",
       "      <td>NaN</td>\n",
       "      <td>Actor, producer, carpenter, ski instructor</td>\n",
       "      <td>Los Angeles, California, U.S.</td>\n",
       "      <td>NaN</td>\n",
       "      <td>NaN</td>\n",
       "      <td>...</td>\n",
       "      <td>NaN</td>\n",
       "      <td>5.0</td>\n",
       "      <td>NaN</td>\n",
       "      <td>9q5ctr1</td>\n",
       "      <td>NaN</td>\n",
       "      <td>NaN</td>\n",
       "      <td>9.0</td>\n",
       "      <td>NaN</td>\n",
       "      <td>M</td>\n",
       "      <td>NaN</td>\n",
       "    </tr>\n",
       "    <tr>\n",
       "      <th>2</th>\n",
       "      <td>2</td>\n",
       "      <td>Willie Aames</td>\n",
       "      <td>1960-07-15</td>\n",
       "      <td>Vicki Weatherman ( m.  1979–1984) Maylo McCasl...</td>\n",
       "      <td>2</td>\n",
       "      <td>NaN</td>\n",
       "      <td>Actor, director, television producer, screenwr...</td>\n",
       "      <td>Newport Beach, California, U.S.</td>\n",
       "      <td>NaN</td>\n",
       "      <td>NaN</td>\n",
       "      <td>...</td>\n",
       "      <td>NaN</td>\n",
       "      <td>5.0</td>\n",
       "      <td>NaN</td>\n",
       "      <td>9mupk2n</td>\n",
       "      <td>NaN</td>\n",
       "      <td>NaN</td>\n",
       "      <td>6.0</td>\n",
       "      <td>NaN</td>\n",
       "      <td>M</td>\n",
       "      <td>1.0</td>\n",
       "    </tr>\n",
       "    <tr>\n",
       "      <th>3</th>\n",
       "      <td>3</td>\n",
       "      <td>Quinton Aaron</td>\n",
       "      <td>1984-08-15</td>\n",
       "      <td>NaN</td>\n",
       "      <td>NaN</td>\n",
       "      <td>NaN</td>\n",
       "      <td>Actor</td>\n",
       "      <td>The Bronx, New York, U.S.</td>\n",
       "      <td>NaN</td>\n",
       "      <td>NaN</td>\n",
       "      <td>...</td>\n",
       "      <td>NaN</td>\n",
       "      <td>1.0</td>\n",
       "      <td>NaN</td>\n",
       "      <td>dr72r5t</td>\n",
       "      <td>NaN</td>\n",
       "      <td>NaN</td>\n",
       "      <td>7.0</td>\n",
       "      <td>NaN</td>\n",
       "      <td>M</td>\n",
       "      <td>NaN</td>\n",
       "    </tr>\n",
       "    <tr>\n",
       "      <th>4</th>\n",
       "      <td>4</td>\n",
       "      <td>Victor Aaron</td>\n",
       "      <td>1956-09-11</td>\n",
       "      <td>Eduvina Matta (m. 1974–1984) divorced</td>\n",
       "      <td>2</td>\n",
       "      <td>NaN</td>\n",
       "      <td>Actor, voice actor</td>\n",
       "      <td>Odessa, Texas, U.S.</td>\n",
       "      <td>NaN</td>\n",
       "      <td>NaN</td>\n",
       "      <td>...</td>\n",
       "      <td>NaN</td>\n",
       "      <td>3.0</td>\n",
       "      <td>NaN</td>\n",
       "      <td>9txjnt6</td>\n",
       "      <td>NaN</td>\n",
       "      <td>NaN</td>\n",
       "      <td>8.0</td>\n",
       "      <td>NaN</td>\n",
       "      <td>M</td>\n",
       "      <td>NaN</td>\n",
       "    </tr>\n",
       "  </tbody>\n",
       "</table>\n",
       "<p>5 rows × 37 columns</p>\n",
       "</div>"
      ],
      "text/plain": [
       "   Unnamed: 0           name        bday  \\\n",
       "0           0        50 Cent  1975-07-06   \n",
       "1           1      Lee Aaker  1943-09-25   \n",
       "2           2   Willie Aames  1960-07-15   \n",
       "3           3  Quinton Aaron  1984-08-15   \n",
       "4           4   Victor Aaron  1956-09-11   \n",
       "\n",
       "                                             name_sp num_of_child education  \\\n",
       "0  \\n G-Unit \\n Dr. Dre \\n Eminem \\n The Game \\n ...            2       NaN   \n",
       "1           Sharon Ann Hamilton (1969-71) (divorced)          NaN       NaN   \n",
       "2  Vicki Weatherman ( m.  1979–1984) Maylo McCasl...            2       NaN   \n",
       "3                                                NaN          NaN       NaN   \n",
       "4              Eduvina Matta (m. 1974–1984) divorced            2       NaN   \n",
       "\n",
       "                                                role  \\\n",
       "0  \\nRapper\\nsinger\\nsongwriter\\nactor\\nentrepren...   \n",
       "1         Actor, producer, carpenter, ski instructor   \n",
       "2  Actor, director, television producer, screenwr...   \n",
       "3                                              Actor   \n",
       "4                                 Actor, voice actor   \n",
       "\n",
       "                        birthplace bday_sp birthplace_sp  ... num_of_m_sp  \\\n",
       "0    New York City, New York, U.S.     NaN           NaN  ...         NaN   \n",
       "1    Los Angeles, California, U.S.     NaN           NaN  ...         NaN   \n",
       "2  Newport Beach, California, U.S.     NaN           NaN  ...         NaN   \n",
       "3        The Bronx, New York, U.S.     NaN           NaN  ...         NaN   \n",
       "4              Odessa, Texas, U.S.     NaN           NaN  ...         NaN   \n",
       "\n",
       "  num_of_role num_of_role_sp  geohash  geohash_sp  geo_distance  zodiac  \\\n",
       "0         8.0            NaN  dr5regw         NaN            NaN    6.0   \n",
       "1         5.0            NaN  9q5ctr1         NaN            NaN    9.0   \n",
       "2         5.0            NaN  9mupk2n         NaN            NaN    6.0   \n",
       "3         1.0            NaN  dr72r5t         NaN            NaN    7.0   \n",
       "4         3.0            NaN  9txjnt6         NaN            NaN    8.0   \n",
       "\n",
       "  zodiac_sp sex divorce  \n",
       "0       NaN   M     NaN  \n",
       "1       NaN   M     NaN  \n",
       "2       NaN   M     1.0  \n",
       "3       NaN   M     NaN  \n",
       "4       NaN   M     NaN  \n",
       "\n",
       "[5 rows x 37 columns]"
      ]
     },
     "execution_count": 3,
     "metadata": {},
     "output_type": "execute_result"
    }
   ],
   "source": [
    "df = df_actor.append(df_actress, ignore_index=True, sort=False)\n",
    "df.head()"
   ]
  },
  {
   "cell_type": "code",
   "execution_count": 4,
   "metadata": {},
   "outputs": [
    {
     "data": {
      "text/plain": [
       "Index(['Unnamed: 0', 'name', 'bday', 'name_sp', 'num_of_child', 'education',\n",
       "       'role', 'birthplace', 'bday_sp', 'birthplace_sp', 'role_sp',\n",
       "       'name_sp_sp', 'num_of_child_sp', 'age_diff', 'age', 'age_spouse',\n",
       "       'name_sp_cl', 'year_m', 'year_div', 'name_sp_sp_cl', 'year_m_sp',\n",
       "       'year_div_sp', 'num_of_child_cl', 'num_of_child_sp_cl', 'name_sp_cl.1',\n",
       "       'num_of_m', 'name_sp_sp_cl.1', 'num_of_m_sp', 'num_of_role',\n",
       "       'num_of_role_sp', 'geohash', 'geohash_sp', 'geo_distance ', 'zodiac',\n",
       "       'zodiac_sp', 'sex', 'divorce'],\n",
       "      dtype='object')"
      ]
     },
     "execution_count": 4,
     "metadata": {},
     "output_type": "execute_result"
    }
   ],
   "source": [
    "df.columns"
   ]
  },
  {
   "cell_type": "markdown",
   "metadata": {},
   "source": [
    "## Clean the dataset\n",
    "Remove the following column:\n",
    "'Unnamed: 0'"
   ]
  },
  {
   "cell_type": "code",
   "execution_count": 6,
   "metadata": {},
   "outputs": [],
   "source": [
    "df = df.drop(['Unnamed: 0'], axis =1)"
   ]
  },
  {
   "cell_type": "code",
   "execution_count": 8,
   "metadata": {},
   "outputs": [
    {
     "data": {
      "text/plain": [
       "year_div_sp           95.785024\n",
       "num_of_child_sp_cl    94.118357\n",
       "num_of_child_sp       93.107890\n",
       "year_m_sp             92.463768\n",
       "name_sp_sp_cl.1       92.391304\n",
       "num_of_m_sp           92.391304\n",
       "name_sp_sp_cl         92.391304\n",
       "education             91.731079\n",
       "role_sp               91.590177\n",
       "age_diff              91.590177\n",
       "num_of_role_sp        91.590177\n",
       "age_spouse            91.441224\n",
       "bday_sp               91.441224\n",
       "zodiac_sp             91.441224\n",
       "geo_distance          91.119163\n",
       "geohash_sp            91.070853\n",
       "birthplace_sp         91.058776\n",
       "name_sp_sp            90.962158\n",
       "year_div              88.502415\n",
       "num_of_child_cl       73.929147\n",
       "year_m                73.079710\n",
       "divorce               72.995169\n",
       "name_sp_cl            72.995169\n",
       "name_sp_cl.1          72.995169\n",
       "num_of_m              72.995169\n",
       "num_of_child          68.260870\n",
       "name_sp               49.661836\n",
       "age                   10.342190\n",
       "zodiac                10.342190\n",
       "bday                  10.342190\n",
       "num_of_role            8.904992\n",
       "role                   8.904992\n",
       "geohash                4.593398\n",
       "birthplace             4.412238\n",
       "name                   0.048309\n",
       "sex                    0.000000\n",
       "dtype: float64"
      ]
     },
     "execution_count": 8,
     "metadata": {},
     "output_type": "execute_result"
    }
   ],
   "source": [
    "# Check the missing value (%)\n",
    "(df.isnull().sum()*100 / len(df)).sort_values(ascending=False)"
   ]
  },
  {
   "cell_type": "markdown",
   "metadata": {},
   "source": [
    "A lot of missing data !"
   ]
  },
  {
   "cell_type": "markdown",
   "metadata": {},
   "source": [
    "### More preprocessing work\n",
    "Calcualte the year of first marrage and first divoice"
   ]
  },
  {
   "cell_type": "code",
   "execution_count": 62,
   "metadata": {},
   "outputs": [],
   "source": [
    "# first year of marrage\n",
    "year_m_1 = []\n",
    "for i in range(len(df)):\n",
    "    try: \n",
    "        year_m_1.append(ast.literal_eval(df['year_m'][i])[0])\n",
    "    except:\n",
    "        year_m_1.append(np.nan)"
   ]
  },
  {
   "cell_type": "code",
   "execution_count": 63,
   "metadata": {},
   "outputs": [],
   "source": [
    "# first year of divoice\n",
    "year_div_1 = []\n",
    "for i in range(len(df)):\n",
    "    try: \n",
    "        year_div_1.append(ast.literal_eval(df['year_div'][i])[0])\n",
    "    except:\n",
    "        year_div_1.append(np.nan)"
   ]
  },
  {
   "cell_type": "code",
   "execution_count": 64,
   "metadata": {},
   "outputs": [],
   "source": [
    "# first year of marrage (their spouse)\n",
    "year_m_sp_1 = []\n",
    "for i in range(len(df)):\n",
    "    try: \n",
    "        year_m_sp_1.append(ast.literal_eval(df['year_m_sp'][i])[0])\n",
    "    except:\n",
    "        year_m_sp_1.append(np.nan)"
   ]
  },
  {
   "cell_type": "code",
   "execution_count": 65,
   "metadata": {},
   "outputs": [],
   "source": [
    "# first year of divoice (their spouse)\n",
    "year_div_sp_1 = []\n",
    "for i in range(len(df)):\n",
    "    try: \n",
    "        year_div_sp_1.append(ast.literal_eval(df['year_div_sp'][i])[0])\n",
    "    except:\n",
    "        year_div_sp_1.append(np.nan)"
   ]
  },
  {
   "cell_type": "code",
   "execution_count": 66,
   "metadata": {},
   "outputs": [],
   "source": [
    "df_year_m_1  = pd.DataFrame({'year_m_1':year_m_1 })#.fillna(0).astype(int).replace({0:np.nan})\n",
    "df_year_div_1  = pd.DataFrame({'year_div_1':year_div_1 })#.fillna(0).astype(int).replace({0:np.nan})\n",
    "df_year_m_sp_1  = pd.DataFrame({'year_m_sp_1':year_m_sp_1 })#.fillna(0).astype(int).replace({0:np.nan})\n",
    "df_year_div_sp_1  = pd.DataFrame({'year_div_sp_1':year_m_sp_1 })#.fillna(0).astype(int).replace({0:np.nan})\n",
    "df= pd.concat([df, df_year_m_1, df_year_div_1, df_year_m_sp_1,df_year_div_sp_1], axis=1)"
   ]
  },
  {
   "cell_type": "code",
   "execution_count": 59,
   "metadata": {},
   "outputs": [],
   "source": [
    "#df = df.drop(['year_m_1', 'year_div_1', 'year_m_sp_1', 'year_div_sp_1'], axis =1)\n",
    "df = df.drop(['age_m_1', 'age_div_1', 'age_m_sp_1', 'age_div_sp_1'], axis =1)"
   ]
  },
  {
   "cell_type": "markdown",
   "metadata": {},
   "source": [
    "Calculate age of first marrage and first divorce "
   ]
  },
  {
   "cell_type": "code",
   "execution_count": 67,
   "metadata": {},
   "outputs": [],
   "source": [
    "df['age_m_1'] = df['year_m_1'] - pd.to_datetime(df['bday']).dt.year\n",
    "df['age_div_1']= df['year_div_1'] - pd.to_datetime(df['bday']).dt.year\n",
    "df['age_m_sp_1']= df['year_m_sp_1'] - pd.to_datetime(df['bday_sp']).dt.year\n",
    "df['age_div_sp_1']= df['year_div_sp_1'] - pd.to_datetime(df['bday_sp']).dt.year"
   ]
  },
  {
   "cell_type": "code",
   "execution_count": 79,
   "metadata": {},
   "outputs": [
    {
     "data": {
      "text/plain": [
       "Index(['name', 'bday', 'name_sp', 'num_of_child', 'education', 'role',\n",
       "       'birthplace', 'bday_sp', 'birthplace_sp', 'role_sp', 'name_sp_sp',\n",
       "       'num_of_child_sp', 'age_diff', 'age', 'age_spouse', 'name_sp_cl',\n",
       "       'year_m', 'year_div', 'name_sp_sp_cl', 'year_m_sp', 'year_div_sp',\n",
       "       'num_of_child_cl', 'num_of_child_sp_cl', 'name_sp_cl.1', 'num_of_m',\n",
       "       'name_sp_sp_cl.1', 'num_of_m_sp', 'num_of_role', 'num_of_role_sp',\n",
       "       'geohash', 'geohash_sp', 'geo_distance ', 'zodiac', 'zodiac_sp', 'sex',\n",
       "       'divorce', 'year_m_1', 'year_div_1', 'year_m_sp_1', 'year_div_sp_1',\n",
       "       'age_m_1', 'age_div_1', 'age_m_sp_1', 'age_div_sp_1'],\n",
       "      dtype='object')"
      ]
     },
     "execution_count": 79,
     "metadata": {},
     "output_type": "execute_result"
    }
   ],
   "source": [
    "df.columns"
   ]
  },
  {
   "cell_type": "markdown",
   "metadata": {},
   "source": [
    "#### Drop duplicate rows"
   ]
  },
  {
   "cell_type": "code",
   "execution_count": 72,
   "metadata": {},
   "outputs": [],
   "source": [
    "df = df.drop_duplicates(subset='name', keep='first')  # drop duplicate rows "
   ]
  },
  {
   "cell_type": "code",
   "execution_count": 73,
   "metadata": {},
   "outputs": [
    {
     "data": {
      "text/plain": [
       "10163"
      ]
     },
     "execution_count": 73,
     "metadata": {},
     "output_type": "execute_result"
    }
   ],
   "source": [
    "len(df)"
   ]
  },
  {
   "cell_type": "code",
   "execution_count": 89,
   "metadata": {},
   "outputs": [],
   "source": [
    "# rename one column\n",
    "df.rename(columns={'geo_distance ':'geo_distance'}, inplace=True)"
   ]
  },
  {
   "cell_type": "markdown",
   "metadata": {},
   "source": [
    "#### Remove outliner\n",
    "Fill negative age in 'age_div_1' with NaN"
   ]
  },
  {
   "cell_type": "code",
   "execution_count": 74,
   "metadata": {},
   "outputs": [],
   "source": [
    "# fill outliner with nan (negative year)\n",
    "df.loc[df['age_div_1']<0, ['age_div_1']] = np.nan"
   ]
  },
  {
   "cell_type": "markdown",
   "metadata": {},
   "source": [
    "Fill 'num_of_m' over 5 with NaN"
   ]
  },
  {
   "cell_type": "code",
   "execution_count": 111,
   "metadata": {},
   "outputs": [],
   "source": [
    "df.loc[df['num_of_m']>5, ['num_of_m']] = np.nan\n",
    "df.loc[df['num_of_m_sp']>5, ['num_of_m_sp']] = np.nan"
   ]
  },
  {
   "cell_type": "markdown",
   "metadata": {},
   "source": [
    "Fill 'num_of_role' over 12 with NaN"
   ]
  },
  {
   "cell_type": "code",
   "execution_count": 117,
   "metadata": {},
   "outputs": [],
   "source": [
    "df.loc[df['num_of_role']>12, ['num_of_role']] = np.nan\n",
    "df.loc[df['num_of_role_sp']>12, ['num_of_role_sp']] = np.nan"
   ]
  },
  {
   "cell_type": "markdown",
   "metadata": {},
   "source": [
    "Fill 'num_of_child_cl' over 10 with NaN"
   ]
  },
  {
   "cell_type": "code",
   "execution_count": 118,
   "metadata": {},
   "outputs": [],
   "source": [
    "df.loc[df['num_of_child_cl']>10, ['num_of_child_cl']] = np.nan\n",
    "df.loc[df['num_of_child_sp_cl']>10, ['num_of_child_sp_cl']] = np.nan"
   ]
  },
  {
   "cell_type": "markdown",
   "metadata": {},
   "source": [
    "#### Remove unclean and redundant columns"
   ]
  },
  {
   "cell_type": "code",
   "execution_count": 119,
   "metadata": {},
   "outputs": [],
   "source": [
    "# create new data set\n",
    "df1 = df[['name','bday','sex','age','age_diff', 'zodiac', \n",
    "          'zodiac_sp','num_of_m', 'num_of_m_sp', \n",
    "          'num_of_child_cl', 'num_of_child_sp_cl', \n",
    "          'num_of_role', 'num_of_role_sp', \n",
    "          'geohash', 'geo_distance', \n",
    "          'age_m_1', 'age_div_1', 'age_m_sp_1', 'age_div_sp_1', \n",
    "          'divorce']]"
   ]
  },
  {
   "cell_type": "code",
   "execution_count": 120,
   "metadata": {},
   "outputs": [],
   "source": [
    "# save data\n",
    "df1.to_csv('export_df_outliner_rm.csv', header=True)"
   ]
  },
  {
   "cell_type": "code",
   "execution_count": 121,
   "metadata": {},
   "outputs": [
    {
     "name": "stdout",
     "output_type": "stream",
     "text": [
      "Index(['name', 'bday', 'sex', 'age', 'age_diff', 'zodiac', 'zodiac_sp',\n",
      "       'num_of_m', 'num_of_m_sp', 'num_of_child_cl', 'num_of_child_sp_cl',\n",
      "       'num_of_role', 'num_of_role_sp', 'geohash', 'geo_distance', 'age_m_1',\n",
      "       'age_div_1', 'age_m_sp_1', 'age_div_sp_1', 'divorce'],\n",
      "      dtype='object')\n",
      "(10163, 44)\n"
     ]
    },
    {
     "data": {
      "text/html": [
       "<div>\n",
       "<style scoped>\n",
       "    .dataframe tbody tr th:only-of-type {\n",
       "        vertical-align: middle;\n",
       "    }\n",
       "\n",
       "    .dataframe tbody tr th {\n",
       "        vertical-align: top;\n",
       "    }\n",
       "\n",
       "    .dataframe thead th {\n",
       "        text-align: right;\n",
       "    }\n",
       "</style>\n",
       "<table border=\"1\" class=\"dataframe\">\n",
       "  <thead>\n",
       "    <tr style=\"text-align: right;\">\n",
       "      <th></th>\n",
       "      <th>name</th>\n",
       "      <th>bday</th>\n",
       "      <th>sex</th>\n",
       "      <th>age</th>\n",
       "      <th>age_diff</th>\n",
       "      <th>zodiac</th>\n",
       "      <th>zodiac_sp</th>\n",
       "      <th>num_of_m</th>\n",
       "      <th>num_of_m_sp</th>\n",
       "      <th>num_of_child_cl</th>\n",
       "      <th>num_of_child_sp_cl</th>\n",
       "      <th>num_of_role</th>\n",
       "      <th>num_of_role_sp</th>\n",
       "      <th>geohash</th>\n",
       "      <th>geo_distance</th>\n",
       "      <th>age_m_1</th>\n",
       "      <th>age_div_1</th>\n",
       "      <th>age_m_sp_1</th>\n",
       "      <th>age_div_sp_1</th>\n",
       "      <th>divorce</th>\n",
       "    </tr>\n",
       "  </thead>\n",
       "  <tbody>\n",
       "    <tr>\n",
       "      <th>0</th>\n",
       "      <td>50 Cent</td>\n",
       "      <td>1975-07-06</td>\n",
       "      <td>M</td>\n",
       "      <td>43.836629</td>\n",
       "      <td>NaN</td>\n",
       "      <td>6.0</td>\n",
       "      <td>NaN</td>\n",
       "      <td>NaN</td>\n",
       "      <td>NaN</td>\n",
       "      <td>2.0</td>\n",
       "      <td>NaN</td>\n",
       "      <td>8.0</td>\n",
       "      <td>NaN</td>\n",
       "      <td>dr5regw</td>\n",
       "      <td>NaN</td>\n",
       "      <td>NaN</td>\n",
       "      <td>NaN</td>\n",
       "      <td>NaN</td>\n",
       "      <td>NaN</td>\n",
       "      <td>NaN</td>\n",
       "    </tr>\n",
       "    <tr>\n",
       "      <th>1</th>\n",
       "      <td>Lee Aaker</td>\n",
       "      <td>1943-09-25</td>\n",
       "      <td>M</td>\n",
       "      <td>75.615516</td>\n",
       "      <td>NaN</td>\n",
       "      <td>9.0</td>\n",
       "      <td>NaN</td>\n",
       "      <td>NaN</td>\n",
       "      <td>NaN</td>\n",
       "      <td>NaN</td>\n",
       "      <td>NaN</td>\n",
       "      <td>5.0</td>\n",
       "      <td>NaN</td>\n",
       "      <td>9q5ctr1</td>\n",
       "      <td>NaN</td>\n",
       "      <td>NaN</td>\n",
       "      <td>NaN</td>\n",
       "      <td>NaN</td>\n",
       "      <td>NaN</td>\n",
       "      <td>NaN</td>\n",
       "    </tr>\n",
       "    <tr>\n",
       "      <th>2</th>\n",
       "      <td>Willie Aames</td>\n",
       "      <td>1960-07-15</td>\n",
       "      <td>M</td>\n",
       "      <td>58.810243</td>\n",
       "      <td>NaN</td>\n",
       "      <td>6.0</td>\n",
       "      <td>NaN</td>\n",
       "      <td>3.0</td>\n",
       "      <td>NaN</td>\n",
       "      <td>2.0</td>\n",
       "      <td>NaN</td>\n",
       "      <td>5.0</td>\n",
       "      <td>NaN</td>\n",
       "      <td>9mupk2n</td>\n",
       "      <td>NaN</td>\n",
       "      <td>19.0</td>\n",
       "      <td>NaN</td>\n",
       "      <td>NaN</td>\n",
       "      <td>NaN</td>\n",
       "      <td>1.0</td>\n",
       "    </tr>\n",
       "    <tr>\n",
       "      <th>3</th>\n",
       "      <td>Quinton Aaron</td>\n",
       "      <td>1984-08-15</td>\n",
       "      <td>M</td>\n",
       "      <td>34.724875</td>\n",
       "      <td>NaN</td>\n",
       "      <td>7.0</td>\n",
       "      <td>NaN</td>\n",
       "      <td>NaN</td>\n",
       "      <td>NaN</td>\n",
       "      <td>NaN</td>\n",
       "      <td>NaN</td>\n",
       "      <td>1.0</td>\n",
       "      <td>NaN</td>\n",
       "      <td>dr72r5t</td>\n",
       "      <td>NaN</td>\n",
       "      <td>NaN</td>\n",
       "      <td>NaN</td>\n",
       "      <td>NaN</td>\n",
       "      <td>NaN</td>\n",
       "      <td>NaN</td>\n",
       "    </tr>\n",
       "    <tr>\n",
       "      <th>4</th>\n",
       "      <td>Victor Aaron</td>\n",
       "      <td>1956-09-11</td>\n",
       "      <td>M</td>\n",
       "      <td>62.651526</td>\n",
       "      <td>NaN</td>\n",
       "      <td>8.0</td>\n",
       "      <td>NaN</td>\n",
       "      <td>NaN</td>\n",
       "      <td>NaN</td>\n",
       "      <td>2.0</td>\n",
       "      <td>NaN</td>\n",
       "      <td>3.0</td>\n",
       "      <td>NaN</td>\n",
       "      <td>9txjnt6</td>\n",
       "      <td>NaN</td>\n",
       "      <td>NaN</td>\n",
       "      <td>NaN</td>\n",
       "      <td>NaN</td>\n",
       "      <td>NaN</td>\n",
       "      <td>NaN</td>\n",
       "    </tr>\n",
       "  </tbody>\n",
       "</table>\n",
       "</div>"
      ],
      "text/plain": [
       "            name        bday sex        age  age_diff  zodiac  zodiac_sp  \\\n",
       "0        50 Cent  1975-07-06   M  43.836629       NaN     6.0        NaN   \n",
       "1      Lee Aaker  1943-09-25   M  75.615516       NaN     9.0        NaN   \n",
       "2   Willie Aames  1960-07-15   M  58.810243       NaN     6.0        NaN   \n",
       "3  Quinton Aaron  1984-08-15   M  34.724875       NaN     7.0        NaN   \n",
       "4   Victor Aaron  1956-09-11   M  62.651526       NaN     8.0        NaN   \n",
       "\n",
       "   num_of_m  num_of_m_sp  num_of_child_cl  num_of_child_sp_cl  num_of_role  \\\n",
       "0       NaN          NaN              2.0                 NaN          8.0   \n",
       "1       NaN          NaN              NaN                 NaN          5.0   \n",
       "2       3.0          NaN              2.0                 NaN          5.0   \n",
       "3       NaN          NaN              NaN                 NaN          1.0   \n",
       "4       NaN          NaN              2.0                 NaN          3.0   \n",
       "\n",
       "   num_of_role_sp  geohash  geo_distance  age_m_1  age_div_1  age_m_sp_1  \\\n",
       "0             NaN  dr5regw           NaN      NaN        NaN         NaN   \n",
       "1             NaN  9q5ctr1           NaN      NaN        NaN         NaN   \n",
       "2             NaN  9mupk2n           NaN     19.0        NaN         NaN   \n",
       "3             NaN  dr72r5t           NaN      NaN        NaN         NaN   \n",
       "4             NaN  9txjnt6           NaN      NaN        NaN         NaN   \n",
       "\n",
       "   age_div_sp_1  divorce  \n",
       "0           NaN      NaN  \n",
       "1           NaN      NaN  \n",
       "2           NaN      1.0  \n",
       "3           NaN      NaN  \n",
       "4           NaN      NaN  "
      ]
     },
     "execution_count": 121,
     "metadata": {},
     "output_type": "execute_result"
    }
   ],
   "source": [
    "print(df1.columns)\n",
    "print(df.shape)\n",
    "df1.head(5)"
   ]
  },
  {
   "cell_type": "code",
   "execution_count": 122,
   "metadata": {},
   "outputs": [
    {
     "data": {
      "text/plain": [
       "num_of_child_sp_cl    93.013874\n",
       "age_m_sp_1            91.350979\n",
       "age_div_sp_1          91.350979\n",
       "num_of_m_sp           90.819640\n",
       "age_diff              89.914395\n",
       "num_of_role_sp        89.865197\n",
       "zodiac_sp             89.727443\n",
       "geo_distance          89.412575\n",
       "age_div_1             86.746040\n",
       "num_of_child_cl       71.465119\n",
       "age_m_1               70.431959\n",
       "num_of_m              69.703828\n",
       "divorce               69.595592\n",
       "zodiac                 9.819935\n",
       "age                    9.819935\n",
       "bday                   9.819935\n",
       "num_of_role            8.708059\n",
       "geohash                4.142478\n",
       "name                   0.009840\n",
       "sex                    0.000000\n",
       "dtype: float64"
      ]
     },
     "execution_count": 122,
     "metadata": {},
     "output_type": "execute_result"
    }
   ],
   "source": [
    "# Check the missing value (%)\n",
    "(df1.isnull().sum()*100 / len(df1)).sort_values(ascending=False)"
   ]
  },
  {
   "cell_type": "code",
   "execution_count": 123,
   "metadata": {},
   "outputs": [
    {
     "data": {
      "image/png": "[encoded data removed]",
      "text/plain": [
       "<Figure size 1080x864 with 16 Axes>"
      ]
     },
     "metadata": {
      "needs_background": "light"
     },
     "output_type": "display_data"
    }
   ],
   "source": [
    "#fig = plt.figure(figsize = (15,20))\n",
    "#ax = fig.gca()\n",
    "df1.hist(figsize=(15,12));"
   ]
  },
  {
   "cell_type": "markdown",
   "metadata": {},
   "source": [
    "### Deal with missing data and prepare data for ML\n",
    "Remove the rows associated with nan values in divorce column. Store the dataframe with these rows removed in df_div_rm."
   ]
  },
  {
   "cell_type": "code",
   "execution_count": 127,
   "metadata": {},
   "outputs": [
    {
     "name": "stdout",
     "output_type": "stream",
     "text": [
      "(3090, 20)\n"
     ]
    }
   ],
   "source": [
    "df1_div_rm = df1.dropna(axis = 0, subset=[\"divorce\"])# dataframe with rows for nan divorce removed\n",
    "print(df1_div_rm.shape)"
   ]
  },
  {
   "cell_type": "code",
   "execution_count": 133,
   "metadata": {},
   "outputs": [],
   "source": [
    "# save data\n",
    "df1_div_rm.to_csv('export_df_div_dropna.csv', header=True)"
   ]
  },
  {
   "cell_type": "code",
   "execution_count": 128,
   "metadata": {},
   "outputs": [
    {
     "data": {
      "text/plain": [
       "num_of_child_sp_cl    78.284790\n",
       "age_div_sp_1          73.203883\n",
       "age_m_sp_1            73.203883\n",
       "num_of_m_sp           71.553398\n",
       "age_diff              68.964401\n",
       "num_of_role_sp        68.834951\n",
       "zodiac_sp             68.414239\n",
       "geo_distance          67.443366\n",
       "age_div_1             56.601942\n",
       "num_of_child_cl       34.660194\n",
       "num_of_role            4.142395\n",
       "age_m_1                2.750809\n",
       "bday                   2.394822\n",
       "zodiac                 2.394822\n",
       "age                    2.394822\n",
       "geohash                0.906149\n",
       "num_of_m               0.355987\n",
       "divorce                0.000000\n",
       "sex                    0.000000\n",
       "name                   0.000000\n",
       "dtype: float64"
      ]
     },
     "execution_count": 128,
     "metadata": {},
     "output_type": "execute_result"
    }
   ],
   "source": [
    "# Check the missing value (%)\n",
    "(df1_div_rm.isnull().sum()*100 / len(df1_div_rm)).sort_values(ascending=False)"
   ]
  },
  {
   "cell_type": "code",
   "execution_count": 136,
   "metadata": {},
   "outputs": [
    {
     "data": {
      "text/html": [
       "<div>\n",
       "<style scoped>\n",
       "    .dataframe tbody tr th:only-of-type {\n",
       "        vertical-align: middle;\n",
       "    }\n",
       "\n",
       "    .dataframe tbody tr th {\n",
       "        vertical-align: top;\n",
       "    }\n",
       "\n",
       "    .dataframe thead th {\n",
       "        text-align: right;\n",
       "    }\n",
       "</style>\n",
       "<table border=\"1\" class=\"dataframe\">\n",
       "  <thead>\n",
       "    <tr style=\"text-align: right;\">\n",
       "      <th></th>\n",
       "      <th>age</th>\n",
       "      <th>age_diff</th>\n",
       "      <th>zodiac</th>\n",
       "      <th>zodiac_sp</th>\n",
       "      <th>num_of_m</th>\n",
       "      <th>num_of_m_sp</th>\n",
       "      <th>num_of_child_cl</th>\n",
       "      <th>num_of_child_sp_cl</th>\n",
       "      <th>num_of_role</th>\n",
       "      <th>num_of_role_sp</th>\n",
       "      <th>geo_distance</th>\n",
       "      <th>age_m_1</th>\n",
       "      <th>age_div_1</th>\n",
       "      <th>age_m_sp_1</th>\n",
       "      <th>age_div_sp_1</th>\n",
       "      <th>divorce</th>\n",
       "    </tr>\n",
       "  </thead>\n",
       "  <tbody>\n",
       "    <tr>\n",
       "      <th>count</th>\n",
       "      <td>3016.000000</td>\n",
       "      <td>959.000000</td>\n",
       "      <td>3016.000000</td>\n",
       "      <td>976.000000</td>\n",
       "      <td>3079.000000</td>\n",
       "      <td>879.000000</td>\n",
       "      <td>2019.000000</td>\n",
       "      <td>671.000000</td>\n",
       "      <td>2962.000000</td>\n",
       "      <td>963.000000</td>\n",
       "      <td>1.006000e+03</td>\n",
       "      <td>3005.000000</td>\n",
       "      <td>1341.000000</td>\n",
       "      <td>828.000000</td>\n",
       "      <td>828.000000</td>\n",
       "      <td>3090.000000</td>\n",
       "    </tr>\n",
       "    <tr>\n",
       "      <th>mean</th>\n",
       "      <td>70.357546</td>\n",
       "      <td>0.476636</td>\n",
       "      <td>5.583223</td>\n",
       "      <td>5.688525</td>\n",
       "      <td>1.544333</td>\n",
       "      <td>1.681456</td>\n",
       "      <td>2.310054</td>\n",
       "      <td>2.244411</td>\n",
       "      <td>2.424038</td>\n",
       "      <td>2.511942</td>\n",
       "      <td>1.206643e+07</td>\n",
       "      <td>30.055907</td>\n",
       "      <td>35.616704</td>\n",
       "      <td>28.600242</td>\n",
       "      <td>28.600242</td>\n",
       "      <td>0.539482</td>\n",
       "    </tr>\n",
       "    <tr>\n",
       "      <th>std</th>\n",
       "      <td>26.738293</td>\n",
       "      <td>7.311933</td>\n",
       "      <td>3.387574</td>\n",
       "      <td>3.420798</td>\n",
       "      <td>0.858716</td>\n",
       "      <td>0.925965</td>\n",
       "      <td>1.260812</td>\n",
       "      <td>1.213061</td>\n",
       "      <td>1.782254</td>\n",
       "      <td>1.890619</td>\n",
       "      <td>8.636477e+06</td>\n",
       "      <td>7.983142</td>\n",
       "      <td>9.536457</td>\n",
       "      <td>6.267194</td>\n",
       "      <td>6.267194</td>\n",
       "      <td>0.498519</td>\n",
       "    </tr>\n",
       "    <tr>\n",
       "      <th>min</th>\n",
       "      <td>23.214714</td>\n",
       "      <td>-30.418147</td>\n",
       "      <td>0.000000</td>\n",
       "      <td>0.000000</td>\n",
       "      <td>1.000000</td>\n",
       "      <td>1.000000</td>\n",
       "      <td>1.000000</td>\n",
       "      <td>1.000000</td>\n",
       "      <td>1.000000</td>\n",
       "      <td>1.000000</td>\n",
       "      <td>1.180000e+02</td>\n",
       "      <td>12.000000</td>\n",
       "      <td>15.000000</td>\n",
       "      <td>15.000000</td>\n",
       "      <td>15.000000</td>\n",
       "      <td>0.000000</td>\n",
       "    </tr>\n",
       "    <tr>\n",
       "      <th>25%</th>\n",
       "      <td>48.578684</td>\n",
       "      <td>-3.678378</td>\n",
       "      <td>3.000000</td>\n",
       "      <td>3.000000</td>\n",
       "      <td>1.000000</td>\n",
       "      <td>1.000000</td>\n",
       "      <td>1.000000</td>\n",
       "      <td>1.000000</td>\n",
       "      <td>1.000000</td>\n",
       "      <td>1.000000</td>\n",
       "      <td>5.003530e+06</td>\n",
       "      <td>24.000000</td>\n",
       "      <td>29.000000</td>\n",
       "      <td>24.000000</td>\n",
       "      <td>24.000000</td>\n",
       "      <td>0.000000</td>\n",
       "    </tr>\n",
       "    <tr>\n",
       "      <th>50%</th>\n",
       "      <td>64.592702</td>\n",
       "      <td>0.104040</td>\n",
       "      <td>6.000000</td>\n",
       "      <td>6.000000</td>\n",
       "      <td>1.000000</td>\n",
       "      <td>1.000000</td>\n",
       "      <td>2.000000</td>\n",
       "      <td>2.000000</td>\n",
       "      <td>2.000000</td>\n",
       "      <td>2.000000</td>\n",
       "      <td>2.000000e+07</td>\n",
       "      <td>29.000000</td>\n",
       "      <td>34.000000</td>\n",
       "      <td>28.000000</td>\n",
       "      <td>28.000000</td>\n",
       "      <td>1.000000</td>\n",
       "    </tr>\n",
       "    <tr>\n",
       "      <th>75%</th>\n",
       "      <td>89.626755</td>\n",
       "      <td>4.323155</td>\n",
       "      <td>8.000000</td>\n",
       "      <td>9.000000</td>\n",
       "      <td>2.000000</td>\n",
       "      <td>2.000000</td>\n",
       "      <td>3.000000</td>\n",
       "      <td>3.000000</td>\n",
       "      <td>3.000000</td>\n",
       "      <td>3.000000</td>\n",
       "      <td>2.000000e+07</td>\n",
       "      <td>34.000000</td>\n",
       "      <td>42.000000</td>\n",
       "      <td>32.000000</td>\n",
       "      <td>32.000000</td>\n",
       "      <td>1.000000</td>\n",
       "    </tr>\n",
       "    <tr>\n",
       "      <th>max</th>\n",
       "      <td>158.601477</td>\n",
       "      <td>30.275776</td>\n",
       "      <td>11.000000</td>\n",
       "      <td>11.000000</td>\n",
       "      <td>5.000000</td>\n",
       "      <td>5.000000</td>\n",
       "      <td>10.000000</td>\n",
       "      <td>8.000000</td>\n",
       "      <td>11.000000</td>\n",
       "      <td>11.000000</td>\n",
       "      <td>2.000000e+07</td>\n",
       "      <td>91.000000</td>\n",
       "      <td>71.000000</td>\n",
       "      <td>63.000000</td>\n",
       "      <td>63.000000</td>\n",
       "      <td>1.000000</td>\n",
       "    </tr>\n",
       "  </tbody>\n",
       "</table>\n",
       "</div>"
      ],
      "text/plain": [
       "               age    age_diff       zodiac   zodiac_sp     num_of_m  \\\n",
       "count  3016.000000  959.000000  3016.000000  976.000000  3079.000000   \n",
       "mean     70.357546    0.476636     5.583223    5.688525     1.544333   \n",
       "std      26.738293    7.311933     3.387574    3.420798     0.858716   \n",
       "min      23.214714  -30.418147     0.000000    0.000000     1.000000   \n",
       "25%      48.578684   -3.678378     3.000000    3.000000     1.000000   \n",
       "50%      64.592702    0.104040     6.000000    6.000000     1.000000   \n",
       "75%      89.626755    4.323155     8.000000    9.000000     2.000000   \n",
       "max     158.601477   30.275776    11.000000   11.000000     5.000000   \n",
       "\n",
       "       num_of_m_sp  num_of_child_cl  num_of_child_sp_cl  num_of_role  \\\n",
       "count   879.000000      2019.000000          671.000000  2962.000000   \n",
       "mean      1.681456         2.310054            2.244411     2.424038   \n",
       "std       0.925965         1.260812            1.213061     1.782254   \n",
       "min       1.000000         1.000000            1.000000     1.000000   \n",
       "25%       1.000000         1.000000            1.000000     1.000000   \n",
       "50%       1.000000         2.000000            2.000000     2.000000   \n",
       "75%       2.000000         3.000000            3.000000     3.000000   \n",
       "max       5.000000        10.000000            8.000000    11.000000   \n",
       "\n",
       "       num_of_role_sp  geo_distance      age_m_1    age_div_1  age_m_sp_1  \\\n",
       "count      963.000000  1.006000e+03  3005.000000  1341.000000  828.000000   \n",
       "mean         2.511942  1.206643e+07    30.055907    35.616704   28.600242   \n",
       "std          1.890619  8.636477e+06     7.983142     9.536457    6.267194   \n",
       "min          1.000000  1.180000e+02    12.000000    15.000000   15.000000   \n",
       "25%          1.000000  5.003530e+06    24.000000    29.000000   24.000000   \n",
       "50%          2.000000  2.000000e+07    29.000000    34.000000   28.000000   \n",
       "75%          3.000000  2.000000e+07    34.000000    42.000000   32.000000   \n",
       "max         11.000000  2.000000e+07    91.000000    71.000000   63.000000   \n",
       "\n",
       "       age_div_sp_1      divorce  \n",
       "count    828.000000  3090.000000  \n",
       "mean      28.600242     0.539482  \n",
       "std        6.267194     0.498519  \n",
       "min       15.000000     0.000000  \n",
       "25%       24.000000     0.000000  \n",
       "50%       28.000000     1.000000  \n",
       "75%       32.000000     1.000000  \n",
       "max       63.000000     1.000000  "
      ]
     },
     "execution_count": 136,
     "metadata": {},
     "output_type": "execute_result"
    }
   ],
   "source": [
    "df1_div_rm.describe()"
   ]
  },
  {
   "cell_type": "markdown",
   "metadata": {},
   "source": [
    "#### Impute missing data\n",
    "\n",
    "**1.** Impute the values for all missing values in numerical (quantitative) data with the mean of the column "
   ]
  },
  {
   "cell_type": "code",
   "execution_count": 138,
   "metadata": {},
   "outputs": [],
   "source": [
    "df_num_vars = df1_div_rm[['age','age_diff', 'zodiac','zodiac_sp','num_of_m', 'num_of_m_sp','num_of_child_cl',\n",
    "                         'num_of_child_sp_cl','num_of_role','num_of_role_sp','geo_distance',\n",
    "                         'age_m_1','age_div_1','age_m_sp_1','age_div_sp_1']];\n"
   ]
  },
  {
   "cell_type": "code",
   "execution_count": 146,
   "metadata": {},
   "outputs": [
    {
     "data": {
      "text/plain": [
       "(3090, 15)"
      ]
     },
     "execution_count": 146,
     "metadata": {},
     "output_type": "execute_result"
    }
   ],
   "source": [
    "fill_mean = lambda col: col.fillna(col.mean())\n",
    "df_num_vars = df_num_vars.apply(fill_mean, axis=0);\n",
    "df_num_vars.shape"
   ]
  },
  {
   "cell_type": "markdown",
   "metadata": {},
   "source": [
    "**2.** Impute the values for all missing values in catagories data with the mode of the column "
   ]
  },
  {
   "cell_type": "code",
   "execution_count": 145,
   "metadata": {},
   "outputs": [
    {
     "data": {
      "text/plain": [
       "4"
      ]
     },
     "execution_count": 145,
     "metadata": {},
     "output_type": "execute_result"
    }
   ],
   "source": [
    "cat_df = df1_div_rm.select_dtypes(include=['object'])# Subset to a dataframe only holding the categorical columns\n",
    "\n",
    "# Print how many categorical columns are in the dataframe - should be 147\n",
    "cat_df.shape[1]"
   ]
  },
  {
   "cell_type": "markdown",
   "metadata": {},
   "source": [
    "The categorical columns are 'name', 'sex', 'geohash', and 'bday'. ''name ' is unnessesary for ML analysis. 'bday' is redundant to 'age' and 'zodiac' , so I removed these two columns."
   ]
  },
  {
   "cell_type": "code",
   "execution_count": 156,
   "metadata": {},
   "outputs": [],
   "source": [
    "#Create a copy of the dataframe\n",
    "df_cat_vars =  df1_div_rm[['sex','geohash']]\n",
    "\n",
    "#Pull a list of the column names of the categorical variables\n",
    "cat_cols_lst = df_cat_vars .columns\n",
    "\n",
    "for var in  cat_cols_lst:\n",
    "    # for each cat add dummy var, drop original column\n",
    "    df_cat_copy = pd.concat([df_cat_vars.drop(var, axis=1), \\\n",
    "                    pd.get_dummies(df_cat_vars[var], prefix=var, prefix_sep='_', drop_first=True,  dummy_na=True)], axis=1)\n",
    " "
   ]
  },
  {
   "cell_type": "code",
   "execution_count": 165,
   "metadata": {},
   "outputs": [],
   "source": [
    "df_X = pd.concat([df_num_vars, df_cat_copy], axis=1)"
   ]
  },
  {
   "cell_type": "code",
   "execution_count": 166,
   "metadata": {},
   "outputs": [],
   "source": [
    "df_y = df1_div_rm[['divorce']]"
   ]
  },
  {
   "cell_type": "code",
   "execution_count": 167,
   "metadata": {},
   "outputs": [],
   "source": [
    "# save data for ML\n",
    "df_X.to_csv('export_df_X_forML.csv', header=True)\n",
    "df_y.to_csv('export_df_y_forML.csv', header=True)"
   ]
  },
  {
   "cell_type": "code",
   "execution_count": 169,
   "metadata": {},
   "outputs": [
    {
     "data": {
      "text/plain": [
       "(3090, 1191)"
      ]
     },
     "execution_count": 169,
     "metadata": {},
     "output_type": "execute_result"
    }
   ],
   "source": [
    "df_X.shape"
   ]
  },
  {
   "cell_type": "code",
   "execution_count": 168,
   "metadata": {},
   "outputs": [
    {
     "data": {
      "text/plain": [
       "(3090, 1)"
      ]
     },
     "execution_count": 168,
     "metadata": {},
     "output_type": "execute_result"
    }
   ],
   "source": [
    "df_y.shape"
   ]
  }
 ],
 "metadata": {
  "kernelspec": {
   "display_name": "Python 3",
   "language": "python",
   "name": "python3"
  },
  "language_info": {
   "codemirror_mode": {
    "name": "ipython",
    "version": 3
   },
   "file_extension": ".py",
   "mimetype": "text/x-python",
   "name": "python",
   "nbconvert_exporter": "python",
   "pygments_lexer": "ipython3",
   "version": "3.6.8"
  }
 },
 "nbformat": 4,
 "nbformat_minor": 2
}
