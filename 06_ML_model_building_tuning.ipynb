{
 "cells": [
  {
   "cell_type": "markdown",
   "metadata": {},
   "source": [
    "# 06 Machine Learning\n",
    "Logistic regression and randon forest models are used to predict the divorce of male and female actors.\n",
    "\n",
    "I analyed seperated data from male and female found that the sex does no have a significant contribution to the divorce. Therefore, I combine all actor and actress data and perform ML model. \n"
   ]
  },
  {
   "cell_type": "code",
   "execution_count": 194,
   "metadata": {},
   "outputs": [],
   "source": [
    "# Data manipulation\n",
    "import pandas as pd\n",
    "import numpy as np\n",
    "import matplotlib.pyplot as plt\n",
    "import seaborn  as sns\n",
    "import ast\n",
    "\n",
    "\n",
    "# Import sklearn.preprocessing.StandardScaler\n",
    "from sklearn.preprocessing import MinMaxScaler, StandardScaler\n",
    "\n",
    "from sklearn import svm, tree, linear_model, neighbors, naive_bayes, ensemble, discriminant_analysis, gaussian_process\n",
    "from sklearn.model_selection import train_test_split\n",
    "from sklearn.metrics import r2_score, mean_squared_error\n",
    "from sklearn.ensemble import RandomForestClassifier\n",
    "\n",
    "#from xgboost import XGBClassifier\n",
    "\n",
    "#Common Model Helpers\n",
    "from sklearn.preprocessing import OneHotEncoder, LabelEncoder\n",
    "from sklearn import feature_selection\n",
    "from sklearn import model_selection\n",
    "from sklearn import metrics\n",
    "\n",
    "import warnings\n",
    "warnings.filterwarnings('ignore')\n",
    "\n",
    "%matplotlib inline"
   ]
  },
  {
   "cell_type": "code",
   "execution_count": 195,
   "metadata": {},
   "outputs": [],
   "source": [
    "#import pandas as pd\n",
    "df_X = pd.read_csv('export_df_X_forML.csv')\n",
    "df_y = pd.read_csv('export_df_y_forML.csv')\n",
    "# male data\n",
    "df_X_M = pd.read_csv('export_df_X_M_forML.csv')\n",
    "df_y_M = pd.read_csv('export_df_y_M_forML.csv')\n",
    "# female data\n",
    "df_X_F = pd.read_csv('export_df_X_F_forML.csv')\n",
    "df_y_F = pd.read_csv('export_df_y_F_forML.csv')\n",
    "\n",
    "# remove data\n",
    "df_X = df_X.drop([\"Unnamed: 0\"], axis = 1)\n",
    "df_y = df_y.drop([\"Unnamed: 0\"], axis = 1)\n",
    "df_X_M = df_X_M.drop([\"Unnamed: 0\"], axis = 1)\n",
    "df_y_M = df_y_M.drop([\"Unnamed: 0\"], axis = 1)\n",
    "df_X_F = df_X_F.drop([\"Unnamed: 0\"], axis = 1)\n",
    "df_y_F = df_y_F.drop([\"Unnamed: 0\"], axis = 1)"
   ]
  },
  {
   "cell_type": "code",
   "execution_count": 196,
   "metadata": {},
   "outputs": [
    {
     "data": {
      "text/plain": [
       "Index(['age', 'age_diff', 'zodiac', 'zodiac_sp', 'num_of_child_cl',\n",
       "       'num_of_child_sp_cl', 'num_of_role', 'num_of_role_sp', 'geo_distance',\n",
       "       'age_m_1', 'age_m_sp_1', 'sex'],\n",
       "      dtype='object')"
      ]
     },
     "execution_count": 196,
     "metadata": {},
     "output_type": "execute_result"
    }
   ],
   "source": [
    "df_X.columns"
   ]
  },
  {
   "cell_type": "markdown",
   "metadata": {},
   "source": [
    "rename the feature columns"
   ]
  },
  {
   "cell_type": "code",
   "execution_count": 197,
   "metadata": {},
   "outputs": [],
   "source": [
    "df_X.rename(columns = {'age_diff':'age difference', 'zodiac_sp':'zodiac (spouse)', \n",
    "             'num_of_child_cl':'num of child', 'num_of_child_sp_cl':'num of child (spouse)',\n",
    "            'num_of_role':'num of role', 'num_of_role_sp': 'num of role (spouse)',\n",
    "            'geo_distance': 'geo distance', 'age_m_1':'age at 1st marriage', \n",
    "             'age_m_sp_1': 'age at 1st marriage (spouse)'}, inplace=True)"
   ]
  },
  {
   "cell_type": "markdown",
   "metadata": {},
   "source": [
    "## Standardization\n",
    "Use Standardization to linear model to make algorithm less senstive to outlier"
   ]
  },
  {
   "cell_type": "code",
   "execution_count": 198,
   "metadata": {},
   "outputs": [],
   "source": [
    "# Initialize a scaler, then apply it to the features\n",
    "scaler = StandardScaler()\n",
    "\n",
    "df_X_ss = scaler.fit_transform(df_X)\n",
    "df_X_M_ss = scaler.fit_transform(df_X_M)\n",
    "df_X_F_ss = scaler.fit_transform(df_X_F)"
   ]
  },
  {
   "cell_type": "markdown",
   "metadata": {},
   "source": [
    "Split data"
   ]
  },
  {
   "cell_type": "code",
   "execution_count": 199,
   "metadata": {},
   "outputs": [
    {
     "name": "stdout",
     "output_type": "stream",
     "text": [
      "Training set for total has 2163 samples.\n",
      "Testing set for total has 927 samples.\n"
     ]
    }
   ],
   "source": [
    "# Import train_test_split\n",
    "from sklearn.model_selection import train_test_split\n",
    "\n",
    "# Split the 'features' and 'income' data into training and testing sets\n",
    "\n",
    "X_train, X_test, y_train, y_test = train_test_split(df_X_ss, df_y, test_size = 0.3, random_state = 12)\n",
    "\n",
    "# seperated male and female dataset\n",
    "X_M_train, X_M_test, y_M_train, y_M_test = train_test_split(df_X_M_ss, df_y_M, test_size = 0.3, random_state = 32)\n",
    "X_F_train, X_F_test, y_F_train, y_F_test = train_test_split(df_X_F_ss, df_y_F, test_size = 0.3, random_state = 32)\n",
    "\n",
    "# Show the results of the split\n",
    "print(\"Training set for total has {} samples.\".format(X_train.shape[0]))\n",
    "print(\"Testing set for total has {} samples.\".format(X_test.shape[0]))"
   ]
  },
  {
   "cell_type": "markdown",
   "metadata": {},
   "source": [
    "## Logistic regression\n",
    "Use grid search to find the optimized hyperparameter"
   ]
  },
  {
   "cell_type": "code",
   "execution_count": 200,
   "metadata": {},
   "outputs": [],
   "source": [
    "from sklearn.linear_model import LogisticRegression\n",
    "from sklearn.model_selection import GridSearchCV\n",
    "\n",
    "# Create regularization penalty space\n",
    "penalty = ['l1', 'l2']\n",
    "# Create regularization hyperparameter space\n",
    "C = np.logspace(-3, 10, 20)\n",
    "solver = ['liblinear', 'saga']\n",
    "#multi_class = ['ovr']\n",
    "# Create hyperparameter options\n",
    "hyperparameters = dict(C=C, penalty=penalty, solver = solver)\n",
    "\n",
    "# Create logistic regression\n",
    "lr_model = LogisticRegression(random_state=32) # Instantiate\n",
    "\n",
    "# Create grid search using 5-fold cross validation\n",
    "clf = GridSearchCV(lr_model, hyperparameters, cv=5, verbose=0)"
   ]
  },
  {
   "cell_type": "code",
   "execution_count": 203,
   "metadata": {},
   "outputs": [
    {
     "name": "stdout",
     "output_type": "stream",
     "text": [
      "Accuracy of logistic regression classifier on test set: 0.7245\n",
      "Best Penalty: l2\n",
      "Best C: 0.004832930238571752\n",
      "Best Model: LogisticRegression(C=0.004832930238571752, class_weight=None, dual=False,\n",
      "          fit_intercept=True, intercept_scaling=1, max_iter=100,\n",
      "          multi_class='warn', n_jobs=None, penalty='l2', random_state=32,\n",
      "          solver='liblinear', tol=0.0001, verbose=0, warm_start=False)\n"
     ]
    }
   ],
   "source": [
    "# Fit grid search\n",
    "best_lr_model = clf.fit(X_train, y_train) #Fit\n",
    "\n",
    "y_test_preds_lr = best_lr_model.predict(X_test) \n",
    "\n",
    "print('Accuracy of logistic regression classifier on test set: {:.4f}'.format(clf.best_score_))\n",
    "# View best hyperparameters\n",
    "print('Best Penalty:', best_lr_model.best_estimator_.get_params()['penalty'])\n",
    "print('Best C:', best_lr_model.best_estimator_.get_params()['C'])\n",
    "print('Best Model:', best_lr_model.best_estimator_)"
   ]
  },
  {
   "cell_type": "code",
   "execution_count": 204,
   "metadata": {},
   "outputs": [
    {
     "name": "stdout",
     "output_type": "stream",
     "text": [
      "[[273 143]\n",
      " [127 384]]\n"
     ]
    }
   ],
   "source": [
    "from sklearn.metrics import confusion_matrix, classification_report\n",
    "confusion_matrix = confusion_matrix(y_test, y_test_preds_lr)\n",
    "print(confusion_matrix)"
   ]
  },
  {
   "cell_type": "code",
   "execution_count": 205,
   "metadata": {},
   "outputs": [
    {
     "name": "stdout",
     "output_type": "stream",
     "text": [
      "              precision    recall  f1-score   support\n",
      "\n",
      "         0.0       0.68      0.66      0.67       416\n",
      "         1.0       0.73      0.75      0.74       511\n",
      "\n",
      "   micro avg       0.71      0.71      0.71       927\n",
      "   macro avg       0.71      0.70      0.70       927\n",
      "weighted avg       0.71      0.71      0.71       927\n",
      "\n",
      "              precision    recall  f1-score   support\n",
      "\n",
      "         0.0       0.68      0.66      0.67       416\n",
      "         1.0       0.73      0.75      0.74       511\n",
      "\n",
      "   micro avg       0.71      0.71      0.71       927\n",
      "   macro avg       0.71      0.70      0.70       927\n",
      "weighted avg       0.71      0.71      0.71       927\n",
      "\n"
     ]
    }
   ],
   "source": [
    "from sklearn.metrics import classification_report\n",
    "print(classification_report(y_test, y_test_preds_lr))\n",
    "print(classification_report(y_test, y_test_preds_lr))"
   ]
  },
  {
   "cell_type": "code",
   "execution_count": 209,
   "metadata": {},
   "outputs": [
    {
     "data": {
      "image/png": "[encoded data removed]",
      "text/plain": [
       "<Figure size 432x288 with 1 Axes>"
      ]
     },
     "metadata": {
      "needs_background": "light"
     },
     "output_type": "display_data"
    }
   ],
   "source": [
    "from sklearn.metrics import roc_auc_score\n",
    "from sklearn.metrics import roc_curve\n",
    "logit_roc_auc= roc_auc_score(y_test, best_lr_model.predict(X_test) )\n",
    "\n",
    "fpr, tpr, thresholds = roc_curve(y_test, best_lr_model.predict(X_test))\n",
    "\n",
    "plt.figure()\n",
    "plt.plot(fpr, tpr, label='Logistic Regression (area = %0.2f)' % logit_roc_auc)\n",
    "plt.plot([0, 1], [0, 1],'r--')\n",
    "plt.xlim([0.0, 1.0])\n",
    "plt.ylim([0.0, 1.05])\n",
    "plt.xlabel('False Positive Rate')\n",
    "plt.ylabel('True Positive Rate')\n",
    "plt.title('Receiver operating characteristic')\n",
    "plt.legend(loc=\"lower right\")\n",
    "plt.savefig('Log_ROC')\n",
    "plt.show()"
   ]
  },
  {
   "cell_type": "markdown",
   "metadata": {},
   "source": [
    "## Random forest\n",
    "Use grid search anc cross validation to find the optimized hyperparameter"
   ]
  },
  {
   "cell_type": "code",
   "execution_count": 210,
   "metadata": {},
   "outputs": [
    {
     "name": "stdout",
     "output_type": "stream",
     "text": [
      "{'n_estimators': [200, 400, 600, 800, 1000, 1200, 1400, 1600, 1800, 2000], 'max_features': ['auto', 'sqrt'], 'max_depth': [2, 7, 12, 18, 23, 28, 34, 39, 44, 50, None], 'min_samples_split': [2, 5, 10, 20], 'min_samples_leaf': [2, 4, 8, 10], 'bootstrap': [True, False]}\n"
     ]
    }
   ],
   "source": [
    "from sklearn.ensemble import RandomForestRegressor\n",
    "from sklearn.model_selection import RandomizedSearchCV\n",
    "\n",
    "# Number of trees in random forest\n",
    "n_estimators = [int(x) for x in np.linspace(start = 200, stop = 2000, num = 10)]\n",
    "\n",
    "# Number of features to consider at every split\n",
    "max_features = ['auto', 'sqrt']\n",
    "# Maximum number of levels in tree\n",
    "max_depth = [int(x) for x in np.linspace(2, 50, num = 10)]\n",
    "max_depth.append(None)\n",
    "# Minimum number of samples required to split a node\n",
    "min_samples_split = [2, 5, 10, 20]\n",
    "# Minimum number of samples required at each leaf node\n",
    "min_samples_leaf = [2, 4, 8, 10]\n",
    "# Method of selecting samples for training each tree\n",
    "bootstrap = [True, False]\n",
    "# Create the random grid\n",
    "random_grid = {'n_estimators': n_estimators,\n",
    "               'max_features': max_features,\n",
    "               #'criterion': criterion,\n",
    "               'max_depth': max_depth,\n",
    "               'min_samples_split': min_samples_split,\n",
    "               'min_samples_leaf': min_samples_leaf,\n",
    "               'bootstrap': bootstrap}\n",
    "\n",
    "print(random_grid)"
   ]
  },
  {
   "cell_type": "markdown",
   "metadata": {},
   "source": [
    "### Random search training\n",
    "Instantiate the random search and fit. \n",
    "\n",
    "**1.** Use the random grid to search for best hyperparameters. Search across 100 different combinations, and use all available cores"
   ]
  },
  {
   "cell_type": "code",
   "execution_count": 212,
   "metadata": {},
   "outputs": [
    {
     "name": "stdout",
     "output_type": "stream",
     "text": [
      "Fitting 3 folds for each of 100 candidates, totalling 300 fits\n"
     ]
    },
    {
     "name": "stderr",
     "output_type": "stream",
     "text": [
      "[Parallel(n_jobs=-1)]: Using backend LokyBackend with 4 concurrent workers.\n",
      "[Parallel(n_jobs=-1)]: Done  33 tasks      | elapsed:  2.2min\n",
      "[Parallel(n_jobs=-1)]: Done 154 tasks      | elapsed:  5.8min\n",
      "[Parallel(n_jobs=-1)]: Done 300 out of 300 | elapsed: 10.4min finished\n"
     ]
    },
    {
     "data": {
      "text/plain": [
       "RandomizedSearchCV(cv=3, error_score='raise-deprecating',\n",
       "          estimator=RandomForestRegressor(bootstrap=True, criterion='mse', max_depth=None,\n",
       "           max_features='auto', max_leaf_nodes=None,\n",
       "           min_impurity_decrease=0.0, min_impurity_split=None,\n",
       "           min_samples_leaf=1, min_samples_split=2,\n",
       "           min_weight_fraction_leaf=0.0, n_estimators='warn', n_jobs=None,\n",
       "           oob_score=False, random_state=None, verbose=0, warm_start=False),\n",
       "          fit_params=None, iid='warn', n_iter=100, n_jobs=-1,\n",
       "          param_distributions={'n_estimators': [200, 400, 600, 800, 1000, 1200, 1400, 1600, 1800, 2000], 'max_features': ['auto', 'sqrt'], 'max_depth': [2, 7, 12, 18, 23, 28, 34, 39, 44, 50, None], 'min_samples_split': [2, 5, 10, 20], 'min_samples_leaf': [2, 4, 8, 10], 'bootstrap': [True, False]},\n",
       "          pre_dispatch='2*n_jobs', random_state=42, refit=True,\n",
       "          return_train_score='warn', scoring=None, verbose=2)"
      ]
     },
     "execution_count": 212,
     "metadata": {},
     "output_type": "execute_result"
    }
   ],
   "source": [
    "# First create the base model to tune\n",
    "# Random search of parameters, using 3 fold cross validation, \n",
    "rf_model = RandomizedSearchCV(estimator = rf_model, param_distributions = random_grid, \n",
    "                               n_iter = 100, cv = 3, verbose=2, random_state=42, n_jobs = -1)\n",
    "rf_model.fit(X_train, y_train)"
   ]
  },
  {
   "cell_type": "code",
   "execution_count": 214,
   "metadata": {},
   "outputs": [
    {
     "name": "stdout",
     "output_type": "stream",
     "text": [
      "Best Parameters: {'n_estimators': 1600, 'min_samples_split': 20, 'min_samples_leaf': 4, 'max_features': 'sqrt', 'max_depth': None, 'bootstrap': True}\n",
      "Best Model: RandomForestRegressor(bootstrap=True, criterion='mse', max_depth=None,\n",
      "           max_features='sqrt', max_leaf_nodes=None,\n",
      "           min_impurity_decrease=0.0, min_impurity_split=None,\n",
      "           min_samples_leaf=4, min_samples_split=20,\n",
      "           min_weight_fraction_leaf=0.0, n_estimators=1600, n_jobs=None,\n",
      "           oob_score=False, random_state=None, verbose=0, warm_start=False)\n"
     ]
    }
   ],
   "source": [
    "print('Best Parameters:', rf_model.best_params_)\n",
    "print('Best Model:', rf_model.best_estimator_)"
   ]
  },
  {
   "cell_type": "code",
   "execution_count": 215,
   "metadata": {},
   "outputs": [
    {
     "name": "stdout",
     "output_type": "stream",
     "text": [
      "Accuracy of random forest classifier on train set: 0.82\n",
      "Accuracy of random forest classifier on test set: 0.72\n"
     ]
    }
   ],
   "source": [
    "from sklearn.metrics import accuracy_score\n",
    "best_rf_model= rf_model.best_estimator_\n",
    "y_train_pred_rf= best_rf_model.predict(X_train).round()\n",
    "y_test_pred_rf= best_rf_model.predict(X_test).round()\n",
    "accuracy = accuracy_score(y_test, y_test_pred_rf)\n",
    "\n",
    "print('Accuracy of random forest classifier on train set: {:.2f}'.format(accuracy_score(y_train, y_train_pred_rf)))\n",
    "print('Accuracy of random forest classifier on test set: {:.2f}'.format(accuracy_score(y_test, y_test_pred_rf)))"
   ]
  },
  {
   "cell_type": "code",
   "execution_count": 216,
   "metadata": {},
   "outputs": [
    {
     "name": "stdout",
     "output_type": "stream",
     "text": [
      "[[273 143]\n",
      " [118 393]]\n"
     ]
    }
   ],
   "source": [
    "from sklearn.metrics import confusion_matrix, classification_report\n",
    "confusion_matrix = confusion_matrix(y_test, y_test_pred_rf)\n",
    "print(confusion_matrix)"
   ]
  },
  {
   "cell_type": "code",
   "execution_count": 217,
   "metadata": {},
   "outputs": [
    {
     "data": {
      "image/png": "[encoded data removed]",
      "text/plain": [
       "<Figure size 432x288 with 1 Axes>"
      ]
     },
     "metadata": {
      "needs_background": "light"
     },
     "output_type": "display_data"
    }
   ],
   "source": [
    "# feature importance\n",
    "importance = best_rf_model.feature_importances_\n",
    "\n",
    "# Sort feature importances in descending order\n",
    "indices = np.argsort(importance)[::-1]\n",
    "\n",
    "# Rearrange feature names so they match the sorted feature importances\n",
    "names = [df_X.columns[i] for i in indices]\n",
    "std = np.std([tree.feature_importances_ for tree in best_rf_model.estimators_], axis=0)\n",
    "\n",
    "# Create plot\n",
    "fig, ax = plt.subplots()\n",
    "#plt.figure()\n",
    "\n",
    "# Create plot title\n",
    "plt.title(\"Feature Importance\")\n",
    "\n",
    "# Add bars\n",
    "ax.barh(range(df_X.shape[1]), importance[indices], xerr=std[indices], align='center', color='lightblue', ecolor='black')\n",
    "\n",
    "# Add feature names as y-axis labels\n",
    "plt.yticks(range(df_X.shape[1]), names, rotation=0)\n",
    "\n",
    "# Show plot\n",
    "plt.show()"
   ]
  },
  {
   "cell_type": "markdown",
   "metadata": {},
   "source": [
    "Learning:\n",
    "- Age, age of the first marrage are the most important feautres\n",
    "- Sex is acturally not a very important contrintor to determine the devorce\n",
    "- Number of child and number of role are not very important features\n",
    "- Geo distance between spouses are least important feature"
   ]
  },
  {
   "cell_type": "markdown",
   "metadata": {},
   "source": [
    "Next, we look at the data of male and female actors seperately\n",
    "\n",
    "**1.** Male actor data"
   ]
  },
  {
   "cell_type": "code",
   "execution_count": 218,
   "metadata": {},
   "outputs": [
    {
     "name": "stdout",
     "output_type": "stream",
     "text": [
      "Fitting 3 folds for each of 100 candidates, totalling 300 fits\n"
     ]
    },
    {
     "name": "stderr",
     "output_type": "stream",
     "text": [
      "[Parallel(n_jobs=-1)]: Using backend LokyBackend with 4 concurrent workers.\n",
      "[Parallel(n_jobs=-1)]: Done  33 tasks      | elapsed:  1.8min\n",
      "[Parallel(n_jobs=-1)]: Done 154 tasks      | elapsed:  4.6min\n",
      "[Parallel(n_jobs=-1)]: Done 300 out of 300 | elapsed:  7.6min finished\n"
     ]
    },
    {
     "data": {
      "text/plain": [
       "RandomizedSearchCV(cv=3, error_score='raise-deprecating',\n",
       "          estimator=RandomForestRegressor(bootstrap=True, criterion='mse', max_depth=None,\n",
       "           max_features='auto', max_leaf_nodes=None,\n",
       "           min_impurity_decrease=0.0, min_impurity_split=None,\n",
       "           min_samples_leaf=1, min_samples_split=2,\n",
       "           min_weight_fraction_leaf=0.0, n_estimators='warn', n_jobs=None,\n",
       "           oob_score=False, random_state=None, verbose=0, warm_start=False),\n",
       "          fit_params=None, iid='warn', n_iter=100, n_jobs=-1,\n",
       "          param_distributions={'n_estimators': [200, 400, 600, 800, 1000, 1200, 1400, 1600, 1800, 2000], 'max_features': ['auto', 'sqrt'], 'max_depth': [2, 7, 12, 18, 23, 28, 34, 39, 44, 50, None], 'min_samples_split': [2, 5, 10, 20], 'min_samples_leaf': [2, 4, 8, 10], 'bootstrap': [True, False]},\n",
       "          pre_dispatch='2*n_jobs', random_state=42, refit=True,\n",
       "          return_train_score='warn', scoring=None, verbose=2)"
      ]
     },
     "execution_count": 218,
     "metadata": {},
     "output_type": "execute_result"
    }
   ],
   "source": [
    "rf_model = RandomForestRegressor()\n",
    "\n",
    "# Random search of parameters, using 3 fold cross validation, \n",
    "# search across 100 different combinations, and use all available cores\n",
    "rf_random_M = RandomizedSearchCV(estimator = rf_model, param_distributions = random_grid, \n",
    "                               n_iter = 100, cv = 3, verbose=2, random_state=42, n_jobs = -1)\n",
    "rf_random_M.fit(X_M_train, y_M_train)"
   ]
  },
  {
   "cell_type": "code",
   "execution_count": 225,
   "metadata": {},
   "outputs": [
    {
     "name": "stdout",
     "output_type": "stream",
     "text": [
      "Accuracy of random forest classifier on train set (Male): 0.79\n",
      "Accuracy of random forest classifier on test set (Male): 0.70\n"
     ]
    }
   ],
   "source": [
    "from sklearn.metrics import accuracy_score\n",
    "best_rf_model_M = rf_random_M.best_estimator_\n",
    "y_train_pred_rf_M = best_rf_model_M.predict(X_M_train).round()\n",
    "y_test_pred_rf_M = best_rf_model_M.predict(X_M_test).round()\n",
    "\n",
    "print('Accuracy of random forest classifier on train set (Male): {:.2f}'.format(accuracy_score(y_M_train, y_train_pred_rf_M)))\n",
    "print('Accuracy of random forest classifier on test set (Male): {:.2f}'.format(accuracy_score(y_M_test, y_test_pred_rf_M)))"
   ]
  },
  {
   "cell_type": "code",
   "execution_count": 226,
   "metadata": {},
   "outputs": [
    {
     "data": {
      "image/png": "[encoded data removed]",
      "text/plain": [
       "<Figure size 432x288 with 1 Axes>"
      ]
     },
     "metadata": {
      "needs_background": "light"
     },
     "output_type": "display_data"
    }
   ],
   "source": [
    "importanceM = best_rf_model_M.feature_importances_\n",
    "\n",
    "# Sort feature importances in descending order\n",
    "indices = np.argsort(importanceM)[::-1]\n",
    "\n",
    "# Rearrange feature names so they match the sorted feature importances\n",
    "names_M = [df_X_M.columns[i] for i in indices]\n",
    "std = np.std([tree.feature_importances_ for tree in best_rf_model_M.estimators_], axis=0)\n",
    "\n",
    "# Create plot\n",
    "fig, ax = plt.subplots()\n",
    "#plt.figure()\n",
    "\n",
    "# Create plot title\n",
    "plt.title(\"Feature Importance\")\n",
    "\n",
    "# Add bars\n",
    "ax.barh(range(df_X_M.shape[1]), importanceM[indices], xerr=std[indices], align='center', color='lightblue', ecolor='black')\n",
    "\n",
    "# Add feature names as y-axis labels\n",
    "plt.yticks(range(df_X_M.shape[1]), names_M, rotation=0)\n",
    "\n",
    "# Show plot\n",
    "plt.show()"
   ]
  },
  {
   "cell_type": "markdown",
   "metadata": {},
   "source": [
    "**2.** Female actor data"
   ]
  },
  {
   "cell_type": "code",
   "execution_count": 227,
   "metadata": {},
   "outputs": [
    {
     "name": "stdout",
     "output_type": "stream",
     "text": [
      "Fitting 3 folds for each of 100 candidates, totalling 300 fits\n"
     ]
    },
    {
     "name": "stderr",
     "output_type": "stream",
     "text": [
      "[Parallel(n_jobs=-1)]: Using backend LokyBackend with 4 concurrent workers.\n",
      "[Parallel(n_jobs=-1)]: Done  33 tasks      | elapsed:  1.5min\n",
      "[Parallel(n_jobs=-1)]: Done 154 tasks      | elapsed:  3.5min\n",
      "[Parallel(n_jobs=-1)]: Done 300 out of 300 | elapsed:  5.8min finished\n"
     ]
    },
    {
     "data": {
      "text/plain": [
       "RandomizedSearchCV(cv=3, error_score='raise-deprecating',\n",
       "          estimator=RandomForestRegressor(bootstrap=True, criterion='mse', max_depth=None,\n",
       "           max_features='auto', max_leaf_nodes=None,\n",
       "           min_impurity_decrease=0.0, min_impurity_split=None,\n",
       "           min_samples_leaf=1, min_samples_split=2,\n",
       "           min_weight_fraction_leaf=0.0, n_estimators='warn', n_jobs=None,\n",
       "           oob_score=False, random_state=None, verbose=0, warm_start=False),\n",
       "          fit_params=None, iid='warn', n_iter=100, n_jobs=-1,\n",
       "          param_distributions={'n_estimators': [200, 400, 600, 800, 1000, 1200, 1400, 1600, 1800, 2000], 'max_features': ['auto', 'sqrt'], 'max_depth': [2, 7, 12, 18, 23, 28, 34, 39, 44, 50, None], 'min_samples_split': [2, 5, 10, 20], 'min_samples_leaf': [2, 4, 8, 10], 'bootstrap': [True, False]},\n",
       "          pre_dispatch='2*n_jobs', random_state=42, refit=True,\n",
       "          return_train_score='warn', scoring=None, verbose=2)"
      ]
     },
     "execution_count": 227,
     "metadata": {},
     "output_type": "execute_result"
    }
   ],
   "source": [
    "from sklearn.ensemble import RandomForestClassifier\n",
    "#rfF= RandomForestClassifier(n_estimators= 200, min_samples_split= 5, min_samples_leaf= 4, \n",
    "#                           max_features= 'auto', max_depth= 10, bootstrap= True)\n",
    "rf_random_F = RandomizedSearchCV(estimator = rf_model, param_distributions = random_grid, \n",
    "                               n_iter = 100, cv = 3, verbose=2, random_state=42, n_jobs = -1)\n",
    "\n",
    "rf_random_F.fit(X_F_train, y_F_train)"
   ]
  },
  {
   "cell_type": "code",
   "execution_count": 228,
   "metadata": {},
   "outputs": [
    {
     "name": "stdout",
     "output_type": "stream",
     "text": [
      "Best Parameters: {'n_estimators': 1600, 'min_samples_split': 20, 'min_samples_leaf': 4, 'max_features': 'sqrt', 'max_depth': None, 'bootstrap': True}\n",
      "Best Model: RandomForestRegressor(bootstrap=True, criterion='mse', max_depth=None,\n",
      "           max_features='sqrt', max_leaf_nodes=None,\n",
      "           min_impurity_decrease=0.0, min_impurity_split=None,\n",
      "           min_samples_leaf=4, min_samples_split=20,\n",
      "           min_weight_fraction_leaf=0.0, n_estimators=1600, n_jobs=None,\n",
      "           oob_score=False, random_state=None, verbose=0, warm_start=False)\n"
     ]
    }
   ],
   "source": [
    "print('Best Parameters:', rf_random_F.best_params_)\n",
    "print('Best Model:', rf_random_F.best_estimator_)"
   ]
  },
  {
   "cell_type": "code",
   "execution_count": 229,
   "metadata": {},
   "outputs": [
    {
     "name": "stdout",
     "output_type": "stream",
     "text": [
      "Accuracy of random forest classifier on train set (Male): 0.85\n",
      "Accuracy of random forest classifier on test set (Male): 0.76\n"
     ]
    }
   ],
   "source": [
    "from sklearn.metrics import accuracy_score\n",
    "best_rf_model_F = rf_random_F.best_estimator_\n",
    "y_train_pred_rf_F = best_rf_model_F.predict(X_F_train).round()\n",
    "y_test_pred_rf_F = best_rf_model_F.predict(X_F_test).round()\n",
    "\n",
    "print('Accuracy of random forest classifier on train set (Male): {:.2f}'.format(accuracy_score(y_F_train, y_train_pred_rf_F)))\n",
    "print('Accuracy of random forest classifier on test set (Male): {:.2f}'.format(accuracy_score(y_F_test, y_test_pred_rf_F)))"
   ]
  },
  {
   "cell_type": "code",
   "execution_count": 230,
   "metadata": {},
   "outputs": [
    {
     "data": {
      "image/png": "[encoded data removed]",
      "text/plain": [
       "<Figure size 432x288 with 1 Axes>"
      ]
     },
     "metadata": {
      "needs_background": "light"
     },
     "output_type": "display_data"
    }
   ],
   "source": [
    "importanceF = best_rf_model_F.feature_importances_\n",
    "\n",
    "# Sort feature importances in descending order\n",
    "indices = np.argsort(importanceF)[::-1]\n",
    "\n",
    "# Rearrange feature names so they match the sorted feature importances\n",
    "names_F = [df_X_F.columns[i] for i in indices]\n",
    "std = np.std([tree.feature_importances_ for tree in best_rf_model_F.estimators_], axis=0)\n",
    "\n",
    "# Create plot\n",
    "fig, ax = plt.subplots()\n",
    "#plt.figure()\n",
    "\n",
    "# Create plot title\n",
    "plt.title(\"Feature Importance\")\n",
    "\n",
    "# Add bars\n",
    "ax.barh(range(df_X_F.shape[1]), importanceF[indices], xerr=std[indices], align='center', color='lightblue', ecolor='black')\n",
    "\n",
    "# Add feature names as y-axis labels\n",
    "plt.yticks(range(df_X_F.shape[1]), names_F, rotation=0)\n",
    "\n",
    "# Show plot\n",
    "plt.show()"
   ]
  },
  {
   "cell_type": "code",
   "execution_count": null,
   "metadata": {},
   "outputs": [],
   "source": []
  }
 ],
 "metadata": {
  "kernelspec": {
   "display_name": "Python 3",
   "language": "python",
   "name": "python3"
  },
  "language_info": {
   "codemirror_mode": {
    "name": "ipython",
    "version": 3
   },
   "file_extension": ".py",
   "mimetype": "text/x-python",
   "name": "python",
   "nbconvert_exporter": "python",
   "pygments_lexer": "ipython3",
   "version": "3.6.8"
  }
 },
 "nbformat": 4,
 "nbformat_minor": 2
}
